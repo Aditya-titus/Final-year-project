{
  "nbformat": 4,
  "nbformat_minor": 0,
  "metadata": {
    "colab": {
      "provenance": []
    },
    "kernelspec": {
      "name": "python3",
      "display_name": "Python 3"
    },
    "language_info": {
      "name": "python"
    }
  },
  "cells": [
    {
      "cell_type": "markdown",
      "source": [
        "# Machine Learning - FYP"
      ],
      "metadata": {
        "id": "K8KkT24nHgy7"
      }
    },
    {
      "cell_type": "code",
      "source": [
        "import numpy as np\n",
        "import pandas as pd\n",
        "import matplotlib.pyplot as plt\n",
        "from sklearn.model_selection import train_test_split\n",
        "from sklearn.preprocessing import StandardScaler\n",
        "from sklearn.preprocessing import MinMaxScaler\n",
        "from tensorflow.keras.models import Sequential\n",
        "from tensorflow.keras.layers import LSTM, Dense\n",
        "from google.colab import drive"
      ],
      "metadata": {
        "id": "XrjgyXQuHkgd"
      },
      "execution_count": 11,
      "outputs": []
    },
    {
      "cell_type": "markdown",
      "source": [
        "####2) LSTM RNN architecture to predict timeseries data\n",
        "a) Forming sequences to predict data using only 1 parameter (univariate)"
      ],
      "metadata": {
        "id": "WNDqNnWTHj-5"
      }
    },
    {
      "cell_type": "markdown",
      "source": [
        "Reading the file and extracting the data"
      ],
      "metadata": {
        "id": "2uZl8JI5H1uX"
      }
    },
    {
      "cell_type": "code",
      "source": [
        "# Reading file\n",
        "\n",
        "drive.mount('/content/gdrive')\n",
        "data = pd.read_excel('/content/gdrive/MyDrive/Colab Notebooks/dataset.xlsx')\n",
        "\n",
        "# Reading dataset and separating input features (X) and target labels (y)\n",
        "X = data.iloc[:1000,5]  # Input features\n",
        "\n",
        "print(X)"
      ],
      "metadata": {
        "id": "V3bVwIx9HxX_",
        "colab": {
          "base_uri": "https://localhost:8080/"
        },
        "outputId": "431a7b57-ed6b-485f-ef24-0a4c44f0e471"
      },
      "execution_count": 12,
      "outputs": [
        {
          "output_type": "stream",
          "name": "stdout",
          "text": [
            "Drive already mounted at /content/gdrive; to attempt to forcibly remount, call drive.mount(\"/content/gdrive\", force_remount=True).\n",
            "0      2.430277\n",
            "1      2.428745\n",
            "2      2.428366\n",
            "3      2.427997\n",
            "4      2.427640\n",
            "         ...   \n",
            "995    2.344677\n",
            "996    2.344657\n",
            "997    2.344638\n",
            "998    2.344618\n",
            "999    2.344598\n",
            "Name: V_cur, Length: 1000, dtype: float64\n"
          ]
        }
      ]
    },
    {
      "cell_type": "markdown",
      "source": [
        "Scaling and training dataset"
      ],
      "metadata": {
        "id": "QZ4rUYqNID75"
      }
    },
    {
      "cell_type": "code",
      "source": [
        "# Prepare data into sequences\n",
        "sequence_length = 100  # Number of time steps per sequence\n",
        "sequences = []\n",
        "for i in range(len(X) - sequence_length):\n",
        "    sequences.append(X[i:i+sequence_length])\n",
        "\n",
        "sequences = np.array(sequences)\n",
        "\n",
        "# Split data into training and test sets and apply scaling\n",
        "X_train, X_test = train_test_split(sequences, test_size=0.2, shuffle=False)\n",
        "scaler = MinMaxScaler()\n",
        "X_train_scaled = scaler.fit_transform(X_train)\n",
        "# X_train_scaled = X_train # No scaling\n",
        "\n",
        "# print(X_train_scaled)\n"
      ],
      "metadata": {
        "id": "GYwSJu3IIGNF",
        "colab": {
          "base_uri": "https://localhost:8080/"
        },
        "outputId": "ff7dddee-3e9b-406b-ddaa-18b3af24cb8f"
      },
      "execution_count": 19,
      "outputs": [
        {
          "output_type": "stream",
          "name": "stdout",
          "text": [
            "[[1.00000000e+00 1.00000000e+00 1.00000000e+00 ... 1.00000000e+00\n",
            "  1.00000000e+00 1.00000000e+00]\n",
            " [9.80725928e-01 9.95146028e-01 9.95254924e-01 ... 9.94063232e-01\n",
            "  9.94181461e-01 9.94294345e-01]\n",
            " [9.75963987e-01 9.90422467e-01 9.90651214e-01 ... 9.88276914e-01\n",
            "  9.88506717e-01 9.88726280e-01]\n",
            " ...\n",
            " [6.29457936e-04 6.40853027e-04 6.43001376e-04 ... 7.99252098e-04\n",
            "  8.02957823e-04 8.06585397e-04]\n",
            " [3.14539752e-04 3.20234374e-04 3.21308407e-04 ... 3.99440504e-04\n",
            "  4.01293020e-04 4.03106483e-04]\n",
            " [0.00000000e+00 0.00000000e+00 0.00000000e+00 ... 0.00000000e+00\n",
            "  0.00000000e+00 0.00000000e+00]]\n"
          ]
        }
      ]
    },
    {
      "cell_type": "markdown",
      "source": [
        "Model"
      ],
      "metadata": {
        "id": "zRglRbPgIbK1"
      }
    },
    {
      "cell_type": "code",
      "source": [
        "# RNN model\n",
        "model = Sequential()\n",
        "model.add(LSTM(64, activation='relu', input_shape=(sequence_length, 1), return_sequences=True))\n",
        "model.add(LSTM(64, activation='relu', return_sequences=True))\n",
        "model.add(Dense(1))\n",
        "\n",
        "# Compile the model\n",
        "model.compile(optimizer='adam', loss='mean_squared_error')\n",
        "\n",
        "# Train the model\n",
        "X_train_reshaped = X_train_scaled.reshape(-1, sequence_length, 1)  # reshapes the training input data X_train_scaled into a 3D array with dimensions (batch_size, sequence_length, input_features)\n",
        "y_train = X_train_scaled[:, -1]  # Predict the next value in the sequence based on last value in each sequence\n",
        "model.fit(X_train_reshaped, y_train, epochs=50, batch_size=16)"
      ],
      "metadata": {
        "id": "CPG65jX0IbRy",
        "colab": {
          "base_uri": "https://localhost:8080/"
        },
        "outputId": "aa6a350e-184c-4faa-afed-14a59fb136db"
      },
      "execution_count": 14,
      "outputs": [
        {
          "output_type": "stream",
          "name": "stdout",
          "text": [
            "Epoch 1/50\n",
            "45/45 [==============================] - 4s 40ms/step - loss: 0.0598\n",
            "Epoch 2/50\n",
            "45/45 [==============================] - 2s 40ms/step - loss: 0.0526\n",
            "Epoch 3/50\n",
            "45/45 [==============================] - 2s 40ms/step - loss: 0.0524\n",
            "Epoch 4/50\n",
            "45/45 [==============================] - 2s 46ms/step - loss: 0.0518\n",
            "Epoch 5/50\n",
            "45/45 [==============================] - 3s 59ms/step - loss: 0.0512\n",
            "Epoch 6/50\n",
            "45/45 [==============================] - 3s 58ms/step - loss: 0.0517\n",
            "Epoch 7/50\n",
            "45/45 [==============================] - 2s 44ms/step - loss: 0.0517\n",
            "Epoch 8/50\n",
            "45/45 [==============================] - 2s 39ms/step - loss: 0.0515\n",
            "Epoch 9/50\n",
            "45/45 [==============================] - 2s 40ms/step - loss: 0.0516\n",
            "Epoch 10/50\n",
            "45/45 [==============================] - 2s 39ms/step - loss: 0.0515\n",
            "Epoch 11/50\n",
            "45/45 [==============================] - 2s 47ms/step - loss: 0.0515\n",
            "Epoch 12/50\n",
            "45/45 [==============================] - 3s 60ms/step - loss: 0.0513\n",
            "Epoch 13/50\n",
            "45/45 [==============================] - 2s 43ms/step - loss: 0.0510\n",
            "Epoch 14/50\n",
            "45/45 [==============================] - 2s 39ms/step - loss: 0.0510\n",
            "Epoch 15/50\n",
            "45/45 [==============================] - 2s 39ms/step - loss: 0.0510\n",
            "Epoch 16/50\n",
            "45/45 [==============================] - 2s 40ms/step - loss: 0.0512\n",
            "Epoch 17/50\n",
            "45/45 [==============================] - 2s 40ms/step - loss: 0.0511\n",
            "Epoch 18/50\n",
            "45/45 [==============================] - 2s 44ms/step - loss: 0.0511\n",
            "Epoch 19/50\n",
            "45/45 [==============================] - 3s 60ms/step - loss: 0.0509\n",
            "Epoch 20/50\n",
            "45/45 [==============================] - 2s 47ms/step - loss: 0.0511\n",
            "Epoch 21/50\n",
            "45/45 [==============================] - 2s 39ms/step - loss: 0.0513\n",
            "Epoch 22/50\n",
            "45/45 [==============================] - 2s 39ms/step - loss: 0.0510\n",
            "Epoch 23/50\n",
            "45/45 [==============================] - 2s 39ms/step - loss: 0.0514\n",
            "Epoch 24/50\n",
            "45/45 [==============================] - 2s 40ms/step - loss: 0.0510\n",
            "Epoch 25/50\n",
            "45/45 [==============================] - 2s 39ms/step - loss: 0.0511\n",
            "Epoch 26/50\n",
            "45/45 [==============================] - 3s 60ms/step - loss: 0.0512\n",
            "Epoch 27/50\n",
            "45/45 [==============================] - 2s 52ms/step - loss: 0.0511\n",
            "Epoch 28/50\n",
            "45/45 [==============================] - 2s 39ms/step - loss: 0.0512\n",
            "Epoch 29/50\n",
            "45/45 [==============================] - 2s 40ms/step - loss: 0.0515\n",
            "Epoch 30/50\n",
            "45/45 [==============================] - 2s 39ms/step - loss: 0.0510\n",
            "Epoch 31/50\n",
            "45/45 [==============================] - 2s 39ms/step - loss: 0.0511\n",
            "Epoch 32/50\n",
            "45/45 [==============================] - 2s 40ms/step - loss: 0.0509\n",
            "Epoch 33/50\n",
            "45/45 [==============================] - 3s 57ms/step - loss: 0.0509\n",
            "Epoch 34/50\n",
            "45/45 [==============================] - 3s 56ms/step - loss: 0.0510\n",
            "Epoch 35/50\n",
            "45/45 [==============================] - 2s 40ms/step - loss: 0.0510\n",
            "Epoch 36/50\n",
            "45/45 [==============================] - 2s 40ms/step - loss: 0.0512\n",
            "Epoch 37/50\n",
            "45/45 [==============================] - 2s 39ms/step - loss: 0.0509\n",
            "Epoch 38/50\n",
            "45/45 [==============================] - 2s 39ms/step - loss: 0.0510\n",
            "Epoch 39/50\n",
            "45/45 [==============================] - 2s 39ms/step - loss: 0.0510\n",
            "Epoch 40/50\n",
            "45/45 [==============================] - 2s 53ms/step - loss: 0.0508\n",
            "Epoch 41/50\n",
            "45/45 [==============================] - 3s 61ms/step - loss: 0.0507\n",
            "Epoch 42/50\n",
            "45/45 [==============================] - 2s 40ms/step - loss: 0.0510\n",
            "Epoch 43/50\n",
            "45/45 [==============================] - 2s 39ms/step - loss: 0.0508\n",
            "Epoch 44/50\n",
            "45/45 [==============================] - 2s 40ms/step - loss: 0.0509\n",
            "Epoch 45/50\n",
            "45/45 [==============================] - 2s 40ms/step - loss: 0.0508\n",
            "Epoch 46/50\n",
            "45/45 [==============================] - 2s 40ms/step - loss: 0.0512\n",
            "Epoch 47/50\n",
            "45/45 [==============================] - 2s 49ms/step - loss: 0.0510\n",
            "Epoch 48/50\n",
            "45/45 [==============================] - 3s 60ms/step - loss: 0.0510\n",
            "Epoch 49/50\n",
            "45/45 [==============================] - 2s 42ms/step - loss: 0.0508\n",
            "Epoch 50/50\n",
            "45/45 [==============================] - 2s 40ms/step - loss: 0.0511\n"
          ]
        },
        {
          "output_type": "execute_result",
          "data": {
            "text/plain": [
              "<keras.src.callbacks.History at 0x7ae785540370>"
            ]
          },
          "metadata": {},
          "execution_count": 14
        }
      ]
    },
    {
      "cell_type": "markdown",
      "source": [
        "Predicting next timesteps"
      ],
      "metadata": {
        "id": "a3W8-LaOKvOe"
      }
    },
    {
      "cell_type": "code",
      "source": [
        "# Predict the remaining data (adjust as needed)\n",
        "num_predictions = len(X) - len(X_train)\n",
        "predicted_data = []\n",
        "\n",
        "# Start with the last sequence from the training data\n",
        "current_sequence = X_train_scaled[-1, :, np.newaxis]\n",
        "\n",
        "for _ in range(num_predictions):\n",
        "    # Predict the next value in the sequence\n",
        "    next_value = model.predict(current_sequence[np.newaxis, :, :])\n",
        "\n",
        "    # Append the predicted value to the result\n",
        "    predicted_data.append(next_value[0, 0])\n",
        "\n",
        "    # Update the current sequence for the next prediction\n",
        "    current_sequence = np.roll(current_sequence, shift=-1, axis=0)\n",
        "    current_sequence[-1] = next_value[0, 0]\n",
        "\n",
        "print(predicted_data)"
      ],
      "metadata": {
        "id": "cqEArf_VK0bI",
        "colab": {
          "base_uri": "https://localhost:8080/"
        },
        "outputId": "3ddafb1c-32f7-4368-8574-523020935575"
      },
      "execution_count": 18,
      "outputs": [
        {
          "output_type": "stream",
          "name": "stdout",
          "text": [
            "1/1 [==============================] - 0s 18ms/step\n",
            "1/1 [==============================] - 0s 19ms/step\n",
            "1/1 [==============================] - 0s 18ms/step\n",
            "1/1 [==============================] - 0s 20ms/step\n",
            "1/1 [==============================] - 0s 19ms/step\n",
            "1/1 [==============================] - 0s 20ms/step\n",
            "1/1 [==============================] - 0s 21ms/step\n",
            "1/1 [==============================] - 0s 21ms/step\n",
            "1/1 [==============================] - 0s 21ms/step\n",
            "1/1 [==============================] - 0s 19ms/step\n",
            "1/1 [==============================] - 0s 65ms/step\n",
            "1/1 [==============================] - 0s 39ms/step\n",
            "1/1 [==============================] - 0s 57ms/step\n",
            "1/1 [==============================] - 0s 39ms/step\n",
            "1/1 [==============================] - 0s 53ms/step\n",
            "1/1 [==============================] - 0s 42ms/step\n",
            "1/1 [==============================] - 0s 37ms/step\n",
            "1/1 [==============================] - 0s 32ms/step\n",
            "1/1 [==============================] - 0s 27ms/step\n",
            "1/1 [==============================] - 0s 51ms/step\n",
            "1/1 [==============================] - 0s 34ms/step\n",
            "1/1 [==============================] - 0s 117ms/step\n",
            "1/1 [==============================] - 0s 64ms/step\n",
            "1/1 [==============================] - 0s 35ms/step\n",
            "1/1 [==============================] - 0s 49ms/step\n",
            "1/1 [==============================] - 0s 17ms/step\n",
            "1/1 [==============================] - 0s 18ms/step\n",
            "1/1 [==============================] - 0s 21ms/step\n",
            "1/1 [==============================] - 0s 19ms/step\n",
            "1/1 [==============================] - 0s 26ms/step\n",
            "1/1 [==============================] - 0s 24ms/step\n",
            "1/1 [==============================] - 0s 27ms/step\n",
            "1/1 [==============================] - 0s 22ms/step\n",
            "1/1 [==============================] - 0s 20ms/step\n",
            "1/1 [==============================] - 0s 23ms/step\n",
            "1/1 [==============================] - 0s 18ms/step\n",
            "1/1 [==============================] - 0s 23ms/step\n",
            "1/1 [==============================] - 0s 18ms/step\n",
            "1/1 [==============================] - 0s 21ms/step\n",
            "1/1 [==============================] - 0s 19ms/step\n",
            "1/1 [==============================] - 0s 20ms/step\n",
            "1/1 [==============================] - 0s 20ms/step\n",
            "1/1 [==============================] - 0s 21ms/step\n",
            "1/1 [==============================] - 0s 18ms/step\n",
            "1/1 [==============================] - 0s 19ms/step\n",
            "1/1 [==============================] - 0s 21ms/step\n",
            "1/1 [==============================] - 0s 20ms/step\n",
            "1/1 [==============================] - 0s 18ms/step\n",
            "1/1 [==============================] - 0s 19ms/step\n",
            "1/1 [==============================] - 0s 19ms/step\n",
            "1/1 [==============================] - 0s 19ms/step\n",
            "1/1 [==============================] - 0s 19ms/step\n",
            "1/1 [==============================] - 0s 22ms/step\n",
            "1/1 [==============================] - 0s 18ms/step\n",
            "1/1 [==============================] - 0s 25ms/step\n",
            "1/1 [==============================] - 0s 19ms/step\n",
            "1/1 [==============================] - 0s 20ms/step\n",
            "1/1 [==============================] - 0s 19ms/step\n",
            "1/1 [==============================] - 0s 21ms/step\n",
            "1/1 [==============================] - 0s 23ms/step\n",
            "1/1 [==============================] - 0s 23ms/step\n",
            "1/1 [==============================] - 0s 19ms/step\n",
            "1/1 [==============================] - 0s 19ms/step\n",
            "1/1 [==============================] - 0s 20ms/step\n",
            "1/1 [==============================] - 0s 22ms/step\n",
            "1/1 [==============================] - 0s 21ms/step\n",
            "1/1 [==============================] - 0s 21ms/step\n",
            "1/1 [==============================] - 0s 20ms/step\n",
            "1/1 [==============================] - 0s 19ms/step\n",
            "1/1 [==============================] - 0s 19ms/step\n",
            "1/1 [==============================] - 0s 20ms/step\n",
            "1/1 [==============================] - 0s 19ms/step\n",
            "1/1 [==============================] - 0s 19ms/step\n",
            "1/1 [==============================] - 0s 21ms/step\n",
            "1/1 [==============================] - 0s 18ms/step\n",
            "1/1 [==============================] - 0s 18ms/step\n",
            "1/1 [==============================] - 0s 19ms/step\n",
            "1/1 [==============================] - 0s 20ms/step\n",
            "1/1 [==============================] - 0s 18ms/step\n",
            "1/1 [==============================] - 0s 24ms/step\n",
            "1/1 [==============================] - 0s 18ms/step\n",
            "1/1 [==============================] - 0s 20ms/step\n",
            "1/1 [==============================] - 0s 22ms/step\n",
            "1/1 [==============================] - 0s 24ms/step\n",
            "1/1 [==============================] - 0s 18ms/step\n",
            "1/1 [==============================] - 0s 21ms/step\n",
            "1/1 [==============================] - 0s 22ms/step\n",
            "1/1 [==============================] - 0s 19ms/step\n",
            "1/1 [==============================] - 0s 28ms/step\n",
            "1/1 [==============================] - 0s 22ms/step\n",
            "1/1 [==============================] - 0s 20ms/step\n",
            "1/1 [==============================] - 0s 19ms/step\n",
            "1/1 [==============================] - 0s 19ms/step\n",
            "1/1 [==============================] - 0s 20ms/step\n",
            "1/1 [==============================] - 0s 19ms/step\n",
            "1/1 [==============================] - 0s 18ms/step\n",
            "1/1 [==============================] - 0s 19ms/step\n",
            "1/1 [==============================] - 0s 21ms/step\n",
            "1/1 [==============================] - 0s 19ms/step\n",
            "1/1 [==============================] - 0s 18ms/step\n",
            "1/1 [==============================] - 0s 22ms/step\n",
            "1/1 [==============================] - 0s 19ms/step\n",
            "1/1 [==============================] - 0s 19ms/step\n",
            "1/1 [==============================] - 0s 19ms/step\n",
            "1/1 [==============================] - 0s 22ms/step\n",
            "1/1 [==============================] - 0s 19ms/step\n",
            "1/1 [==============================] - 0s 21ms/step\n",
            "1/1 [==============================] - 0s 22ms/step\n",
            "1/1 [==============================] - 0s 18ms/step\n",
            "1/1 [==============================] - 0s 21ms/step\n",
            "1/1 [==============================] - 0s 19ms/step\n",
            "1/1 [==============================] - 0s 17ms/step\n",
            "1/1 [==============================] - 0s 27ms/step\n",
            "1/1 [==============================] - 0s 19ms/step\n",
            "1/1 [==============================] - 0s 20ms/step\n",
            "1/1 [==============================] - 0s 20ms/step\n",
            "1/1 [==============================] - 0s 20ms/step\n",
            "1/1 [==============================] - 0s 18ms/step\n",
            "1/1 [==============================] - 0s 22ms/step\n",
            "1/1 [==============================] - 0s 37ms/step\n",
            "1/1 [==============================] - 0s 31ms/step\n",
            "1/1 [==============================] - 0s 25ms/step\n",
            "1/1 [==============================] - 0s 30ms/step\n",
            "1/1 [==============================] - 0s 25ms/step\n",
            "1/1 [==============================] - 0s 25ms/step\n",
            "1/1 [==============================] - 0s 27ms/step\n",
            "1/1 [==============================] - 0s 31ms/step\n",
            "1/1 [==============================] - 0s 28ms/step\n",
            "1/1 [==============================] - 0s 27ms/step\n",
            "1/1 [==============================] - 0s 38ms/step\n",
            "1/1 [==============================] - 0s 26ms/step\n",
            "1/1 [==============================] - 0s 26ms/step\n",
            "1/1 [==============================] - 0s 34ms/step\n",
            "1/1 [==============================] - 0s 26ms/step\n",
            "1/1 [==============================] - 0s 25ms/step\n",
            "1/1 [==============================] - 0s 25ms/step\n",
            "1/1 [==============================] - 0s 25ms/step\n",
            "1/1 [==============================] - 0s 25ms/step\n",
            "1/1 [==============================] - 0s 28ms/step\n",
            "1/1 [==============================] - 0s 30ms/step\n",
            "1/1 [==============================] - 0s 27ms/step\n",
            "1/1 [==============================] - 0s 28ms/step\n",
            "1/1 [==============================] - 0s 27ms/step\n",
            "1/1 [==============================] - 0s 26ms/step\n",
            "1/1 [==============================] - 0s 36ms/step\n",
            "1/1 [==============================] - 0s 35ms/step\n",
            "1/1 [==============================] - 0s 29ms/step\n",
            "1/1 [==============================] - 0s 28ms/step\n",
            "1/1 [==============================] - 0s 30ms/step\n",
            "1/1 [==============================] - 0s 26ms/step\n",
            "1/1 [==============================] - 0s 28ms/step\n",
            "1/1 [==============================] - 0s 29ms/step\n",
            "1/1 [==============================] - 0s 27ms/step\n",
            "1/1 [==============================] - 0s 27ms/step\n",
            "1/1 [==============================] - 0s 26ms/step\n",
            "1/1 [==============================] - 0s 28ms/step\n",
            "1/1 [==============================] - 0s 24ms/step\n",
            "1/1 [==============================] - 0s 28ms/step\n",
            "1/1 [==============================] - 0s 35ms/step\n",
            "1/1 [==============================] - 0s 28ms/step\n",
            "1/1 [==============================] - 0s 29ms/step\n",
            "1/1 [==============================] - 0s 27ms/step\n",
            "1/1 [==============================] - 0s 27ms/step\n",
            "1/1 [==============================] - 0s 25ms/step\n",
            "1/1 [==============================] - 0s 25ms/step\n",
            "1/1 [==============================] - 0s 28ms/step\n",
            "1/1 [==============================] - 0s 30ms/step\n",
            "1/1 [==============================] - 0s 29ms/step\n",
            "1/1 [==============================] - 0s 27ms/step\n",
            "1/1 [==============================] - 0s 25ms/step\n",
            "1/1 [==============================] - 0s 32ms/step\n",
            "1/1 [==============================] - 0s 27ms/step\n",
            "1/1 [==============================] - 0s 28ms/step\n",
            "1/1 [==============================] - 0s 30ms/step\n",
            "1/1 [==============================] - 0s 29ms/step\n",
            "1/1 [==============================] - 0s 27ms/step\n",
            "1/1 [==============================] - 0s 26ms/step\n",
            "1/1 [==============================] - 0s 28ms/step\n",
            "1/1 [==============================] - 0s 20ms/step\n",
            "1/1 [==============================] - 0s 21ms/step\n",
            "1/1 [==============================] - 0s 24ms/step\n",
            "1/1 [==============================] - 0s 20ms/step\n",
            "1/1 [==============================] - 0s 19ms/step\n",
            "1/1 [==============================] - 0s 22ms/step\n",
            "1/1 [==============================] - 0s 26ms/step\n",
            "1/1 [==============================] - 0s 22ms/step\n",
            "1/1 [==============================] - 0s 21ms/step\n",
            "1/1 [==============================] - 0s 17ms/step\n",
            "1/1 [==============================] - 0s 20ms/step\n",
            "1/1 [==============================] - 0s 20ms/step\n",
            "1/1 [==============================] - 0s 20ms/step\n",
            "1/1 [==============================] - 0s 28ms/step\n",
            "1/1 [==============================] - 0s 20ms/step\n",
            "1/1 [==============================] - 0s 20ms/step\n",
            "1/1 [==============================] - 0s 18ms/step\n",
            "1/1 [==============================] - 0s 20ms/step\n",
            "1/1 [==============================] - 0s 22ms/step\n",
            "1/1 [==============================] - 0s 35ms/step\n",
            "1/1 [==============================] - 0s 20ms/step\n",
            "1/1 [==============================] - 0s 22ms/step\n",
            "1/1 [==============================] - 0s 20ms/step\n",
            "1/1 [==============================] - 0s 20ms/step\n",
            "1/1 [==============================] - 0s 21ms/step\n",
            "1/1 [==============================] - 0s 20ms/step\n",
            "1/1 [==============================] - 0s 20ms/step\n",
            "1/1 [==============================] - 0s 25ms/step\n",
            "1/1 [==============================] - 0s 19ms/step\n",
            "1/1 [==============================] - 0s 19ms/step\n",
            "1/1 [==============================] - 0s 20ms/step\n",
            "1/1 [==============================] - 0s 25ms/step\n",
            "1/1 [==============================] - 0s 21ms/step\n",
            "1/1 [==============================] - 0s 22ms/step\n",
            "1/1 [==============================] - 0s 20ms/step\n",
            "1/1 [==============================] - 0s 20ms/step\n",
            "1/1 [==============================] - 0s 19ms/step\n",
            "1/1 [==============================] - 0s 24ms/step\n",
            "1/1 [==============================] - 0s 22ms/step\n",
            "1/1 [==============================] - 0s 24ms/step\n",
            "1/1 [==============================] - 0s 18ms/step\n",
            "1/1 [==============================] - 0s 20ms/step\n",
            "1/1 [==============================] - 0s 22ms/step\n",
            "1/1 [==============================] - 0s 21ms/step\n",
            "1/1 [==============================] - 0s 21ms/step\n",
            "1/1 [==============================] - 0s 19ms/step\n",
            "1/1 [==============================] - 0s 18ms/step\n",
            "1/1 [==============================] - 0s 20ms/step\n",
            "1/1 [==============================] - 0s 20ms/step\n",
            "1/1 [==============================] - 0s 23ms/step\n",
            "1/1 [==============================] - 0s 23ms/step\n",
            "1/1 [==============================] - 0s 20ms/step\n",
            "1/1 [==============================] - 0s 20ms/step\n",
            "1/1 [==============================] - 0s 21ms/step\n",
            "1/1 [==============================] - 0s 21ms/step\n",
            "1/1 [==============================] - 0s 19ms/step\n",
            "1/1 [==============================] - 0s 22ms/step\n",
            "1/1 [==============================] - 0s 21ms/step\n",
            "1/1 [==============================] - 0s 21ms/step\n",
            "1/1 [==============================] - 0s 19ms/step\n",
            "1/1 [==============================] - 0s 20ms/step\n",
            "1/1 [==============================] - 0s 22ms/step\n",
            "1/1 [==============================] - 0s 22ms/step\n",
            "1/1 [==============================] - 0s 20ms/step\n",
            "1/1 [==============================] - 0s 19ms/step\n",
            "1/1 [==============================] - 0s 20ms/step\n",
            "1/1 [==============================] - 0s 19ms/step\n",
            "1/1 [==============================] - 0s 22ms/step\n",
            "1/1 [==============================] - 0s 20ms/step\n",
            "1/1 [==============================] - 0s 27ms/step\n",
            "1/1 [==============================] - 0s 19ms/step\n",
            "1/1 [==============================] - 0s 20ms/step\n",
            "1/1 [==============================] - 0s 21ms/step\n",
            "1/1 [==============================] - 0s 24ms/step\n",
            "1/1 [==============================] - 0s 19ms/step\n",
            "1/1 [==============================] - 0s 23ms/step\n",
            "1/1 [==============================] - 0s 20ms/step\n",
            "1/1 [==============================] - 0s 22ms/step\n",
            "1/1 [==============================] - 0s 21ms/step\n",
            "1/1 [==============================] - 0s 19ms/step\n",
            "1/1 [==============================] - 0s 19ms/step\n",
            "1/1 [==============================] - 0s 19ms/step\n",
            "1/1 [==============================] - 0s 21ms/step\n",
            "1/1 [==============================] - 0s 19ms/step\n",
            "1/1 [==============================] - 0s 19ms/step\n",
            "1/1 [==============================] - 0s 19ms/step\n",
            "1/1 [==============================] - 0s 19ms/step\n",
            "1/1 [==============================] - 0s 19ms/step\n",
            "1/1 [==============================] - 0s 26ms/step\n",
            "1/1 [==============================] - 0s 20ms/step\n",
            "1/1 [==============================] - 0s 21ms/step\n",
            "1/1 [==============================] - 0s 18ms/step\n",
            "1/1 [==============================] - 0s 19ms/step\n",
            "1/1 [==============================] - 0s 23ms/step\n",
            "1/1 [==============================] - 0s 18ms/step\n",
            "1/1 [==============================] - 0s 24ms/step\n",
            "1/1 [==============================] - 0s 20ms/step\n",
            "1/1 [==============================] - 0s 19ms/step\n",
            "1/1 [==============================] - 0s 19ms/step\n",
            "1/1 [==============================] - 0s 22ms/step\n",
            "1/1 [==============================] - 0s 19ms/step\n",
            "1/1 [==============================] - 0s 19ms/step\n",
            "[array([0.1875824], dtype=float32), array([0.1875824], dtype=float32), array([0.1875824], dtype=float32), array([0.1875824], dtype=float32), array([0.1875824], dtype=float32), array([0.1875824], dtype=float32), array([0.1875824], dtype=float32), array([0.1875824], dtype=float32), array([0.1875824], dtype=float32), array([0.1875824], dtype=float32), array([0.1875824], dtype=float32), array([0.1875824], dtype=float32), array([0.1875824], dtype=float32), array([0.1875824], dtype=float32), array([0.1875824], dtype=float32), array([0.1875824], dtype=float32), array([0.1875824], dtype=float32), array([0.1875824], dtype=float32), array([0.1875824], dtype=float32), array([0.1875824], dtype=float32), array([0.1875824], dtype=float32), array([0.1875824], dtype=float32), array([0.1875824], dtype=float32), array([0.1875824], dtype=float32), array([0.1875824], dtype=float32), array([0.1875824], dtype=float32), array([0.1875824], dtype=float32), array([0.1875824], dtype=float32), array([0.1875824], dtype=float32), array([0.1875824], dtype=float32), array([0.1875824], dtype=float32), array([0.1875824], dtype=float32), array([0.1875824], dtype=float32), array([0.1875824], dtype=float32), array([0.1875824], dtype=float32), array([0.1875824], dtype=float32), array([0.1875824], dtype=float32), array([0.1875824], dtype=float32), array([0.1875824], dtype=float32), array([0.1875824], dtype=float32), array([0.1875824], dtype=float32), array([0.1875824], dtype=float32), array([0.1875824], dtype=float32), array([0.1875824], dtype=float32), array([0.1875824], dtype=float32), array([0.1875824], dtype=float32), array([0.1875824], dtype=float32), array([0.1875824], dtype=float32), array([0.1875824], dtype=float32), array([0.1875824], dtype=float32), array([0.1875824], dtype=float32), array([0.1875824], dtype=float32), array([0.1875824], dtype=float32), array([0.1875824], dtype=float32), array([0.1875824], dtype=float32), array([0.1875824], dtype=float32), array([0.1875824], dtype=float32), array([0.1875824], dtype=float32), array([0.1875824], dtype=float32), array([0.1875824], dtype=float32), array([0.1875824], dtype=float32), array([0.1875824], dtype=float32), array([0.1875824], dtype=float32), array([0.1875824], dtype=float32), array([0.1875824], dtype=float32), array([0.1875824], dtype=float32), array([0.1875824], dtype=float32), array([0.1875824], dtype=float32), array([0.1875824], dtype=float32), array([0.1875824], dtype=float32), array([0.1875824], dtype=float32), array([0.1875824], dtype=float32), array([0.1875824], dtype=float32), array([0.1875824], dtype=float32), array([0.1875824], dtype=float32), array([0.1875824], dtype=float32), array([0.1875824], dtype=float32), array([0.1875824], dtype=float32), array([0.1875824], dtype=float32), array([0.1875824], dtype=float32), array([0.1875824], dtype=float32), array([0.1875824], dtype=float32), array([0.1875824], dtype=float32), array([0.1875824], dtype=float32), array([0.1875824], dtype=float32), array([0.1875824], dtype=float32), array([0.1875824], dtype=float32), array([0.1875824], dtype=float32), array([0.1875824], dtype=float32), array([0.1875824], dtype=float32), array([0.1875824], dtype=float32), array([0.1875824], dtype=float32), array([0.1875824], dtype=float32), array([0.1875824], dtype=float32), array([0.1875824], dtype=float32), array([0.1875824], dtype=float32), array([0.1875824], dtype=float32), array([0.1875824], dtype=float32), array([0.1875824], dtype=float32), array([0.1875824], dtype=float32), array([0.19089347], dtype=float32), array([0.19089347], dtype=float32), array([0.19089347], dtype=float32), array([0.19089347], dtype=float32), array([0.19089347], dtype=float32), array([0.19089347], dtype=float32), array([0.19089347], dtype=float32), array([0.19089347], dtype=float32), array([0.19089347], dtype=float32), array([0.19089347], dtype=float32), array([0.19089347], dtype=float32), array([0.19089347], dtype=float32), array([0.19089347], dtype=float32), array([0.19089347], dtype=float32), array([0.19089347], dtype=float32), array([0.19089347], dtype=float32), array([0.19089347], dtype=float32), array([0.19089347], dtype=float32), array([0.19089347], dtype=float32), array([0.19089347], dtype=float32), array([0.19089347], dtype=float32), array([0.19089347], dtype=float32), array([0.19089347], dtype=float32), array([0.19089347], dtype=float32), array([0.19089347], dtype=float32), array([0.19089347], dtype=float32), array([0.19089347], dtype=float32), array([0.19089347], dtype=float32), array([0.19089347], dtype=float32), array([0.19089347], dtype=float32), array([0.19089347], dtype=float32), array([0.19089347], dtype=float32), array([0.19089347], dtype=float32), array([0.19089347], dtype=float32), array([0.19089347], dtype=float32), array([0.19089347], dtype=float32), array([0.19089347], dtype=float32), array([0.19089347], dtype=float32), array([0.19089347], dtype=float32), array([0.19089347], dtype=float32), array([0.19089347], dtype=float32), array([0.19089347], dtype=float32), array([0.19089347], dtype=float32), array([0.19089347], dtype=float32), array([0.19089347], dtype=float32), array([0.19089347], dtype=float32), array([0.19089347], dtype=float32), array([0.19089347], dtype=float32), array([0.19089347], dtype=float32), array([0.19089347], dtype=float32), array([0.19089347], dtype=float32), array([0.19089347], dtype=float32), array([0.19089347], dtype=float32), array([0.19089347], dtype=float32), array([0.19089347], dtype=float32), array([0.19089347], dtype=float32), array([0.19089347], dtype=float32), array([0.19089347], dtype=float32), array([0.19089347], dtype=float32), array([0.19089347], dtype=float32), array([0.19089347], dtype=float32), array([0.19089347], dtype=float32), array([0.19089347], dtype=float32), array([0.19089347], dtype=float32), array([0.19089347], dtype=float32), array([0.19089347], dtype=float32), array([0.19089347], dtype=float32), array([0.19089347], dtype=float32), array([0.19089347], dtype=float32), array([0.19089347], dtype=float32), array([0.19089347], dtype=float32), array([0.19089347], dtype=float32), array([0.19089347], dtype=float32), array([0.19089347], dtype=float32), array([0.19089347], dtype=float32), array([0.19089347], dtype=float32), array([0.19089347], dtype=float32), array([0.19089347], dtype=float32), array([0.19089347], dtype=float32), array([0.19089347], dtype=float32), array([0.19089347], dtype=float32), array([0.19089347], dtype=float32), array([0.19089347], dtype=float32), array([0.19089347], dtype=float32), array([0.19089347], dtype=float32), array([0.19089347], dtype=float32), array([0.19089347], dtype=float32), array([0.19089347], dtype=float32), array([0.19089347], dtype=float32), array([0.19089347], dtype=float32), array([0.19089347], dtype=float32), array([0.19089347], dtype=float32), array([0.19089347], dtype=float32), array([0.19089347], dtype=float32), array([0.19089347], dtype=float32), array([0.19089347], dtype=float32), array([0.19089347], dtype=float32), array([0.19089347], dtype=float32), array([0.19089347], dtype=float32), array([0.19089347], dtype=float32), array([0.19095817], dtype=float32), array([0.19095817], dtype=float32), array([0.19095817], dtype=float32), array([0.19095817], dtype=float32), array([0.19095817], dtype=float32), array([0.19095817], dtype=float32), array([0.19095817], dtype=float32), array([0.19095817], dtype=float32), array([0.19095817], dtype=float32), array([0.19095817], dtype=float32), array([0.19095817], dtype=float32), array([0.19095817], dtype=float32), array([0.19095817], dtype=float32), array([0.19095817], dtype=float32), array([0.19095817], dtype=float32), array([0.19095817], dtype=float32), array([0.19095817], dtype=float32), array([0.19095817], dtype=float32), array([0.19095817], dtype=float32), array([0.19095817], dtype=float32), array([0.19095817], dtype=float32), array([0.19095817], dtype=float32), array([0.19095817], dtype=float32), array([0.19095817], dtype=float32), array([0.19095817], dtype=float32), array([0.19095817], dtype=float32), array([0.19095817], dtype=float32), array([0.19095817], dtype=float32), array([0.19095817], dtype=float32), array([0.19095817], dtype=float32), array([0.19095817], dtype=float32), array([0.19095817], dtype=float32), array([0.19095817], dtype=float32), array([0.19095817], dtype=float32), array([0.19095817], dtype=float32), array([0.19095817], dtype=float32), array([0.19095817], dtype=float32), array([0.19095817], dtype=float32), array([0.19095817], dtype=float32), array([0.19095817], dtype=float32), array([0.19095817], dtype=float32), array([0.19095817], dtype=float32), array([0.19095817], dtype=float32), array([0.19095817], dtype=float32), array([0.19095817], dtype=float32), array([0.19095817], dtype=float32), array([0.19095817], dtype=float32), array([0.19095817], dtype=float32), array([0.19095817], dtype=float32), array([0.19095817], dtype=float32), array([0.19095817], dtype=float32), array([0.19095817], dtype=float32), array([0.19095817], dtype=float32), array([0.19095817], dtype=float32), array([0.19095817], dtype=float32), array([0.19095817], dtype=float32), array([0.19095817], dtype=float32), array([0.19095817], dtype=float32), array([0.19095817], dtype=float32), array([0.19095817], dtype=float32), array([0.19095817], dtype=float32), array([0.19095817], dtype=float32), array([0.19095817], dtype=float32), array([0.19095817], dtype=float32), array([0.19095817], dtype=float32), array([0.19095817], dtype=float32), array([0.19095817], dtype=float32), array([0.19095817], dtype=float32), array([0.19095817], dtype=float32), array([0.19095817], dtype=float32), array([0.19095817], dtype=float32), array([0.19095817], dtype=float32), array([0.19095817], dtype=float32), array([0.19095817], dtype=float32), array([0.19095817], dtype=float32), array([0.19095817], dtype=float32), array([0.19095817], dtype=float32), array([0.19095817], dtype=float32), array([0.19095817], dtype=float32), array([0.19095817], dtype=float32)]\n"
          ]
        }
      ]
    },
    {
      "cell_type": "markdown",
      "source": [
        "Plotting"
      ],
      "metadata": {
        "id": "y8c6CF8-K1Df"
      }
    },
    {
      "cell_type": "code",
      "source": [
        "# Visualize the predicted time series data\n",
        "plt.plot(X, label='Original Data')\n",
        "plt.plot(range(len(X_train), len(X_train)+num_predictions), predicted_data, label='Predicted Data', linestyle='--')\n",
        "plt.xlabel('Time Steps')\n",
        "plt.ylabel('Values')\n",
        "plt.legend()\n",
        "plt.title('Predicted Time Series Data')\n",
        "plt.show()"
      ],
      "metadata": {
        "id": "jeH2Cf2WK2_8",
        "colab": {
          "base_uri": "https://localhost:8080/",
          "height": 472
        },
        "outputId": "7e719ccc-a7ce-43d0-affa-c19f5663c707"
      },
      "execution_count": 17,
      "outputs": [
        {
          "output_type": "display_data",
          "data": {
            "text/plain": [
              "<Figure size 640x480 with 1 Axes>"
            ],
            "image/png": "[encoded data removed]"
          },
          "metadata": {}
        }
      ]
    }
  ]
}