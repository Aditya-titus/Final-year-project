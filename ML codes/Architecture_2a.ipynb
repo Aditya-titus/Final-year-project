{
  "nbformat": 4,
  "nbformat_minor": 0,
  "metadata": {
    "colab": {
      "provenance": []
    },
    "kernelspec": {
      "name": "python3",
      "display_name": "Python 3"
    },
    "language_info": {
      "name": "python"
    }
  },
  "cells": [
    {
      "cell_type": "markdown",
      "source": [
        "# Machine Learning - FYP"
      ],
      "metadata": {
        "id": "K8KkT24nHgy7"
      }
    },
    {
      "cell_type": "code",
      "source": [
        "import numpy as np\n",
        "import pandas as pd\n",
        "import matplotlib.pyplot as plt\n",
        "from sklearn.model_selection import train_test_split\n",
        "from sklearn.preprocessing import StandardScaler\n",
        "from sklearn.preprocessing import MinMaxScaler\n",
        "from tensorflow.keras.models import Sequential\n",
        "from tensorflow.keras.layers import LSTM, Dense\n",
        "from google.colab import drive"
      ],
      "metadata": {
        "id": "XrjgyXQuHkgd"
      },
      "execution_count": 11,
      "outputs": []
    },
    {
      "cell_type": "markdown",
      "source": [
        "####2) LSTM RNN architecture to predict timeseries data\n",
        "a) Forming sequences to predict data using only 1 parameter (univariate)"
      ],
      "metadata": {
        "id": "WNDqNnWTHj-5"
      }
    },
    {
      "cell_type": "markdown",
      "source": [
        "Reading the file and extracting the data"
      ],
      "metadata": {
        "id": "2uZl8JI5H1uX"
      }
    },
    {
      "cell_type": "code",
      "source": [
        "# Reading file\n",
        "\n",
        "drive.mount('/content/gdrive')\n",
        "data = pd.read_excel('/content/gdrive/MyDrive/Colab Notebooks/dataset.xlsx')\n",
        "\n",
        "# Reading dataset and separating input features (X) and target labels (y)\n",
        "X = data.iloc[:1000,5]  # Input features\n",
        "\n",
        "print(X)"
      ],
      "metadata": {
        "id": "V3bVwIx9HxX_",
        "colab": {
          "base_uri": "https://localhost:8080/"
        },
        "outputId": "431a7b57-ed6b-485f-ef24-0a4c44f0e471"
      },
      "execution_count": 12,
      "outputs": [
        {
          "output_type": "stream",
          "name": "stdout",
          "text": [
            "Drive already mounted at /content/gdrive; to attempt to forcibly remount, call drive.mount(\"/content/gdrive\", force_remount=True).\n",
            "0      2.430277\n",
            "1      2.428745\n",
            "2      2.428366\n",
            "3      2.427997\n",
            "4      2.427640\n",
            "         ...   \n",
            "995    2.344677\n",
            "996    2.344657\n",
            "997    2.344638\n",
            "998    2.344618\n",
            "999    2.344598\n",
            "Name: V_cur, Length: 1000, dtype: float64\n"
          ]
        }
      ]
    },
    {
      "cell_type": "markdown",
      "source": [
        "Scaling and training dataset"
      ],
      "metadata": {
        "id": "QZ4rUYqNID75"
      }
    },
    {
      "cell_type": "code",
      "source": [
        "# Prepare data into sequences\n",
        "sequence_length = 100  # Number of time steps per sequence\n",
        "sequences = []\n",
        "for i in range(len(X) - sequence_length):\n",
        "    sequences.append(X[i:i+sequence_length])\n",
        "\n",
        "sequences = np.array(sequences)\n",
        "\n",
        "# Each scaled sequences\n",
        "scaled_sequences = []\n",
        "scaler = MinMaxScaler()\n",
        "\n",
        "# Scale each sequence individually\n",
        "for sequence in sequences:\n",
        "    sequence_scaled = scaler.fit_transform(sequence.reshape(-1, 1))\n",
        "    scaled_sequences.append(sequence_scaled)\n",
        "\n",
        "scaled_sequences = np.array(scaled_sequences)\n",
        "\n",
        "print(scaled_sequences)\n",
        "\n",
        "# Split data into training and test sets and apply scaling\n",
        "X_train, X_test = train_test_split(scaled_sequences, test_size=0.2, shuffle=False)\n",
        "# X_train_scaled = X_train # No scaling\n",
        "\n",
        "# print(X_train_scaled)\n"
      ],
      "metadata": {
        "id": "GYwSJu3IIGNF",
        "colab": {
          "base_uri": "https://localhost:8080/"
        },
        "outputId": "caf81a69-f866-45a3-987b-eb1e3cd95cab"
      },
      "execution_count": 26,
      "outputs": [
        {
          "output_type": "stream",
          "name": "stdout",
          "text": [
            "[[[1.        ]\n",
            "  [0.94100364]\n",
            "  [0.92642773]\n",
            "  ...\n",
            "  [0.02549682]\n",
            "  [0.0125848 ]\n",
            "  [0.        ]]\n",
            "\n",
            " [[1.        ]\n",
            "  [0.98470969]\n",
            "  [0.96983017]\n",
            "  ...\n",
            "  [0.02607697]\n",
            "  [0.01287536]\n",
            "  [0.        ]]\n",
            "\n",
            " [[1.        ]\n",
            "  [0.98507982]\n",
            "  [0.97060415]\n",
            "  ...\n",
            "  [0.02550975]\n",
            "  [0.01259921]\n",
            "  [0.        ]]\n",
            "\n",
            " ...\n",
            "\n",
            " [[1.        ]\n",
            "  [0.98956983]\n",
            "  [0.97914726]\n",
            "  ...\n",
            "  [0.01963051]\n",
            "  [0.00981271]\n",
            "  [0.        ]]\n",
            "\n",
            " [[1.        ]\n",
            "  [0.98957094]\n",
            "  [0.97914946]\n",
            "  ...\n",
            "  [0.01963256]\n",
            "  [0.00981374]\n",
            "  [0.        ]]\n",
            "\n",
            " [[1.        ]\n",
            "  [0.98957205]\n",
            "  [0.97915165]\n",
            "  ...\n",
            "  [0.01963462]\n",
            "  [0.00981478]\n",
            "  [0.        ]]]\n"
          ]
        }
      ]
    },
    {
      "cell_type": "markdown",
      "source": [
        "Model"
      ],
      "metadata": {
        "id": "zRglRbPgIbK1"
      }
    },
    {
      "cell_type": "code",
      "source": [
        "# RNN model\n",
        "model = Sequential()\n",
        "model.add(LSTM(300, activation='relu', input_shape=(sequence_length, 1), return_sequences=True))\n",
        "# model.add(LSTM(64, activation='relu', return_sequences=True))\n",
        "model.add(Dense(1))\n",
        "\n",
        "# Compile the model\n",
        "model.compile(optimizer='adam', loss='mean_squared_error')\n",
        "\n",
        "# Train the model\n",
        "X_train_reshaped = X_train.reshape(-1, sequence_length, 1)  # reshapes the training input data X_train_scaled into a 3D array with dimensions (batch_size, sequence_length, input_features)\n",
        "y_train = X_train[:, -1]  # Predict the next value in the sequence based on last value in each sequence\n",
        "model.fit(X_train_reshaped, y_train, epochs=10, batch_size=32)"
      ],
      "metadata": {
        "id": "CPG65jX0IbRy",
        "colab": {
          "base_uri": "https://localhost:8080/"
        },
        "outputId": "a4a57319-5314-4080-e8c4-2630bd9b0cc1"
      },
      "execution_count": 34,
      "outputs": [
        {
          "output_type": "stream",
          "name": "stdout",
          "text": [
            "Epoch 1/10\n",
            "23/23 [==============================] - 5s 162ms/step - loss: 1.5659e-04\n",
            "Epoch 2/10\n",
            "23/23 [==============================] - 5s 224ms/step - loss: 9.1775e-06\n",
            "Epoch 3/10\n",
            "23/23 [==============================] - 4s 164ms/step - loss: 8.0312e-07\n",
            "Epoch 4/10\n",
            "23/23 [==============================] - 4s 169ms/step - loss: 7.3781e-08\n",
            "Epoch 5/10\n",
            "23/23 [==============================] - 4s 190ms/step - loss: 9.5714e-09\n",
            "Epoch 6/10\n",
            "23/23 [==============================] - 5s 230ms/step - loss: 3.3331e-09\n",
            "Epoch 7/10\n",
            "23/23 [==============================] - 4s 163ms/step - loss: 2.2786e-09\n",
            "Epoch 8/10\n",
            "23/23 [==============================] - 4s 179ms/step - loss: 1.8987e-09\n",
            "Epoch 9/10\n",
            "23/23 [==============================] - 5s 214ms/step - loss: 1.6292e-09\n",
            "Epoch 10/10\n",
            "23/23 [==============================] - 4s 163ms/step - loss: 1.4049e-09\n"
          ]
        },
        {
          "output_type": "execute_result",
          "data": {
            "text/plain": [
              "<keras.src.callbacks.History at 0x7ae772045ea0>"
            ]
          },
          "metadata": {},
          "execution_count": 34
        }
      ]
    },
    {
      "cell_type": "markdown",
      "source": [
        "Predicting next timesteps"
      ],
      "metadata": {
        "id": "a3W8-LaOKvOe"
      }
    },
    {
      "cell_type": "code",
      "source": [
        "# Predict the remaining data (adjust as needed)\n",
        "num_predictions = len(X) - len(X_train)\n",
        "predicted_data = []\n",
        "\n",
        "# Start with the last sequence from the training data\n",
        "current_sequence = X_train[-1, :, np.newaxis]\n",
        "\n",
        "for _ in range(num_predictions):\n",
        "    # Predict the next value in the sequence\n",
        "    next_value = model.predict(current_sequence[np.newaxis, :, :])\n",
        "\n",
        "    # Append the predicted value to the result\n",
        "    predicted_data.append(next_value[0, 0])\n",
        "\n",
        "    # Update the current sequence for the next prediction\n",
        "    current_sequence = np.roll(current_sequence, shift=-1, axis=0)\n",
        "    current_sequence[-1] = next_value[0, 0]\n",
        "\n",
        "print(predicted_data)"
      ],
      "metadata": {
        "id": "cqEArf_VK0bI",
        "colab": {
          "base_uri": "https://localhost:8080/"
        },
        "outputId": "fdfaec6d-256e-4a8b-bb0a-ca79eecbd321"
      },
      "execution_count": 35,
      "outputs": [
        {
          "output_type": "stream",
          "name": "stdout",
          "text": [
            "1/1 [==============================] - 0s 141ms/step\n",
            "1/1 [==============================] - 0s 33ms/step\n",
            "1/1 [==============================] - 0s 32ms/step\n",
            "1/1 [==============================] - 0s 27ms/step\n",
            "1/1 [==============================] - 0s 29ms/step\n",
            "1/1 [==============================] - 0s 26ms/step\n",
            "1/1 [==============================] - 0s 109ms/step\n",
            "1/1 [==============================] - 0s 60ms/step\n",
            "1/1 [==============================] - 0s 36ms/step\n",
            "1/1 [==============================] - 0s 26ms/step\n",
            "1/1 [==============================] - 0s 26ms/step\n",
            "1/1 [==============================] - 0s 36ms/step\n",
            "1/1 [==============================] - 0s 29ms/step\n",
            "1/1 [==============================] - 0s 31ms/step\n",
            "1/1 [==============================] - 0s 28ms/step\n",
            "1/1 [==============================] - 0s 27ms/step\n",
            "1/1 [==============================] - 0s 97ms/step\n",
            "1/1 [==============================] - 0s 75ms/step\n",
            "1/1 [==============================] - 0s 33ms/step\n",
            "1/1 [==============================] - 0s 31ms/step\n",
            "1/1 [==============================] - 0s 31ms/step\n",
            "1/1 [==============================] - 0s 26ms/step\n",
            "1/1 [==============================] - 0s 29ms/step\n",
            "1/1 [==============================] - 0s 26ms/step\n",
            "1/1 [==============================] - 0s 29ms/step\n",
            "1/1 [==============================] - 0s 26ms/step\n",
            "1/1 [==============================] - 0s 29ms/step\n",
            "1/1 [==============================] - 0s 26ms/step\n",
            "1/1 [==============================] - 0s 26ms/step\n",
            "1/1 [==============================] - 0s 29ms/step\n",
            "1/1 [==============================] - 0s 29ms/step\n",
            "1/1 [==============================] - 0s 36ms/step\n",
            "1/1 [==============================] - 0s 46ms/step\n",
            "1/1 [==============================] - 0s 43ms/step\n",
            "1/1 [==============================] - 0s 36ms/step\n",
            "1/1 [==============================] - 0s 45ms/step\n",
            "1/1 [==============================] - 0s 42ms/step\n",
            "1/1 [==============================] - 0s 42ms/step\n",
            "1/1 [==============================] - 0s 40ms/step\n",
            "1/1 [==============================] - 0s 38ms/step\n",
            "1/1 [==============================] - 0s 36ms/step\n",
            "1/1 [==============================] - 0s 37ms/step\n",
            "1/1 [==============================] - 0s 37ms/step\n",
            "1/1 [==============================] - 0s 37ms/step\n",
            "1/1 [==============================] - 0s 36ms/step\n",
            "1/1 [==============================] - 0s 38ms/step\n",
            "1/1 [==============================] - 0s 40ms/step\n",
            "1/1 [==============================] - 0s 43ms/step\n",
            "1/1 [==============================] - 0s 47ms/step\n",
            "1/1 [==============================] - 0s 45ms/step\n",
            "1/1 [==============================] - 0s 47ms/step\n",
            "1/1 [==============================] - 0s 40ms/step\n",
            "1/1 [==============================] - 0s 37ms/step\n",
            "1/1 [==============================] - 0s 45ms/step\n",
            "1/1 [==============================] - 0s 43ms/step\n",
            "1/1 [==============================] - 0s 43ms/step\n",
            "1/1 [==============================] - 0s 49ms/step\n",
            "1/1 [==============================] - 0s 41ms/step\n",
            "1/1 [==============================] - 0s 45ms/step\n",
            "1/1 [==============================] - 0s 42ms/step\n",
            "1/1 [==============================] - 0s 43ms/step\n",
            "1/1 [==============================] - 0s 43ms/step\n",
            "1/1 [==============================] - 0s 40ms/step\n",
            "1/1 [==============================] - 0s 39ms/step\n",
            "1/1 [==============================] - 0s 43ms/step\n",
            "1/1 [==============================] - 0s 40ms/step\n",
            "1/1 [==============================] - 0s 36ms/step\n",
            "1/1 [==============================] - 0s 41ms/step\n",
            "1/1 [==============================] - 0s 36ms/step\n",
            "1/1 [==============================] - 0s 40ms/step\n",
            "1/1 [==============================] - 0s 41ms/step\n",
            "1/1 [==============================] - 0s 44ms/step\n",
            "1/1 [==============================] - 0s 45ms/step\n",
            "1/1 [==============================] - 0s 34ms/step\n",
            "1/1 [==============================] - 0s 30ms/step\n",
            "1/1 [==============================] - 0s 28ms/step\n",
            "1/1 [==============================] - 0s 27ms/step\n",
            "1/1 [==============================] - 0s 27ms/step\n",
            "1/1 [==============================] - 0s 30ms/step\n",
            "1/1 [==============================] - 0s 27ms/step\n",
            "1/1 [==============================] - 0s 25ms/step\n",
            "1/1 [==============================] - 0s 27ms/step\n",
            "1/1 [==============================] - 0s 26ms/step\n",
            "1/1 [==============================] - 0s 27ms/step\n",
            "1/1 [==============================] - 0s 34ms/step\n",
            "1/1 [==============================] - 0s 27ms/step\n",
            "1/1 [==============================] - 0s 29ms/step\n",
            "1/1 [==============================] - 0s 28ms/step\n",
            "1/1 [==============================] - 0s 27ms/step\n",
            "1/1 [==============================] - 0s 28ms/step\n",
            "1/1 [==============================] - 0s 26ms/step\n",
            "1/1 [==============================] - 0s 29ms/step\n",
            "1/1 [==============================] - 0s 28ms/step\n",
            "1/1 [==============================] - 0s 30ms/step\n",
            "1/1 [==============================] - 0s 30ms/step\n",
            "1/1 [==============================] - 0s 27ms/step\n",
            "1/1 [==============================] - 0s 29ms/step\n",
            "1/1 [==============================] - 0s 27ms/step\n",
            "1/1 [==============================] - 0s 27ms/step\n",
            "1/1 [==============================] - 0s 25ms/step\n",
            "1/1 [==============================] - 0s 27ms/step\n",
            "1/1 [==============================] - 0s 30ms/step\n",
            "1/1 [==============================] - 0s 26ms/step\n",
            "1/1 [==============================] - 0s 31ms/step\n",
            "1/1 [==============================] - 0s 26ms/step\n",
            "1/1 [==============================] - 0s 28ms/step\n",
            "1/1 [==============================] - 0s 25ms/step\n",
            "1/1 [==============================] - 0s 25ms/step\n",
            "1/1 [==============================] - 0s 27ms/step\n",
            "1/1 [==============================] - 0s 26ms/step\n",
            "1/1 [==============================] - 0s 26ms/step\n",
            "1/1 [==============================] - 0s 27ms/step\n",
            "1/1 [==============================] - 0s 26ms/step\n",
            "1/1 [==============================] - 0s 33ms/step\n",
            "1/1 [==============================] - 0s 26ms/step\n",
            "1/1 [==============================] - 0s 27ms/step\n",
            "1/1 [==============================] - 0s 26ms/step\n",
            "1/1 [==============================] - 0s 31ms/step\n",
            "1/1 [==============================] - 0s 27ms/step\n",
            "1/1 [==============================] - 0s 26ms/step\n",
            "1/1 [==============================] - 0s 26ms/step\n",
            "1/1 [==============================] - 0s 29ms/step\n",
            "1/1 [==============================] - 0s 26ms/step\n",
            "1/1 [==============================] - 0s 29ms/step\n",
            "1/1 [==============================] - 0s 30ms/step\n",
            "1/1 [==============================] - 0s 26ms/step\n",
            "1/1 [==============================] - 0s 31ms/step\n",
            "1/1 [==============================] - 0s 29ms/step\n",
            "1/1 [==============================] - 0s 29ms/step\n",
            "1/1 [==============================] - 0s 24ms/step\n",
            "1/1 [==============================] - 0s 25ms/step\n",
            "1/1 [==============================] - 0s 26ms/step\n",
            "1/1 [==============================] - 0s 25ms/step\n",
            "1/1 [==============================] - 0s 27ms/step\n",
            "1/1 [==============================] - 0s 27ms/step\n",
            "1/1 [==============================] - 0s 27ms/step\n",
            "1/1 [==============================] - 0s 29ms/step\n",
            "1/1 [==============================] - 0s 28ms/step\n",
            "1/1 [==============================] - 0s 33ms/step\n",
            "1/1 [==============================] - 0s 26ms/step\n",
            "1/1 [==============================] - 0s 27ms/step\n",
            "1/1 [==============================] - 0s 31ms/step\n",
            "1/1 [==============================] - 0s 30ms/step\n",
            "1/1 [==============================] - 0s 26ms/step\n",
            "1/1 [==============================] - 0s 28ms/step\n",
            "1/1 [==============================] - 0s 28ms/step\n",
            "1/1 [==============================] - 0s 30ms/step\n",
            "1/1 [==============================] - 0s 40ms/step\n",
            "1/1 [==============================] - 0s 28ms/step\n",
            "1/1 [==============================] - 0s 28ms/step\n",
            "1/1 [==============================] - 0s 27ms/step\n",
            "1/1 [==============================] - 0s 30ms/step\n",
            "1/1 [==============================] - 0s 25ms/step\n",
            "1/1 [==============================] - 0s 25ms/step\n",
            "1/1 [==============================] - 0s 25ms/step\n",
            "1/1 [==============================] - 0s 28ms/step\n",
            "1/1 [==============================] - 0s 28ms/step\n",
            "1/1 [==============================] - 0s 28ms/step\n",
            "1/1 [==============================] - 0s 26ms/step\n",
            "1/1 [==============================] - 0s 30ms/step\n",
            "1/1 [==============================] - 0s 32ms/step\n",
            "1/1 [==============================] - 0s 30ms/step\n",
            "1/1 [==============================] - 0s 30ms/step\n",
            "1/1 [==============================] - 0s 31ms/step\n",
            "1/1 [==============================] - 0s 26ms/step\n",
            "1/1 [==============================] - 0s 25ms/step\n",
            "1/1 [==============================] - 0s 34ms/step\n",
            "1/1 [==============================] - 0s 31ms/step\n",
            "1/1 [==============================] - 0s 28ms/step\n",
            "1/1 [==============================] - 0s 26ms/step\n",
            "1/1 [==============================] - 0s 29ms/step\n",
            "1/1 [==============================] - 0s 28ms/step\n",
            "1/1 [==============================] - 0s 29ms/step\n",
            "1/1 [==============================] - 0s 26ms/step\n",
            "1/1 [==============================] - 0s 33ms/step\n",
            "1/1 [==============================] - 0s 26ms/step\n",
            "1/1 [==============================] - 0s 28ms/step\n",
            "1/1 [==============================] - 0s 28ms/step\n",
            "1/1 [==============================] - 0s 25ms/step\n",
            "1/1 [==============================] - 0s 25ms/step\n",
            "1/1 [==============================] - 0s 35ms/step\n",
            "1/1 [==============================] - 0s 27ms/step\n",
            "1/1 [==============================] - 0s 27ms/step\n",
            "1/1 [==============================] - 0s 26ms/step\n",
            "1/1 [==============================] - 0s 34ms/step\n",
            "1/1 [==============================] - 0s 25ms/step\n",
            "1/1 [==============================] - 0s 30ms/step\n",
            "1/1 [==============================] - 0s 32ms/step\n",
            "1/1 [==============================] - 0s 26ms/step\n",
            "1/1 [==============================] - 0s 30ms/step\n",
            "1/1 [==============================] - 0s 26ms/step\n",
            "1/1 [==============================] - 0s 29ms/step\n",
            "1/1 [==============================] - 0s 29ms/step\n",
            "1/1 [==============================] - 0s 27ms/step\n",
            "1/1 [==============================] - 0s 26ms/step\n",
            "1/1 [==============================] - 0s 28ms/step\n",
            "1/1 [==============================] - 0s 26ms/step\n",
            "1/1 [==============================] - 0s 31ms/step\n",
            "1/1 [==============================] - 0s 29ms/step\n",
            "1/1 [==============================] - 0s 25ms/step\n",
            "1/1 [==============================] - 0s 29ms/step\n",
            "1/1 [==============================] - 0s 36ms/step\n",
            "1/1 [==============================] - 0s 26ms/step\n",
            "1/1 [==============================] - 0s 27ms/step\n",
            "1/1 [==============================] - 0s 29ms/step\n",
            "1/1 [==============================] - 0s 29ms/step\n",
            "1/1 [==============================] - 0s 24ms/step\n",
            "1/1 [==============================] - 0s 30ms/step\n",
            "1/1 [==============================] - 0s 31ms/step\n",
            "1/1 [==============================] - 0s 30ms/step\n",
            "1/1 [==============================] - 0s 28ms/step\n",
            "1/1 [==============================] - 0s 30ms/step\n",
            "1/1 [==============================] - 0s 30ms/step\n",
            "1/1 [==============================] - 0s 26ms/step\n",
            "1/1 [==============================] - 0s 25ms/step\n",
            "1/1 [==============================] - 0s 27ms/step\n",
            "1/1 [==============================] - 0s 28ms/step\n",
            "1/1 [==============================] - 0s 30ms/step\n",
            "1/1 [==============================] - 0s 33ms/step\n",
            "1/1 [==============================] - 0s 29ms/step\n",
            "1/1 [==============================] - 0s 28ms/step\n",
            "1/1 [==============================] - 0s 30ms/step\n",
            "1/1 [==============================] - 0s 26ms/step\n",
            "1/1 [==============================] - 0s 25ms/step\n",
            "1/1 [==============================] - 0s 31ms/step\n",
            "1/1 [==============================] - 0s 27ms/step\n",
            "1/1 [==============================] - 0s 32ms/step\n",
            "1/1 [==============================] - 0s 27ms/step\n",
            "1/1 [==============================] - 0s 28ms/step\n",
            "1/1 [==============================] - 0s 25ms/step\n",
            "1/1 [==============================] - 0s 26ms/step\n",
            "1/1 [==============================] - 0s 35ms/step\n",
            "1/1 [==============================] - 0s 27ms/step\n",
            "1/1 [==============================] - 0s 26ms/step\n",
            "1/1 [==============================] - 0s 25ms/step\n",
            "1/1 [==============================] - 0s 30ms/step\n",
            "1/1 [==============================] - 0s 31ms/step\n",
            "1/1 [==============================] - 0s 53ms/step\n",
            "1/1 [==============================] - 0s 44ms/step\n",
            "1/1 [==============================] - 0s 39ms/step\n",
            "1/1 [==============================] - 0s 50ms/step\n",
            "1/1 [==============================] - 0s 40ms/step\n",
            "1/1 [==============================] - 0s 44ms/step\n",
            "1/1 [==============================] - 0s 48ms/step\n",
            "1/1 [==============================] - 0s 45ms/step\n",
            "1/1 [==============================] - 0s 41ms/step\n",
            "1/1 [==============================] - 0s 57ms/step\n",
            "1/1 [==============================] - 0s 40ms/step\n",
            "1/1 [==============================] - 0s 37ms/step\n",
            "1/1 [==============================] - 0s 38ms/step\n",
            "1/1 [==============================] - 0s 41ms/step\n",
            "1/1 [==============================] - 0s 46ms/step\n",
            "1/1 [==============================] - 0s 40ms/step\n",
            "1/1 [==============================] - 0s 39ms/step\n",
            "1/1 [==============================] - 0s 44ms/step\n",
            "1/1 [==============================] - 0s 43ms/step\n",
            "1/1 [==============================] - 0s 45ms/step\n",
            "1/1 [==============================] - 0s 50ms/step\n",
            "1/1 [==============================] - 0s 41ms/step\n",
            "1/1 [==============================] - 0s 44ms/step\n",
            "1/1 [==============================] - 0s 42ms/step\n",
            "1/1 [==============================] - 0s 45ms/step\n",
            "1/1 [==============================] - 0s 46ms/step\n",
            "1/1 [==============================] - 0s 47ms/step\n",
            "1/1 [==============================] - 0s 41ms/step\n",
            "1/1 [==============================] - 0s 41ms/step\n",
            "1/1 [==============================] - 0s 41ms/step\n",
            "1/1 [==============================] - 0s 42ms/step\n",
            "1/1 [==============================] - 0s 37ms/step\n",
            "1/1 [==============================] - 0s 37ms/step\n",
            "1/1 [==============================] - 0s 36ms/step\n",
            "1/1 [==============================] - 0s 39ms/step\n",
            "1/1 [==============================] - 0s 39ms/step\n",
            "1/1 [==============================] - 0s 46ms/step\n",
            "1/1 [==============================] - 0s 37ms/step\n",
            "1/1 [==============================] - 0s 36ms/step\n",
            "1/1 [==============================] - 0s 38ms/step\n",
            "1/1 [==============================] - 0s 37ms/step\n",
            "1/1 [==============================] - 0s 41ms/step\n",
            "1/1 [==============================] - 0s 50ms/step\n",
            "[array([0.00021635], dtype=float32), array([0.00021591], dtype=float32), array([0.00021539], dtype=float32), array([0.00021478], dtype=float32), array([0.00021409], dtype=float32), array([0.0002133], dtype=float32), array([0.00021243], dtype=float32), array([0.00021147], dtype=float32), array([0.00021043], dtype=float32), array([0.00020931], dtype=float32), array([0.00020809], dtype=float32), array([0.00020679], dtype=float32), array([0.0002054], dtype=float32), array([0.00020393], dtype=float32), array([0.00020238], dtype=float32), array([0.00020074], dtype=float32), array([0.00019902], dtype=float32), array([0.00019722], dtype=float32), array([0.00019533], dtype=float32), array([0.00019336], dtype=float32), array([0.0001913], dtype=float32), array([0.00018917], dtype=float32), array([0.00018695], dtype=float32), array([0.00018464], dtype=float32), array([0.00018226], dtype=float32), array([0.0001798], dtype=float32), array([0.00017719], dtype=float32), array([0.00017427], dtype=float32), array([0.00017166], dtype=float32), array([0.0001692], dtype=float32), array([0.00016665], dtype=float32), array([0.00016403], dtype=float32), array([0.00016132], dtype=float32), array([0.00015854], dtype=float32), array([0.00015568], dtype=float32), array([0.00015261], dtype=float32), array([0.00014789], dtype=float32), array([0.0001431], dtype=float32), array([0.00013823], dtype=float32), array([0.00013328], dtype=float32), array([0.00012826], dtype=float32), array([0.00012316], dtype=float32), array([0.00011757], dtype=float32), array([0.0001094], dtype=float32), array([0.00010117], dtype=float32), array([9.286757e-05], dtype=float32), array([8.4494895e-05], dtype=float32), array([7.605449e-05], dtype=float32), array([6.7775836e-05], dtype=float32), array([5.957382e-05], dtype=float32), array([5.1315114e-05], dtype=float32), array([4.523873e-05], dtype=float32), array([4.1821124e-05], dtype=float32), array([3.966645e-05], dtype=float32), array([3.7437694e-05], dtype=float32), array([3.5134577e-05], dtype=float32), array([3.2758016e-05], dtype=float32), array([3.0748688e-05], dtype=float32), array([3.125626e-05], dtype=float32), array([3.16889e-05], dtype=float32), array([3.204637e-05], dtype=float32), array([3.067443e-05], dtype=float32), array([2.9857274e-05], dtype=float32), array([2.9311199e-05], dtype=float32), array([2.8688297e-05], dtype=float32), array([2.7987433e-05], dtype=float32), array([2.7209386e-05], dtype=float32), array([2.5264537e-05], dtype=float32), array([2.3221535e-05], dtype=float32), array([2.25578e-05], dtype=float32), array([2.1393036e-05], dtype=float32), array([1.9105242e-05], dtype=float32), array([1.6036352e-05], dtype=float32), array([1.2893837e-05], dtype=float32), array([8.598701e-06], dtype=float32), array([3.5098165e-06], dtype=float32), array([-1.6646991e-06], dtype=float32), array([-6.906688e-06], dtype=float32), array([-1.2096894e-05], dtype=float32), array([-1.5719288e-05], dtype=float32), array([-1.8314706e-05], dtype=float32), array([-1.4060151e-05], dtype=float32), array([-9.510313e-06], dtype=float32), array([-4.3876043e-06], dtype=float32), array([-3.4022924e-07], dtype=float32), array([2.1476826e-06], dtype=float32), array([7.292878e-06], dtype=float32), array([1.563608e-05], dtype=float32), array([2.431633e-05], dtype=float32), array([2.936371e-05], dtype=float32), array([2.5612531e-05], dtype=float32), array([2.4425684e-05], dtype=float32), array([1.4377245e-05], dtype=float32), array([6.237289e-06], dtype=float32), array([3.3111864e-06], dtype=float32), array([-1.4660647e-05], dtype=float32), array([-2.2034386e-05], dtype=float32), array([-3.3173812e-05], dtype=float32), array([-1.0081016e-05], dtype=float32), array([6.3599928e-06], dtype=float32), array([6.940172e-06], dtype=float32), array([6.9390117e-06], dtype=float32), array([6.9376147e-06], dtype=float32), array([6.9359794e-06], dtype=float32), array([6.9341004e-06], dtype=float32), array([6.9320067e-06], dtype=float32), array([6.9296657e-06], dtype=float32), array([6.9270936e-06], dtype=float32), array([6.9242997e-06], dtype=float32), array([6.921284e-06], dtype=float32), array([6.9180205e-06], dtype=float32), array([6.9145353e-06], dtype=float32), array([6.910821e-06], dtype=float32), array([6.906883e-06], dtype=float32), array([6.9027155e-06], dtype=float32), array([6.898321e-06], dtype=float32), array([6.893706e-06], dtype=float32), array([6.8888567e-06], dtype=float32), array([6.8837944e-06], dtype=float32), array([6.8785193e-06], dtype=float32), array([6.873006e-06], dtype=float32), array([6.8672707e-06], dtype=float32), array([6.861319e-06], dtype=float32), array([6.855149e-06], dtype=float32), array([6.8487643e-06], dtype=float32), array([6.8421523e-06], dtype=float32), array([6.8351455e-06], dtype=float32), array([6.827333e-06], dtype=float32), array([6.8203226e-06], dtype=float32), array([6.813725e-06], dtype=float32), array([6.8069003e-06], dtype=float32), array([6.799857e-06], dtype=float32), array([6.792605e-06], dtype=float32), array([6.7851415e-06], dtype=float32), array([6.7774636e-06], dtype=float32), array([6.769249e-06], dtype=float32), array([6.7565925e-06], dtype=float32), array([6.743734e-06], dtype=float32), array([6.7306755e-06], dtype=float32), array([6.717406e-06], dtype=float32), array([6.703942e-06], dtype=float32), array([6.690272e-06], dtype=float32), array([6.675269e-06], dtype=float32), array([6.6533794e-06], dtype=float32), array([6.6312914e-06], dtype=float32), array([6.6090306e-06], dtype=float32), array([6.5865806e-06], dtype=float32), array([6.5639433e-06], dtype=float32), array([6.5417444e-06], dtype=float32), array([6.519753e-06], dtype=float32), array([6.4976048e-06], dtype=float32), array([6.4813066e-06], dtype=float32), array([6.4721426e-06], dtype=float32), array([6.4663745e-06], dtype=float32), array([6.4603955e-06], dtype=float32), array([6.454211e-06], dtype=float32), array([6.447839e-06], dtype=float32), array([6.4424585e-06], dtype=float32), array([6.443821e-06], dtype=float32), array([6.4449832e-06], dtype=float32), array([6.445931e-06], dtype=float32), array([6.44226e-06], dtype=float32), array([6.4400683e-06], dtype=float32), array([6.438604e-06], dtype=float32), array([6.4369324e-06], dtype=float32), array([6.4350515e-06], dtype=float32), array([6.432967e-06], dtype=float32), array([6.4277556e-06], dtype=float32), array([6.4222713e-06], dtype=float32), array([6.4204905e-06], dtype=float32), array([6.4173655e-06], dtype=float32), array([6.4112282e-06], dtype=float32), array([6.402999e-06], dtype=float32), array([6.3945754e-06], dtype=float32), array([6.3830503e-06], dtype=float32), array([6.369406e-06], dtype=float32), array([6.355607e-06], dtype=float32), array([6.341794e-06], dtype=float32), array([6.3281113e-06], dtype=float32), array([6.318558e-06], dtype=float32), array([6.3117295e-06], dtype=float32), array([6.322929e-06], dtype=float32), array([6.3349326e-06], dtype=float32), array([6.3484313e-06], dtype=float32), array([6.359098e-06], dtype=float32), array([6.365759e-06], dtype=float32), array([6.379554e-06], dtype=float32), array([6.401933e-06], dtype=float32), array([6.4252054e-06], dtype=float32), array([6.4387405e-06], dtype=float32), array([6.4286905e-06], dtype=float32), array([6.4254928e-06], dtype=float32), array([6.398557e-06], dtype=float32), array([6.376724e-06], dtype=float32), array([6.368875e-06], dtype=float32), array([6.3213465e-06], dtype=float32), array([6.3019215e-06], dtype=float32), array([6.2725685e-06], dtype=float32), array([6.3334264e-06], dtype=float32), array([6.377046e-06], dtype=float32), array([6.37861e-06], dtype=float32), array([6.3786065e-06], dtype=float32), array([6.378601e-06], dtype=float32), array([6.3785974e-06], dtype=float32), array([6.378592e-06], dtype=float32), array([6.3785847e-06], dtype=float32), array([6.378579e-06], dtype=float32), array([6.3785774e-06], dtype=float32), array([6.3785665e-06], dtype=float32), array([6.3785574e-06], dtype=float32), array([6.3785483e-06], dtype=float32), array([6.3785374e-06], dtype=float32), array([6.37853e-06], dtype=float32), array([6.3785174e-06], dtype=float32), array([6.3785046e-06], dtype=float32), array([6.3785046e-06], dtype=float32), array([6.3784864e-06], dtype=float32), array([6.378472e-06], dtype=float32), array([6.378459e-06], dtype=float32), array([6.3784446e-06], dtype=float32), array([6.378428e-06], dtype=float32), array([6.378412e-06], dtype=float32), array([6.3783955e-06], dtype=float32), array([6.378381e-06], dtype=float32), array([6.378359e-06], dtype=float32), array([6.3783446e-06], dtype=float32), array([6.3783264e-06], dtype=float32), array([6.378308e-06], dtype=float32), array([6.3782863e-06], dtype=float32), array([6.378268e-06], dtype=float32), array([6.37825e-06], dtype=float32), array([6.37823e-06], dtype=float32), array([6.37821e-06], dtype=float32), array([6.3781918e-06], dtype=float32), array([6.3781736e-06], dtype=float32), array([6.3781463e-06], dtype=float32), array([6.3781154e-06], dtype=float32), array([6.378079e-06], dtype=float32), array([6.37805e-06], dtype=float32), array([6.37801e-06], dtype=float32), array([6.3779735e-06], dtype=float32), array([6.377937e-06], dtype=float32), array([6.377899e-06], dtype=float32), array([6.377839e-06], dtype=float32), array([6.377779e-06], dtype=float32), array([6.377719e-06], dtype=float32), array([6.377659e-06], dtype=float32), array([6.3776006e-06], dtype=float32), array([6.377537e-06], dtype=float32), array([6.377486e-06], dtype=float32), array([6.3774205e-06], dtype=float32), array([6.377373e-06], dtype=float32), array([6.3773496e-06], dtype=float32), array([6.377333e-06], dtype=float32), array([6.377324e-06], dtype=float32), array([6.377304e-06], dtype=float32), array([6.3772895e-06], dtype=float32), array([6.3772677e-06], dtype=float32), array([6.377277e-06], dtype=float32), array([6.3772786e-06], dtype=float32), array([6.3772823e-06], dtype=float32), array([6.3772677e-06], dtype=float32), array([6.377264e-06], dtype=float32), array([6.377266e-06], dtype=float32), array([6.3772604e-06], dtype=float32), array([6.377253e-06], dtype=float32), array([6.3772495e-06], dtype=float32), array([6.3772295e-06], dtype=float32), array([6.3772186e-06], dtype=float32), array([6.377213e-06], dtype=float32), array([6.377202e-06], dtype=float32), array([6.3771895e-06], dtype=float32), array([6.3771677e-06], dtype=float32), array([6.377146e-06], dtype=float32), array([6.377113e-06], dtype=float32), array([6.3770785e-06], dtype=float32), array([6.3770403e-06], dtype=float32), array([6.377006e-06], dtype=float32), array([6.3769694e-06], dtype=float32), array([6.3769367e-06], dtype=float32)]\n"
          ]
        }
      ]
    },
    {
      "cell_type": "markdown",
      "source": [
        "Plotting"
      ],
      "metadata": {
        "id": "y8c6CF8-K1Df"
      }
    },
    {
      "cell_type": "code",
      "source": [
        "# Inverse transform the predicted data to get it back to the original scale\n",
        "predicted_data = scaler.inverse_transform(np.array(predicted_data).reshape(-1, 1))\n",
        "\n",
        "# Visualize the predicted time series data\n",
        "plt.plot(X, label='Original Data')\n",
        "plt.plot(range(len(X_train), len(X_train)+num_predictions), predicted_data, label='Predicted Data', linestyle='--')\n",
        "plt.xlabel('Time Steps')\n",
        "plt.ylabel('Values')\n",
        "plt.legend()\n",
        "plt.title('Predicted Time Series Data')\n",
        "plt.show()"
      ],
      "metadata": {
        "id": "jeH2Cf2WK2_8",
        "colab": {
          "base_uri": "https://localhost:8080/",
          "height": 472
        },
        "outputId": "cafdc16f-a4e7-47e9-b061-8bc51997689e"
      },
      "execution_count": 36,
      "outputs": [
        {
          "output_type": "display_data",
          "data": {
            "text/plain": [
              "<Figure size 640x480 with 1 Axes>"
            ],
            "image/png": "[encoded data removed]"
          },
          "metadata": {}
        }
      ]
    }
  ]
}