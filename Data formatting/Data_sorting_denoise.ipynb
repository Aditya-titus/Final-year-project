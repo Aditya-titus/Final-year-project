{
 "cells": [
  {
   "cell_type": "code",
   "execution_count": 1,
   "metadata": {},
   "outputs": [
    {
     "name": "stderr",
     "output_type": "stream",
     "text": [
      "C:\\Users\\ADITYA\\AppData\\Local\\Temp\\ipykernel_24532\\1442840785.py:2: DeprecationWarning: \n",
      "Pyarrow will become a required dependency of pandas in the next major release of pandas (pandas 3.0),\n",
      "(to allow more performant data types, such as the Arrow string type, and better interoperability with other libraries)\n",
      "but was not found to be installed on your system.\n",
      "If this would cause problems for you,\n",
      "please provide us feedback at https://github.com/pandas-dev/pandas/issues/54466\n",
      "        \n",
      "  import pandas as pd\n"
     ]
    }
   ],
   "source": [
    "import numpy as np\n",
    "import pandas as pd\n",
    "from sklearn.preprocessing import StandardScaler\n",
    "from sklearn.preprocessing import MinMaxScaler"
   ]
  },
  {
   "cell_type": "code",
   "execution_count": 13,
   "metadata": {},
   "outputs": [],
   "source": [
    "def interpolator(dataset, time_increment):\n",
    "    # Ensure dataset is a NumPy array and storing current and cycle columns\n",
    "    dataset = np.array(dataset)\n",
    "    current_value = dataset[0, 7]\n",
    "    cycle_number_value = dataset[0, 8]\n",
    "\n",
    "    # Calculate the minimum and maximum time values in the array\n",
    "    min_time = dataset[:, 6].min()  \n",
    "    max_time = dataset[:, 6].max()\n",
    "\n",
    "    # Create a new array with the desired time increments\n",
    "    new_time_values = np.arange(min_time, max_time, time_increment)\n",
    "\n",
    "    # Forming an array for interpolated values\n",
    "    interpolated_values = np.zeros((len(new_time_values), 6))\n",
    "\n",
    "    # Interpolate columns\n",
    "    for col_index in range(6):  # Adjust the range if the number of columns to interpolate differs\n",
    "        interpolated_values[:, col_index] = np.interp(new_time_values, dataset[:, 6], dataset[:, col_index])\n",
    "\n",
    "    # Combine interpolated values with constant values and new time values\n",
    "    interpolated_data = np.column_stack((interpolated_values, new_time_values, np.full(len(new_time_values), current_value),\n",
    "                                         np.full(len(new_time_values), cycle_number_value)))\n",
    "\n",
    "    # Convert the result to a pandas DataFrame\n",
    "    column_names = ['S8_cur', 'S4_cur','S2_cur','S1_cur','V_cur', 'Sp_cur', 't_cur','I', 'cycle number']  # Adjust column names as needed\n",
    "    interpolated_df = pd.DataFrame(interpolated_data, columns=column_names)\n",
    "\n",
    "    return interpolated_df"
   ]
  },
  {
   "cell_type": "code",
   "execution_count": 49,
   "metadata": {},
   "outputs": [],
   "source": [
    "# Defined in the code\n",
    "EH0 = 2.35\n",
    "EL0 = 2.195\n",
    "iH0 = 10\n",
    "iL0 = 5\n",
    "R = 8.3145\n",
    "T = 298\n",
    "F = 96490\n",
    "fh = 0.7296\n",
    "fl = 0.06654\n",
    "ar = 0.96\n",
    "\n",
    "def high_Nernst(EH0,R,T,F,fh,S8,S4):\n",
    "  EH = EH0 + (((R*T)/(4*F))*np.log(fh*(S8/(S4**2))))\n",
    "  return EH\n",
    "\n",
    "def low_Nernst(EL0,R,T,F,fl,S4,S2,S):\n",
    "  EL = EL0 + (((R*T)/(4*F))*np.log(fl*(S4/((S**2)*S2))))\n",
    "  return EL\n",
    "\n",
    "def high_BV(iH0,ar,F,R,T,V,EH):\n",
    "  iH = 2*iH0*ar*np.sinh((4*F*(V-EH))/(2*R*T))\n",
    "  return iH\n",
    "\n",
    "def low_BV(iL0,ar,F,R,T,V,EL):\n",
    "  iL = 2*iL0*ar*np.sinh((4*F*(V-EL))/(2*R*T))\n",
    "  return iL"
   ]
  },
  {
   "cell_type": "code",
   "execution_count": 23,
   "metadata": {},
   "outputs": [],
   "source": [
    "# Bisection method function\n",
    "def f(V, EH, EL, I):\n",
    "    # Defined in the code\n",
    "    iH0 = 10\n",
    "    iL0 = 5\n",
    "    R = 8.3145\n",
    "    T = 298\n",
    "    F = 96490\n",
    "    ar = 0.96\n",
    "    return 2 * iH0 * ar * np.sinh((2 * F / (R * T)) * (V - EH)) + 2 * iL0 * ar * np.sinh((2 * F / (R * T)) * (V - EL)) + I\n",
    "\n",
    "# Bisection method adjusted to accept EH, EL, and I\n",
    "def bisection_method(V_a, V_b, EH, EL, I, tol=1e-9, max_iter=10000):\n",
    "    if f(V_a, EH, EL, I) * f(V_b, EH, EL, I) >= 0:\n",
    "        print(\"Bisection method fails.\")\n",
    "        return None\n",
    "\n",
    "    V_m = V_a\n",
    "    for _ in range(max_iter):\n",
    "        V_m = (V_a + V_b) / 2\n",
    "        if f(V_m, EH, EL, I) == 0 or np.abs(f(V_m, EH, EL, I)) < tol:   # (V_b - V_a)/2\n",
    "            return V_m\n",
    "\n",
    "        if f(V_m, EH, EL, I) * f(V_a, EH, EL, I) < 0:\n",
    "            V_b = V_m\n",
    "        else:\n",
    "            V_a = V_m\n",
    "\n",
    "    return V_m  # Return the approximation of the root"
   ]
  },
  {
   "cell_type": "code",
   "execution_count": 62,
   "metadata": {},
   "outputs": [],
   "source": [
    "def scaler_func(X,y,current):\n",
    "    \n",
    "    # Scaling dataset for all the cycles combined (specific current)\n",
    "    scale_columns_cur_X = ['S8_cur', 'S4_cur', 'S2_cur', 'S1_cur', 'V_cur', 'Sp_cur','EH','EL','iH','iL']\n",
    "    scale_columns_cur_y = ['S8_cur', 'S4_cur', 'S2_cur', 'S1_cur', 'Sp_cur', 'V_cur']\n",
    "\n",
    "    means = X[scale_columns_cur_X].mean()\n",
    "    stds = X[scale_columns_cur_X].std()\n",
    "\n",
    "    # Create a new DataFrame to store these values\n",
    "    scales = pd.DataFrame([means, stds], index=['mean', 'std'])\n",
    "\n",
    "    for i in scale_columns_cur_X:\n",
    "        X[i] = (X[i] - scales.loc['mean', i]) / scales.loc['std', i]\n",
    "\n",
    "\n",
    "    for j in scale_columns_cur_y:\n",
    "        y[j] = (y[j] - scales.loc['mean', j])/scales.loc['std', j]\n",
    "\n",
    "    scales['I'] = current\n",
    "\n",
    "    return scales,X,y"
   ]
  },
  {
   "cell_type": "code",
   "execution_count": 60,
   "metadata": {},
   "outputs": [],
   "source": [
    "def Data_formatter_cycles(current, data):\n",
    "\n",
    "    X_cycles = pd.DataFrame(columns=['S8_cur', 'S4_cur', 'S2_cur', 'S1_cur', 'V_cur', 'Sp_cur', 'I', 'EH', 'EL', 'iH', 'iL'])\n",
    "    y_cycles = pd.DataFrame(columns=['S8_cur', 'S4_cur', 'S2_cur', 'S1_cur', 'Sp_cur', 'V_cur'])\n",
    "\n",
    "    # Extract unique cycle numbers to know how many times data formatting is required for particular cycle number\n",
    "    unique_cycles = data['cycle'].unique()\n",
    "    cycles = len(unique_cycles)\n",
    "\n",
    "    for i in range(cycles):\n",
    "\n",
    "        # Define the input dataset for the particular cycle\n",
    "        X_array = data[data['I'] == current]\n",
    "        X_array = X_array[X_array['cycle'] == i]\n",
    "        X_array = X_array.iloc[1:,1:] # Removing first row as it has erraneous values\n",
    "\n",
    "\n",
    "        # Linearly interpolating timescale for even data\n",
    "        time_increment = 0.05\n",
    "        X_array_interpolated = interpolator(X_array, time_increment)\n",
    "\n",
    "        # Apply the functions to the desired columns\n",
    "        X_array_interpolated['EH'] = X_array_interpolated.apply(lambda row: high_Nernst(EH0, R, T, F, fh, row[0], row[1]), axis=1)\n",
    "        X_array_interpolated['EL'] = X_array_interpolated.apply(lambda row: low_Nernst(EL0, R, T, F, fl, row[1], row[2], row[3]), axis=1)\n",
    "\n",
    "        X_array_interpolated['V_cur'] = X_array_interpolated.apply(lambda row: bisection_method(2.5, 2.1, row[9], row[10], current), axis=1)\n",
    "\n",
    "        X_array_interpolated['iH'] = X_array_interpolated.apply(lambda row: high_BV(iH0, ar, F, R, T, row['V_cur'], row['EH']), axis=1)\n",
    "        X_array_interpolated['iL'] = X_array_interpolated.apply(lambda row: low_BV(iL0, ar, F, R, T, row['V_cur'], row['EL']), axis=1)\n",
    "\n",
    "        # Defining input array for NN\n",
    "        filter_columns_cur = ['S8_cur', 'S4_cur', 'S2_cur', 'S1_cur','V_cur', 'Sp_cur','I','EH','EL', 'iH', 'iL']\n",
    "        X_array_interpolated = X_array_interpolated[filter_columns_cur]\n",
    "\n",
    "        # Defining output array\n",
    "        filter_columns_nxt = ['S8_cur', 'S4_cur', 'S2_cur', 'S1_cur','Sp_cur', 'V_cur']\n",
    "        y_interpolated = X_array_interpolated[filter_columns_nxt]\n",
    "\n",
    "        # Setting current input and next output\n",
    "        y_interpolated = y_interpolated.iloc[1:,:]\n",
    "        X_array_interpolated = X_array_interpolated.iloc[:-1,:]\n",
    "        \n",
    "        # Removing first value as it is erraneous\n",
    "        y_interpolated = y_interpolated.iloc[1:,:]\n",
    "        X_array_interpolated = X_array_interpolated.iloc[1:,:]\n",
    "\n",
    "        # Append interpolated data to X\n",
    "        X_cycles = pd.concat([X_cycles, X_array_interpolated[X_cycles.columns]], ignore_index=True)\n",
    "\n",
    "        # Append subset of interpolated data to y\n",
    "        y_cycles = pd.concat([y_cycles, y_interpolated[y_cycles.columns]], ignore_index=True)\n",
    "\n",
    "    return X_cycles, y_cycles"
   ]
  },
  {
   "cell_type": "code",
   "execution_count": 61,
   "metadata": {},
   "outputs": [
    {
     "name": "stderr",
     "output_type": "stream",
     "text": [
      "C:\\Users\\ADITYA\\AppData\\Local\\Temp\\ipykernel_24532\\103487572.py:23: FutureWarning: Series.__getitem__ treating keys as positions is deprecated. In a future version, integer keys will always be treated as labels (consistent with DataFrame behavior). To access a value by position, use `ser.iloc[pos]`\n",
      "  X_array_interpolated['EH'] = X_array_interpolated.apply(lambda row: high_Nernst(EH0, R, T, F, fh, row[0], row[1]), axis=1)\n",
      "C:\\Users\\ADITYA\\AppData\\Local\\Temp\\ipykernel_24532\\103487572.py:24: FutureWarning: Series.__getitem__ treating keys as positions is deprecated. In a future version, integer keys will always be treated as labels (consistent with DataFrame behavior). To access a value by position, use `ser.iloc[pos]`\n",
      "  X_array_interpolated['EL'] = X_array_interpolated.apply(lambda row: low_Nernst(EL0, R, T, F, fl, row[1], row[2], row[3]), axis=1)\n",
      "C:\\Users\\ADITYA\\AppData\\Local\\Temp\\ipykernel_24532\\103487572.py:26: FutureWarning: Series.__getitem__ treating keys as positions is deprecated. In a future version, integer keys will always be treated as labels (consistent with DataFrame behavior). To access a value by position, use `ser.iloc[pos]`\n",
      "  X_array_interpolated['V_cur'] = X_array_interpolated.apply(lambda row: bisection_method(2.5, 2.1, row[9], row[10], current), axis=1)\n",
      "C:\\Users\\ADITYA\\AppData\\Local\\Temp\\ipykernel_24532\\103487572.py:48: FutureWarning: The behavior of DataFrame concatenation with empty or all-NA entries is deprecated. In a future version, this will no longer exclude empty or all-NA columns when determining the result dtypes. To retain the old behavior, exclude the relevant entries before the concat operation.\n",
      "  X_cycles = pd.concat([X_cycles, X_array_interpolated[X_cycles.columns]], ignore_index=True)\n",
      "C:\\Users\\ADITYA\\AppData\\Local\\Temp\\ipykernel_24532\\103487572.py:51: FutureWarning: The behavior of DataFrame concatenation with empty or all-NA entries is deprecated. In a future version, this will no longer exclude empty or all-NA columns when determining the result dtypes. To retain the old behavior, exclude the relevant entries before the concat operation.\n",
      "  y_cycles = pd.concat([y_cycles, y_interpolated[y_cycles.columns]], ignore_index=True)\n",
      "C:\\Users\\ADITYA\\AppData\\Local\\Temp\\ipykernel_24532\\103487572.py:23: FutureWarning: Series.__getitem__ treating keys as positions is deprecated. In a future version, integer keys will always be treated as labels (consistent with DataFrame behavior). To access a value by position, use `ser.iloc[pos]`\n",
      "  X_array_interpolated['EH'] = X_array_interpolated.apply(lambda row: high_Nernst(EH0, R, T, F, fh, row[0], row[1]), axis=1)\n",
      "C:\\Users\\ADITYA\\AppData\\Local\\Temp\\ipykernel_24532\\103487572.py:24: FutureWarning: Series.__getitem__ treating keys as positions is deprecated. In a future version, integer keys will always be treated as labels (consistent with DataFrame behavior). To access a value by position, use `ser.iloc[pos]`\n",
      "  X_array_interpolated['EL'] = X_array_interpolated.apply(lambda row: low_Nernst(EL0, R, T, F, fl, row[1], row[2], row[3]), axis=1)\n",
      "C:\\Users\\ADITYA\\AppData\\Local\\Temp\\ipykernel_24532\\103487572.py:26: FutureWarning: Series.__getitem__ treating keys as positions is deprecated. In a future version, integer keys will always be treated as labels (consistent with DataFrame behavior). To access a value by position, use `ser.iloc[pos]`\n",
      "  X_array_interpolated['V_cur'] = X_array_interpolated.apply(lambda row: bisection_method(2.5, 2.1, row[9], row[10], current), axis=1)\n"
     ]
    }
   ],
   "source": [
    "data = pd.read_excel('C:/Users/ADITYA/OneDrive - Imperial College London/Year 4/FYP/Final-year-project/VScode//Data/Dataset.xlsx')\n",
    "current = 1.6\n",
    "\n",
    "X_cycles, y_cycles = Data_formatter_cycles(current, data)\n",
    "\n",
    "# Join the DataFrames side by side\n",
    "combined_df_unscaled = pd.concat([X_cycles, y_cycles], axis=1)\n",
    "\n",
    "# Save the combined DataFrame as an Excel file for unscaled data\n",
    "combined_df_unscaled.to_excel('C:/Users/ADITYA/OneDrive - Imperial College London/Year 4/FYP/Final-year-project/VScode//Data/Dataset_unscaled_denoised.xlsx', index=False)"
   ]
  },
  {
   "cell_type": "code",
   "execution_count": 63,
   "metadata": {},
   "outputs": [],
   "source": [
    "scales,X,y = scaler_func(X_cycles,y_cycles,current)\n",
    "\n",
    "\n",
    "# Join the DataFrames side by side\n",
    "combined_df_scaled = pd.concat([X, y], axis=1)\n",
    "\n",
    "# Save the combined DataFrame as an Excel file\n",
    "combined_df_scaled.to_excel('C:/Users/ADITYA/OneDrive - Imperial College London/Year 4/FYP/Final-year-project/VScode//Data/Dataset_scaled_denoised.xlsx', index=False)\n",
    "\n",
    "scales.to_excel('C:/Users/ADITYA/OneDrive - Imperial College London/Year 4/FYP/Final-year-project/VScode/Data/Scales_denoised.xlsx', index=False)"
   ]
  },
  {
   "cell_type": "code",
   "execution_count": 43,
   "metadata": {},
   "outputs": [],
   "source": [
    "# Bisection method function\n",
    "def f(V, EH, EL, I):\n",
    "    # Defined in the code\n",
    "    iH0 = 10\n",
    "    iL0 = 5\n",
    "    R = 8.3145\n",
    "    T = 298\n",
    "    F = 96490\n",
    "    ar = 0.96\n",
    "    return 2 * iH0 * ar * np.sinh((2 * F / (R * T)) * (V - EH)) + 2 * iL0 * ar * np.sinh((2 * F / (R * T)) * (V - EL)) + I\n",
    "\n",
    "# Bisection method adjusted to accept EH, EL, and I\n",
    "def bisection_method(V_a, V_b, EH, EL, I, tol=1e-9, max_iter=10000):\n",
    "    if f(V_a, EH, EL, I) * f(V_b, EH, EL, I) >= 0:\n",
    "        print(\"Bisection method fails.\")\n",
    "        return None\n",
    "\n",
    "    V_m = V_a\n",
    "    for _ in range(max_iter):\n",
    "        V_m = (V_a + V_b) / 2\n",
    "        if f(V_m, EH, EL, I) == 0 or np.abs(f(V_m, EH, EL, I)) < tol:   # (V_b - V_a)/2\n",
    "            return V_m\n",
    "\n",
    "        if f(V_m, EH, EL, I) * f(V_a, EH, EL, I) < 0:\n",
    "            V_b = V_m\n",
    "        else:\n",
    "            V_a = V_m\n",
    "\n",
    "    return V_m  # Return the approximation of the root\n",
    "\n",
    "\n",
    "\n",
    "\n",
    "data = pd.read_excel('C:/Users/ADITYA/OneDrive - Imperial College London/Year 4/FYP/Final-year-project/VScode//Data/Dataset_unscaled_new.xlsx')\n",
    "columns = ['EH','EL']\n",
    "data = data[columns]"
   ]
  },
  {
   "cell_type": "code",
   "execution_count": 44,
   "metadata": {},
   "outputs": [
    {
     "data": {
      "image/png": "[encoded data removed]",
      "text/plain": [
       "<Figure size 640x480 with 1 Axes>"
      ]
     },
     "metadata": {},
     "output_type": "display_data"
    }
   ],
   "source": [
    "import matplotlib.pyplot as plt\n",
    "plt.plot(data['EH'])\n",
    "plt.plot(data['EL'])\n",
    "plt.show()"
   ]
  },
  {
   "cell_type": "code",
   "execution_count": 51,
   "metadata": {},
   "outputs": [
    {
     "name": "stderr",
     "output_type": "stream",
     "text": [
      "C:\\Users\\ADITYA\\AppData\\Local\\Temp\\ipykernel_24532\\1465094466.py:1: FutureWarning: Series.__getitem__ treating keys as positions is deprecated. In a future version, integer keys will always be treated as labels (consistent with DataFrame behavior). To access a value by position, use `ser.iloc[pos]`\n",
      "  data['V'] = data.apply(lambda row: bisection_method(2.5,2.1,row[0],row[1],1.6), axis=1)\n",
      "C:\\Users\\ADITYA\\AppData\\Local\\Temp\\ipykernel_24532\\1465094466.py:17: FutureWarning: Series.__getitem__ treating keys as positions is deprecated. In a future version, integer keys will always be treated as labels (consistent with DataFrame behavior). To access a value by position, use `ser.iloc[pos]`\n",
      "  data['iH'] = data.apply(lambda row: high_BV(iH0,ar,F,R,T,row[2],row[0]), axis=1)\n",
      "C:\\Users\\ADITYA\\AppData\\Local\\Temp\\ipykernel_24532\\1465094466.py:18: FutureWarning: Series.__getitem__ treating keys as positions is deprecated. In a future version, integer keys will always be treated as labels (consistent with DataFrame behavior). To access a value by position, use `ser.iloc[pos]`\n",
      "  data['iL'] = data.apply(lambda row: low_BV(iH0,ar,F,R,T,row[2],row[1]), axis=1)\n"
     ]
    }
   ],
   "source": [
    "data['V'] = data.apply(lambda row: bisection_method(2.5,2.1,row[0],row[1],1.6), axis=1)\n",
    "\n",
    "\n",
    "# Defined in the code\n",
    "EH0 = 2.35\n",
    "EL0 = 2.195\n",
    "iH0 = 10\n",
    "iL0 = 5\n",
    "R = 8.3145\n",
    "T = 298\n",
    "F = 96490\n",
    "fh = 0.7296\n",
    "fl = 0.06654\n",
    "ar = 0.96\n",
    "\n",
    "\n",
    "data['iH'] = data.apply(lambda row: high_BV(iH0,ar,F,R,T,row[2],row[0]), axis=1)\n",
    "data['iL'] = data.apply(lambda row: low_BV(iH0,ar,F,R,T,row[2],row[1]), axis=1)\n"
   ]
  },
  {
   "cell_type": "code",
   "execution_count": 52,
   "metadata": {},
   "outputs": [
    {
     "name": "stdout",
     "output_type": "stream",
     "text": [
      "              EH        EL         V        iH        iL\n",
      "0       2.429525  2.428584  2.428499 -1.536292 -0.127416\n",
      "1       2.429171  2.428060  2.428088 -1.621357  0.042714\n",
      "2       2.428826  2.427711  2.427742 -1.623403  0.046806\n",
      "3       2.428491  2.427375  2.427406 -1.623487  0.046974\n",
      "4       2.428163  2.427047  2.427079 -1.623529  0.047059\n",
      "...          ...       ...       ...       ...       ...\n",
      "144008  2.290259  2.292340  2.290243 -0.024863 -3.150274\n",
      "144009  2.290259  2.292340  2.290243 -0.024863 -3.150274\n",
      "144010  2.290259  2.292340  2.290243 -0.024863 -3.150274\n",
      "144011  2.290259  2.292340  2.290242 -0.024863 -3.150274\n",
      "144012  2.290259  2.292340  2.290242 -0.024863 -3.150274\n",
      "\n",
      "[144013 rows x 5 columns]\n"
     ]
    }
   ],
   "source": [
    "print(data)"
   ]
  }
 ],
 "metadata": {
  "kernelspec": {
   "display_name": "Python 3",
   "language": "python",
   "name": "python3"
  },
  "language_info": {
   "codemirror_mode": {
    "name": "ipython",
    "version": 3
   },
   "file_extension": ".py",
   "mimetype": "text/x-python",
   "name": "python",
   "nbconvert_exporter": "python",
   "pygments_lexer": "ipython3",
   "version": "3.11.6"
  }
 },
 "nbformat": 4,
 "nbformat_minor": 2
}
