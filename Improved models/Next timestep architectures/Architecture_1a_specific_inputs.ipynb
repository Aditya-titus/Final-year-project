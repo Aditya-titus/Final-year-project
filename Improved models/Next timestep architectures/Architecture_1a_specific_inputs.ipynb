{
 "cells": [
  {
   "cell_type": "markdown",
   "metadata": {},
   "source": [
    "# Architecture 1a - Single column next timestep prediction, specific inputs"
   ]
  },
  {
   "cell_type": "code",
   "execution_count": 1,
   "metadata": {},
   "outputs": [
    {
     "name": "stderr",
     "output_type": "stream",
     "text": [
      "C:\\Users\\ADITYA\\AppData\\Local\\Temp\\ipykernel_21404\\6720161.py:2: DeprecationWarning: \n",
      "Pyarrow will become a required dependency of pandas in the next major release of pandas (pandas 3.0),\n",
      "(to allow more performant data types, such as the Arrow string type, and better interoperability with other libraries)\n",
      "but was not found to be installed on your system.\n",
      "If this would cause problems for you,\n",
      "please provide us feedback at https://github.com/pandas-dev/pandas/issues/54466\n",
      "        \n",
      "  import pandas as pd\n"
     ]
    },
    {
     "name": "stdout",
     "output_type": "stream",
     "text": [
      "WARNING:tensorflow:From c:\\Users\\ADITYA\\AppData\\Local\\Programs\\Python\\Python311\\Lib\\site-packages\\keras\\src\\losses.py:2976: The name tf.losses.sparse_softmax_cross_entropy is deprecated. Please use tf.compat.v1.losses.sparse_softmax_cross_entropy instead.\n",
      "\n"
     ]
    }
   ],
   "source": [
    "import numpy as np\n",
    "import pandas as pd\n",
    "import matplotlib.pyplot as plt\n",
    "from sklearn.model_selection import train_test_split\n",
    "from sklearn.preprocessing import StandardScaler\n",
    "from sklearn.preprocessing import MinMaxScaler\n",
    "from tensorflow.keras.models import Sequential\n",
    "from tensorflow.keras.layers import Dense\n",
    "from tensorflow.keras.utils import *"
   ]
  },
  {
   "cell_type": "code",
   "execution_count": 2,
   "metadata": {},
   "outputs": [],
   "source": [
    "data = pd.read_excel('C:/Users/ADITYA/OneDrive - Imperial College London/Year 4/FYP/Final-year-project/VScode/Data/Dataset_scaled_denoised.xlsx')\n",
    "data = data[data['I'] == 1.6]\n",
    "X = data.iloc[1:-1,:11]\n",
    "X = X.drop('I', axis = 1)\n",
    "X = X.drop('Sp_cur', axis = 1)\n",
    "X = X.drop('S1_cur', axis = 1)\n",
    "X = X.drop('S2_cur', axis = 1)\n",
    "X = X.drop('iH', axis = 1)\n",
    "X = X.drop('iL', axis = 1)\n",
    "y = data.iloc[2:,0]"
   ]
  },
  {
   "cell_type": "code",
   "execution_count": 3,
   "metadata": {},
   "outputs": [
    {
     "name": "stdout",
     "output_type": "stream",
     "text": [
      "          S8_cur    S4_cur     V_cur        EH        EL\n",
      "1       2.914558 -2.960002  3.965686  3.914506  4.072668\n",
      "2       2.914450 -2.959872  3.953539  3.902619  4.059976\n",
      "3       2.914342 -2.959743  3.941755  3.891043  4.047754\n",
      "4       2.914234 -2.959613  3.930271  3.879762  4.035847\n",
      "5       2.914126 -2.959483  3.919073  3.868761  4.024235\n",
      "...          ...       ...       ...       ...       ...\n",
      "144007 -0.715584 -0.685297 -0.871372 -0.874460 -0.864714\n",
      "144008 -0.715584 -0.685340 -0.871377 -0.874464 -0.864718\n",
      "144009 -0.715584 -0.685383 -0.871381 -0.874468 -0.864723\n",
      "144010 -0.715584 -0.685426 -0.871385 -0.874473 -0.864727\n",
      "144011 -0.715584 -0.685469 -0.871390 -0.874477 -0.864732\n",
      "\n",
      "[144011 rows x 5 columns]\n"
     ]
    }
   ],
   "source": [
    "print(X)"
   ]
  },
  {
   "cell_type": "code",
   "execution_count": 4,
   "metadata": {},
   "outputs": [],
   "source": [
    "X_numpy = X.values\n",
    "y_numpy = y.values\n",
    "\n",
    "# Split the data into train and test sets\n",
    "X_train, X_test, y_train, y_test = train_test_split(X_numpy, y_numpy, test_size=0.2, random_state=42)"
   ]
  },
  {
   "cell_type": "code",
   "execution_count": 5,
   "metadata": {},
   "outputs": [
    {
     "name": "stdout",
     "output_type": "stream",
     "text": [
      "WARNING:tensorflow:From c:\\Users\\ADITYA\\AppData\\Local\\Programs\\Python\\Python311\\Lib\\site-packages\\keras\\src\\backend.py:873: The name tf.get_default_graph is deprecated. Please use tf.compat.v1.get_default_graph instead.\n",
      "\n",
      "WARNING:tensorflow:From c:\\Users\\ADITYA\\AppData\\Local\\Programs\\Python\\Python311\\Lib\\site-packages\\keras\\src\\optimizers\\__init__.py:309: The name tf.train.Optimizer is deprecated. Please use tf.compat.v1.train.Optimizer instead.\n",
      "\n",
      "Epoch 1/20\n",
      "WARNING:tensorflow:From c:\\Users\\ADITYA\\AppData\\Local\\Programs\\Python\\Python311\\Lib\\site-packages\\keras\\src\\utils\\tf_utils.py:492: The name tf.ragged.RaggedTensorValue is deprecated. Please use tf.compat.v1.ragged.RaggedTensorValue instead.\n",
      "\n",
      "3601/3601 [==============================] - 3s 757us/step - loss: 0.0276\n",
      "Epoch 2/20\n",
      "3601/3601 [==============================] - 3s 745us/step - loss: 7.6143e-05\n",
      "Epoch 3/20\n",
      "3601/3601 [==============================] - 3s 741us/step - loss: 6.4246e-05\n",
      "Epoch 4/20\n",
      "3601/3601 [==============================] - 3s 762us/step - loss: 6.3641e-05\n",
      "Epoch 5/20\n",
      "3601/3601 [==============================] - 3s 815us/step - loss: 6.2293e-05\n",
      "Epoch 6/20\n",
      "3601/3601 [==============================] - 3s 792us/step - loss: 6.2710e-05\n",
      "Epoch 7/20\n",
      "3601/3601 [==============================] - 3s 777us/step - loss: 6.2688e-05\n",
      "Epoch 8/20\n",
      "3601/3601 [==============================] - 3s 746us/step - loss: 6.3253e-05\n",
      "Epoch 9/20\n",
      "3601/3601 [==============================] - 3s 793us/step - loss: 6.2197e-05\n",
      "Epoch 10/20\n",
      "3601/3601 [==============================] - 3s 812us/step - loss: 6.1547e-05\n",
      "Epoch 11/20\n",
      "3601/3601 [==============================] - 3s 791us/step - loss: 6.1974e-05\n",
      "Epoch 12/20\n",
      "3601/3601 [==============================] - 3s 763us/step - loss: 6.3382e-05\n",
      "Epoch 13/20\n",
      "3601/3601 [==============================] - 3s 772us/step - loss: 6.2211e-05\n",
      "Epoch 14/20\n",
      "3601/3601 [==============================] - 3s 776us/step - loss: 6.1634e-05\n",
      "Epoch 15/20\n",
      "3601/3601 [==============================] - 3s 760us/step - loss: 6.2761e-05\n",
      "Epoch 16/20\n",
      "3601/3601 [==============================] - 3s 795us/step - loss: 6.0651e-05\n",
      "Epoch 17/20\n",
      "3601/3601 [==============================] - 3s 810us/step - loss: 6.3134e-05\n",
      "Epoch 18/20\n",
      "3601/3601 [==============================] - 3s 809us/step - loss: 6.3187e-05\n",
      "Epoch 19/20\n",
      "3601/3601 [==============================] - 3s 778us/step - loss: 6.1991e-05\n",
      "Epoch 20/20\n",
      "3601/3601 [==============================] - 3s 769us/step - loss: 6.1823e-05\n"
     ]
    },
    {
     "data": {
      "text/plain": [
       "<keras.src.callbacks.History at 0x18a6fadfe50>"
      ]
     },
     "execution_count": 5,
     "metadata": {},
     "output_type": "execute_result"
    }
   ],
   "source": [
    "model = Sequential()\n",
    "model.add(Dense(10, activation='relu', input_dim = 5))\n",
    "model.add(Dense(5,activation = 'relu'))\n",
    "# model.add(Dense(2,activation = 'relu'))\n",
    "# model.add(Dense(4,activation = 'relu'))\n",
    "model.add(Dense(1, activation='linear'))  # Output layer with a multiple neurons\n",
    "\n",
    "# Compile the model\n",
    "model.compile(optimizer='adam', loss='mean_squared_error')\n",
    "\n",
    "model.fit(X_train, y_train, epochs=20, batch_size=32)"
   ]
  },
  {
   "cell_type": "code",
   "execution_count": 6,
   "metadata": {},
   "outputs": [
    {
     "name": "stdout",
     "output_type": "stream",
     "text": [
      "901/901 [==============================] - 1s 664us/step - loss: 1.8480e-07\n",
      "Mean Squared Error on Test Set: 1.8479890684375277e-07\n"
     ]
    }
   ],
   "source": [
    "# Evaluate the model on the test set\n",
    "mse = model.evaluate(X_test, y_test)\n",
    "print(f\"Mean Squared Error on Test Set: {mse}\")"
   ]
  }
 ],
 "metadata": {
  "kernelspec": {
   "display_name": "Python 3",
   "language": "python",
   "name": "python3"
  },
  "language_info": {
   "codemirror_mode": {
    "name": "ipython",
    "version": 3
   },
   "file_extension": ".py",
   "mimetype": "text/x-python",
   "name": "python",
   "nbconvert_exporter": "python",
   "pygments_lexer": "ipython3",
   "version": "3.11.6"
  }
 },
 "nbformat": 4,
 "nbformat_minor": 2
}
