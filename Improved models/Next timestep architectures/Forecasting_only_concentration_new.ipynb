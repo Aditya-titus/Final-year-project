{
 "cells": [
  {
   "cell_type": "markdown",
   "metadata": {},
   "source": [
    "# Forecasting individual concentraions without partial currents"
   ]
  },
  {
   "cell_type": "markdown",
   "metadata": {},
   "source": [
    "### 1) Importing libraries and functions"
   ]
  },
  {
   "cell_type": "code",
   "execution_count": 1,
   "metadata": {},
   "outputs": [
    {
     "name": "stderr",
     "output_type": "stream",
     "text": [
      "C:\\Users\\ADITYA\\AppData\\Local\\Temp\\ipykernel_32756\\1782324082.py:2: DeprecationWarning: \n",
      "Pyarrow will become a required dependency of pandas in the next major release of pandas (pandas 3.0),\n",
      "(to allow more performant data types, such as the Arrow string type, and better interoperability with other libraries)\n",
      "but was not found to be installed on your system.\n",
      "If this would cause problems for you,\n",
      "please provide us feedback at https://github.com/pandas-dev/pandas/issues/54466\n",
      "        \n",
      "  import pandas as pd\n"
     ]
    },
    {
     "name": "stdout",
     "output_type": "stream",
     "text": [
      "WARNING:tensorflow:From c:\\Users\\ADITYA\\AppData\\Local\\Programs\\Python\\Python311\\Lib\\site-packages\\keras\\src\\losses.py:2976: The name tf.losses.sparse_softmax_cross_entropy is deprecated. Please use tf.compat.v1.losses.sparse_softmax_cross_entropy instead.\n",
      "\n"
     ]
    }
   ],
   "source": [
    "import numpy as np\n",
    "import pandas as pd\n",
    "import matplotlib.pyplot as plt\n",
    "from sklearn.model_selection import train_test_split\n",
    "from sklearn.preprocessing import StandardScaler\n",
    "from sklearn.preprocessing import MinMaxScaler\n",
    "from tensorflow.keras.models import Sequential\n",
    "from tensorflow.keras.layers import Dense\n",
    "from tensorflow.keras.utils import *\n",
    "\n",
    "\n",
    "# from Data_sorting import Data_formatter_cycles"
   ]
  },
  {
   "cell_type": "code",
   "execution_count": 2,
   "metadata": {},
   "outputs": [],
   "source": [
    "data = pd.read_excel('C:/Users/ADITYA/OneDrive - Imperial College London/Year 4/FYP/Final-year-project/VScode//Data/Dataset_scaled_denoised.xlsx')\n",
    "data = data[data['I'] == 1.6]\n",
    "X = data.iloc[1:,:9]\n",
    "X = X.drop('I', axis = 1)\n",
    "y = data.iloc[1:,11:16]"
   ]
  },
  {
   "cell_type": "code",
   "execution_count": 3,
   "metadata": {},
   "outputs": [
    {
     "name": "stdout",
     "output_type": "stream",
     "text": [
      "          S8_cur    S4_cur    S2_cur    S1_cur     V_cur    Sp_cur        EH  \\\n",
      "1       2.914558 -2.960002 -0.929154 -0.232859  3.965686 -0.925127  3.914506   \n",
      "2       2.914450 -2.959872 -0.929154 -0.232859  3.953539 -0.925127  3.902619   \n",
      "3       2.914342 -2.959743 -0.929154 -0.232858  3.941755 -0.925127  3.891043   \n",
      "4       2.914234 -2.959613 -0.929154 -0.232858  3.930271 -0.925127  3.879762   \n",
      "5       2.914126 -2.959483 -0.929154 -0.232858  3.919073 -0.925127  3.868761   \n",
      "...          ...       ...       ...       ...       ...       ...       ...   \n",
      "144008 -0.715584 -0.685340  2.665422 -0.146794 -0.871377  2.664142 -0.874464   \n",
      "144009 -0.715584 -0.685383  2.665497 -0.146795 -0.871381  2.664216 -0.874468   \n",
      "144010 -0.715584 -0.685426  2.665571 -0.146795 -0.871385  2.664290 -0.874473   \n",
      "144011 -0.715584 -0.685469  2.665645 -0.146796 -0.871390  2.664365 -0.874477   \n",
      "144012 -0.715584 -0.685512  2.665719 -0.146797 -0.871394  2.664439 -0.874481   \n",
      "\n",
      "              EL  \n",
      "1       4.072668  \n",
      "2       4.059976  \n",
      "3       4.047754  \n",
      "4       4.035847  \n",
      "5       4.024235  \n",
      "...          ...  \n",
      "144008 -0.864718  \n",
      "144009 -0.864723  \n",
      "144010 -0.864727  \n",
      "144011 -0.864732  \n",
      "144012 -0.864736  \n",
      "\n",
      "[144012 rows x 8 columns]\n"
     ]
    }
   ],
   "source": [
    "print(X)"
   ]
  },
  {
   "cell_type": "markdown",
   "metadata": {},
   "source": [
    "# S8 Prediction"
   ]
  },
  {
   "cell_type": "code",
   "execution_count": 82,
   "metadata": {},
   "outputs": [],
   "source": [
    "X_S8 = X.copy()\n",
    "X_S8 = X_S8.drop('S1_cur', axis = 1)\n",
    "X_S8 = X_S8.drop('S2_cur', axis = 1)\n",
    "X_S8 = X_S8.drop('Sp_cur', axis = 1)\n",
    "# X_S8 = X_S8.drop('V_cur', axis = 1)\n",
    "# X_S8 = X_S8.drop('iH', axis = 1)\n",
    "   \n",
    "\n",
    "y_S8 = y['S8_cur.1']\n",
    "\n",
    "X_numpy_S8 = X_S8.values\n",
    "y_numpy_S8 = y_S8.values\n",
    "\n",
    "# Split the data into train and test sets\n",
    "X_train_S8, X_test_S8, y_train_S8, y_test_S8 = train_test_split(X_numpy_S8, y_numpy_S8, test_size=0.2, random_state=42)"
   ]
  },
  {
   "cell_type": "code",
   "execution_count": 83,
   "metadata": {},
   "outputs": [
    {
     "name": "stdout",
     "output_type": "stream",
     "text": [
      "Epoch 1/20\n"
     ]
    },
    {
     "name": "stdout",
     "output_type": "stream",
     "text": [
      "3601/3601 [==============================] - 3s 732us/step - loss: 0.0124\n",
      "Epoch 2/20\n",
      "3601/3601 [==============================] - 3s 758us/step - loss: 6.2025e-06\n",
      "Epoch 3/20\n",
      "3601/3601 [==============================] - 3s 754us/step - loss: 3.0498e-06\n",
      "Epoch 4/20\n",
      "3601/3601 [==============================] - 3s 741us/step - loss: 3.2809e-06\n",
      "Epoch 5/20\n",
      "3601/3601 [==============================] - 3s 761us/step - loss: 3.2186e-06\n",
      "Epoch 6/20\n",
      "3601/3601 [==============================] - 3s 756us/step - loss: 2.4703e-06\n",
      "Epoch 7/20\n",
      "3601/3601 [==============================] - 3s 748us/step - loss: 2.0068e-06\n",
      "Epoch 8/20\n",
      "3601/3601 [==============================] - 3s 752us/step - loss: 2.1774e-06\n",
      "Epoch 9/20\n",
      "3601/3601 [==============================] - 3s 743us/step - loss: 2.2225e-06\n",
      "Epoch 10/20\n",
      "3601/3601 [==============================] - 3s 718us/step - loss: 2.1963e-06\n",
      "Epoch 11/20\n",
      "3601/3601 [==============================] - 3s 742us/step - loss: 1.7371e-06\n",
      "Epoch 12/20\n",
      "3601/3601 [==============================] - 3s 784us/step - loss: 1.9562e-06\n",
      "Epoch 13/20\n",
      "3601/3601 [==============================] - 3s 742us/step - loss: 5.8557e-06\n",
      "Epoch 14/20\n",
      "3601/3601 [==============================] - 3s 776us/step - loss: 1.5502e-06\n",
      "Epoch 15/20\n",
      "3601/3601 [==============================] - 3s 784us/step - loss: 3.1640e-06\n",
      "Epoch 16/20\n",
      "3601/3601 [==============================] - 3s 751us/step - loss: 1.6560e-06\n",
      "Epoch 17/20\n",
      "3601/3601 [==============================] - 3s 756us/step - loss: 3.0957e-06\n",
      "Epoch 18/20\n",
      "3601/3601 [==============================] - 3s 751us/step - loss: 1.6756e-06\n",
      "Epoch 19/20\n",
      "3601/3601 [==============================] - 3s 730us/step - loss: 2.6402e-06\n",
      "Epoch 20/20\n",
      "3601/3601 [==============================] - 3s 797us/step - loss: 1.9783e-06\n"
     ]
    },
    {
     "data": {
      "text/plain": [
       "<keras.src.callbacks.History at 0x1a359f26c50>"
      ]
     },
     "execution_count": 83,
     "metadata": {},
     "output_type": "execute_result"
    }
   ],
   "source": [
    "model8 = Sequential()\n",
    "model8.add(Dense(10, activation='relu', input_dim = 5))\n",
    "# model.add(Dense(6, activation='relu'))\n",
    "# model.add(Dense(12,activation = 'relu'))\n",
    "model8.add(Dense(5,activation = 'relu'))\n",
    "# model.add(Dense(10, activation='relu'))\n",
    "model8.add(Dense(1, activation='linear'))  # Output layer with a multiple neurons\n",
    "\n",
    "# Compile the model\n",
    "model8.compile(optimizer='adam', loss='mean_squared_error')\n",
    "\n",
    "model8.fit(X_train_S8, y_train_S8, epochs=20, batch_size=32)"
   ]
  },
  {
   "cell_type": "code",
   "execution_count": 84,
   "metadata": {},
   "outputs": [
    {
     "name": "stdout",
     "output_type": "stream",
     "text": [
      "901/901 [==============================] - 1s 647us/step - loss: 4.1473e-07\n",
      "Mean Squared Error on Test Set: 4.1472571865597274e-07\n"
     ]
    }
   ],
   "source": [
    "# Evaluate the model on the test set\n",
    "mse = model8.evaluate(X_test_S8, y_test_S8)\n",
    "print(f\"Mean Squared Error on Test Set: {mse}\")"
   ]
  },
  {
   "cell_type": "markdown",
   "metadata": {},
   "source": [
    "# S4 prediction"
   ]
  },
  {
   "cell_type": "code",
   "execution_count": 14,
   "metadata": {},
   "outputs": [],
   "source": [
    "X_S4 = X.copy()\n",
    "# X_S4 = X_S4.drop('iL', axis = 1)\n",
    "# X_S4 = X_S4.drop('iH', axis = 1)\n",
    "X_S4 = X_S4.drop('S8_cur', axis = 1)\n",
    "\n",
    "y_S4 = y['S4_cur.1']\n",
    "\n",
    "X_numpy_S4 = X_S4.values\n",
    "y_numpy_S4 = y_S4.values\n",
    "\n",
    "# Split the data into train and test sets\n",
    "X_train_S4, X_test_S4, y_train_S4, y_test_S4 = train_test_split(X_numpy_S4, y_numpy_S4, test_size=0.2, random_state=42)"
   ]
  },
  {
   "cell_type": "code",
   "execution_count": 88,
   "metadata": {},
   "outputs": [
    {
     "name": "stdout",
     "output_type": "stream",
     "text": [
      "Epoch 1/20\n",
      "3601/3601 [==============================] - 3s 794us/step - loss: 0.0595\n",
      "Epoch 2/20\n",
      "3601/3601 [==============================] - 3s 828us/step - loss: 2.3103e-04\n",
      "Epoch 3/20\n",
      "3601/3601 [==============================] - 3s 810us/step - loss: 3.1810e-05\n",
      "Epoch 4/20\n",
      "3601/3601 [==============================] - 3s 809us/step - loss: 2.0433e-05\n",
      "Epoch 5/20\n",
      "3601/3601 [==============================] - 3s 801us/step - loss: 1.2829e-05\n",
      "Epoch 6/20\n",
      "3601/3601 [==============================] - 3s 777us/step - loss: 6.9484e-06\n",
      "Epoch 7/20\n",
      "3601/3601 [==============================] - 3s 774us/step - loss: 4.2662e-06\n",
      "Epoch 8/20\n",
      "3601/3601 [==============================] - 3s 736us/step - loss: 3.8594e-06\n",
      "Epoch 9/20\n",
      "3601/3601 [==============================] - 3s 776us/step - loss: 4.1172e-06\n",
      "Epoch 10/20\n",
      "3601/3601 [==============================] - 3s 781us/step - loss: 3.6695e-06\n",
      "Epoch 11/20\n",
      "3601/3601 [==============================] - 3s 778us/step - loss: 3.8432e-06\n",
      "Epoch 12/20\n",
      "3601/3601 [==============================] - 3s 826us/step - loss: 3.1632e-06\n",
      "Epoch 13/20\n",
      "3601/3601 [==============================] - 3s 811us/step - loss: 3.7473e-06\n",
      "Epoch 14/20\n",
      "3601/3601 [==============================] - 3s 807us/step - loss: 3.0166e-06\n",
      "Epoch 15/20\n",
      "3601/3601 [==============================] - 3s 810us/step - loss: 2.9710e-06\n",
      "Epoch 16/20\n",
      "3601/3601 [==============================] - 3s 798us/step - loss: 2.6137e-06\n",
      "Epoch 17/20\n",
      "3601/3601 [==============================] - 3s 781us/step - loss: 2.9493e-06\n",
      "Epoch 18/20\n",
      "3601/3601 [==============================] - 3s 768us/step - loss: 2.5702e-06\n",
      "Epoch 19/20\n",
      "3601/3601 [==============================] - 3s 769us/step - loss: 2.9182e-06\n",
      "Epoch 20/20\n",
      "3601/3601 [==============================] - 3s 785us/step - loss: 2.8327e-06\n"
     ]
    },
    {
     "data": {
      "text/plain": [
       "<keras.src.callbacks.History at 0x1a36f1c7510>"
      ]
     },
     "execution_count": 88,
     "metadata": {},
     "output_type": "execute_result"
    }
   ],
   "source": [
    "model4 = Sequential()\n",
    "model4.add(Dense(7, activation='relu', input_dim = 7))\n",
    "# model.add(Dense(6, activation='relu'))\n",
    "# model.add(Dense(12,activation = 'relu'))\n",
    "model4.add(Dense(4,activation = 'relu'))\n",
    "model4.add(Dense(2,activation = 'relu'))\n",
    "# model.add(Dense(10, activation='relu'))\n",
    "model4.add(Dense(1, activation='linear'))  # Output layer with a multiple neurons\n",
    "\n",
    "# Compile the model\n",
    "model4.compile(optimizer='adam', loss='mean_squared_error')\n",
    "\n",
    "model4.fit(X_train_S4, y_train_S4, epochs=20, batch_size=32)"
   ]
  },
  {
   "cell_type": "code",
   "execution_count": 89,
   "metadata": {},
   "outputs": [
    {
     "name": "stdout",
     "output_type": "stream",
     "text": [
      "901/901 [==============================] - 1s 629us/step - loss: 8.4563e-07\n",
      "Mean Squared Error on Test Set: 8.456327122985385e-07\n"
     ]
    }
   ],
   "source": [
    "# Evaluate the model on the test set\n",
    "mse = model4.evaluate(X_test_S4, y_test_S4)\n",
    "print(f\"Mean Squared Error on Test Set: {mse}\")"
   ]
  },
  {
   "cell_type": "markdown",
   "metadata": {},
   "source": [
    "# S2 prediction"
   ]
  },
  {
   "cell_type": "code",
   "execution_count": 19,
   "metadata": {},
   "outputs": [],
   "source": [
    "X_S2 = X.copy()\n",
    "X_S2 = X_S2.drop('EH', axis = 1)\n",
    "X_S2 = X_S2.drop('S8_cur', axis = 1)\n",
    "X_S2 = X_S2.drop('V_cur', axis = 1)\n",
    "\n",
    "y_S2 = y['S2_cur.1']\n",
    "\n",
    "X_numpy_S2 = X_S2.values\n",
    "y_numpy_S2 = y_S2.values\n",
    "\n",
    "# Split the data into train and test sets\n",
    "X_train_S2, X_test_S2, y_train_S2, y_test_S2 = train_test_split(X_numpy_S2, y_numpy_S2, test_size=0.2, random_state=42)"
   ]
  },
  {
   "cell_type": "code",
   "execution_count": 24,
   "metadata": {},
   "outputs": [
    {
     "name": "stdout",
     "output_type": "stream",
     "text": [
      "Epoch 1/20\n",
      "3601/3601 [==============================] - 3s 780us/step - loss: 0.0449\n",
      "Epoch 2/20\n",
      "3601/3601 [==============================] - 3s 754us/step - loss: 9.1706e-05\n",
      "Epoch 3/20\n",
      "3601/3601 [==============================] - 3s 733us/step - loss: 2.0122e-05\n",
      "Epoch 4/20\n",
      "3601/3601 [==============================] - 3s 747us/step - loss: 1.0795e-05\n",
      "Epoch 5/20\n",
      "3601/3601 [==============================] - 3s 738us/step - loss: 7.0133e-06\n",
      "Epoch 6/20\n",
      "3601/3601 [==============================] - 3s 733us/step - loss: 4.3017e-06\n",
      "Epoch 7/20\n",
      "3601/3601 [==============================] - 3s 743us/step - loss: 2.1470e-06\n",
      "Epoch 8/20\n",
      "3601/3601 [==============================] - 3s 755us/step - loss: 1.5877e-06\n",
      "Epoch 9/20\n",
      "3601/3601 [==============================] - 3s 750us/step - loss: 1.3155e-06\n",
      "Epoch 10/20\n",
      "3601/3601 [==============================] - 3s 744us/step - loss: 1.3341e-06\n",
      "Epoch 11/20\n",
      "3601/3601 [==============================] - 3s 742us/step - loss: 8.1072e-07\n",
      "Epoch 12/20\n",
      "3601/3601 [==============================] - 3s 751us/step - loss: 8.4905e-07\n",
      "Epoch 13/20\n",
      "3601/3601 [==============================] - 3s 761us/step - loss: 7.1908e-07\n",
      "Epoch 14/20\n",
      "3601/3601 [==============================] - 3s 763us/step - loss: 7.6012e-07\n",
      "Epoch 15/20\n",
      "3601/3601 [==============================] - 3s 757us/step - loss: 1.2537e-06\n",
      "Epoch 16/20\n",
      "3601/3601 [==============================] - 3s 747us/step - loss: 7.5409e-07\n",
      "Epoch 17/20\n",
      "3601/3601 [==============================] - 3s 746us/step - loss: 5.1006e-07\n",
      "Epoch 18/20\n",
      "3601/3601 [==============================] - 3s 763us/step - loss: 1.4993e-06\n",
      "Epoch 19/20\n",
      "3601/3601 [==============================] - 3s 743us/step - loss: 3.9111e-07\n",
      "Epoch 20/20\n",
      "3601/3601 [==============================] - 3s 766us/step - loss: 1.0188e-06\n"
     ]
    },
    {
     "data": {
      "text/plain": [
       "<keras.src.callbacks.History at 0x1a3437f1e10>"
      ]
     },
     "execution_count": 24,
     "metadata": {},
     "output_type": "execute_result"
    }
   ],
   "source": [
    "model2 = Sequential()\n",
    "model2.add(Dense(5, activation='relu', input_dim = 5))\n",
    "# model.add(Dense(6, activation='relu'))\n",
    "# model.add(Dense(12,activation = 'relu'))\n",
    "model2.add(Dense(2,activation = 'relu'))\n",
    "# model.add(Dense(10, activation='relu'))\n",
    "model2.add(Dense(1, activation='linear'))  # Output layer with a multiple neurons\n",
    "\n",
    "# Compile the model\n",
    "model2.compile(optimizer='adam', loss='mean_squared_error')\n",
    "\n",
    "model2.fit(X_train_S2, y_train_S2, epochs=20, batch_size=32)"
   ]
  },
  {
   "cell_type": "code",
   "execution_count": 25,
   "metadata": {},
   "outputs": [
    {
     "name": "stdout",
     "output_type": "stream",
     "text": [
      "901/901 [==============================] - 1s 627us/step - loss: 5.2132e-08\n",
      "Mean Squared Error on Test Set: 5.2131738925709215e-08\n"
     ]
    }
   ],
   "source": [
    "# Evaluate the model on the test set\n",
    "mse = model2.evaluate(X_test_S2, y_test_S2)\n",
    "print(f\"Mean Squared Error on Test Set: {mse}\")"
   ]
  },
  {
   "cell_type": "markdown",
   "metadata": {},
   "source": [
    "# S1 prediction"
   ]
  },
  {
   "cell_type": "code",
   "execution_count": 43,
   "metadata": {},
   "outputs": [],
   "source": [
    "X_S1 = X.copy()\n",
    "X_S1 = X_S1.drop('S8_cur', axis = 1)\n",
    "# X_S1 = X_S1.drop('Sp_cur', axis = 1)\n",
    "# X_S1 = X_S1.drop('S2_cur', axis = 1)\n",
    "\n",
    "\n",
    "y_S1 = y['S1_cur.1']\n",
    "\n",
    "X_numpy_S1 = X_S1.values\n",
    "y_numpy_S1 = y_S1.values\n",
    "\n",
    "# Split the data into train and test sets\n",
    "X_train_S1, X_test_S1, y_train_S1, y_test_S1 = train_test_split(X_numpy_S1, y_numpy_S1, test_size=0.2, random_state=42)"
   ]
  },
  {
   "cell_type": "code",
   "execution_count": 101,
   "metadata": {},
   "outputs": [
    {
     "name": "stdout",
     "output_type": "stream",
     "text": [
      "Epoch 1/100\n",
      "3601/3601 [==============================] - 4s 915us/step - loss: 0.0975\n",
      "Epoch 2/100\n",
      "3601/3601 [==============================] - 3s 923us/step - loss: 6.0778e-04\n",
      "Epoch 3/100\n",
      "3601/3601 [==============================] - 3s 936us/step - loss: 4.9315e-04\n",
      "Epoch 4/100\n",
      "3601/3601 [==============================] - 3s 897us/step - loss: 5.1759e-04\n",
      "Epoch 5/100\n",
      "3601/3601 [==============================] - 3s 852us/step - loss: 4.2429e-04\n",
      "Epoch 6/100\n",
      "3601/3601 [==============================] - 3s 860us/step - loss: 3.1375e-04\n",
      "Epoch 7/100\n",
      "3601/3601 [==============================] - 3s 819us/step - loss: 3.7208e-04\n",
      "Epoch 8/100\n",
      "3601/3601 [==============================] - 3s 843us/step - loss: 2.9909e-04\n",
      "Epoch 9/100\n",
      "3601/3601 [==============================] - 4s 1ms/step - loss: 3.6745e-04\n",
      "Epoch 10/100\n",
      "3601/3601 [==============================] - 3s 892us/step - loss: 2.7967e-04\n",
      "Epoch 11/100\n",
      "3601/3601 [==============================] - 3s 900us/step - loss: 1.6440e-04\n",
      "Epoch 12/100\n",
      "3601/3601 [==============================] - 3s 898us/step - loss: 2.5205e-04\n",
      "Epoch 13/100\n",
      "3601/3601 [==============================] - 3s 884us/step - loss: 2.2265e-04\n",
      "Epoch 14/100\n",
      "3601/3601 [==============================] - 3s 790us/step - loss: 1.9527e-04\n",
      "Epoch 15/100\n",
      "3601/3601 [==============================] - 3s 847us/step - loss: 2.1513e-04\n",
      "Epoch 16/100\n",
      "3601/3601 [==============================] - 3s 842us/step - loss: 1.7152e-04\n",
      "Epoch 17/100\n",
      "3601/3601 [==============================] - 3s 843us/step - loss: 2.1712e-04\n",
      "Epoch 18/100\n",
      "3601/3601 [==============================] - 3s 820us/step - loss: 1.8689e-04\n",
      "Epoch 19/100\n",
      "3601/3601 [==============================] - 3s 833us/step - loss: 1.6912e-04\n",
      "Epoch 20/100\n",
      "3601/3601 [==============================] - 3s 871us/step - loss: 1.8190e-04\n",
      "Epoch 21/100\n",
      "3601/3601 [==============================] - 3s 828us/step - loss: 1.7697e-04\n",
      "Epoch 22/100\n",
      "3601/3601 [==============================] - 3s 890us/step - loss: 1.7772e-04\n",
      "Epoch 23/100\n",
      "3601/3601 [==============================] - 3s 816us/step - loss: 2.0986e-04\n",
      "Epoch 24/100\n",
      "3601/3601 [==============================] - 3s 859us/step - loss: 1.6715e-04\n",
      "Epoch 25/100\n",
      "3601/3601 [==============================] - 3s 846us/step - loss: 1.6255e-04\n",
      "Epoch 26/100\n",
      "3601/3601 [==============================] - 3s 905us/step - loss: 1.4868e-04\n",
      "Epoch 27/100\n",
      "3601/3601 [==============================] - 3s 871us/step - loss: 1.8295e-04\n",
      "Epoch 28/100\n",
      "3601/3601 [==============================] - 3s 844us/step - loss: 9.0129e-05\n",
      "Epoch 29/100\n",
      "3601/3601 [==============================] - 3s 841us/step - loss: 9.8128e-05\n",
      "Epoch 30/100\n",
      "3601/3601 [==============================] - 3s 889us/step - loss: 1.1316e-04\n",
      "Epoch 31/100\n",
      "3601/3601 [==============================] - 3s 841us/step - loss: 1.2470e-04\n",
      "Epoch 32/100\n",
      "3601/3601 [==============================] - 3s 867us/step - loss: 1.0180e-04\n",
      "Epoch 33/100\n",
      "3601/3601 [==============================] - 3s 836us/step - loss: 9.7853e-05\n",
      "Epoch 34/100\n",
      "3601/3601 [==============================] - 3s 883us/step - loss: 1.4807e-04\n",
      "Epoch 35/100\n",
      "3601/3601 [==============================] - 3s 829us/step - loss: 1.0030e-04\n",
      "Epoch 36/100\n",
      "3601/3601 [==============================] - 3s 881us/step - loss: 1.1011e-04\n",
      "Epoch 37/100\n",
      "3601/3601 [==============================] - 3s 851us/step - loss: 1.2289e-04\n",
      "Epoch 38/100\n",
      "3601/3601 [==============================] - 3s 817us/step - loss: 9.5955e-05\n",
      "Epoch 39/100\n",
      "3601/3601 [==============================] - 3s 875us/step - loss: 1.0432e-04\n",
      "Epoch 40/100\n",
      "3601/3601 [==============================] - 3s 952us/step - loss: 1.0908e-04\n",
      "Epoch 41/100\n",
      "3601/3601 [==============================] - 3s 912us/step - loss: 8.8867e-05\n",
      "Epoch 42/100\n",
      "3601/3601 [==============================] - 3s 903us/step - loss: 9.1647e-05\n",
      "Epoch 43/100\n",
      "3601/3601 [==============================] - 3s 921us/step - loss: 1.2052e-04\n",
      "Epoch 44/100\n",
      "3601/3601 [==============================] - 3s 902us/step - loss: 1.0563e-04\n",
      "Epoch 45/100\n",
      "3601/3601 [==============================] - 3s 883us/step - loss: 8.8585e-05\n",
      "Epoch 46/100\n",
      "3601/3601 [==============================] - 3s 860us/step - loss: 1.0168e-04\n",
      "Epoch 47/100\n",
      "3601/3601 [==============================] - 3s 892us/step - loss: 7.5996e-05\n",
      "Epoch 48/100\n",
      "3601/3601 [==============================] - 3s 892us/step - loss: 1.0690e-04\n",
      "Epoch 49/100\n",
      "3601/3601 [==============================] - 3s 822us/step - loss: 8.2270e-05\n",
      "Epoch 50/100\n",
      "3601/3601 [==============================] - 3s 788us/step - loss: 7.9661e-05\n",
      "Epoch 51/100\n",
      "3601/3601 [==============================] - 3s 796us/step - loss: 7.7307e-05\n",
      "Epoch 52/100\n",
      "3601/3601 [==============================] - 3s 795us/step - loss: 1.0666e-04\n",
      "Epoch 53/100\n",
      "3601/3601 [==============================] - 3s 810us/step - loss: 8.7986e-05\n",
      "Epoch 54/100\n",
      "3601/3601 [==============================] - 3s 810us/step - loss: 8.9543e-05\n",
      "Epoch 55/100\n",
      "3601/3601 [==============================] - 3s 862us/step - loss: 5.4984e-05\n",
      "Epoch 56/100\n",
      "3601/3601 [==============================] - 3s 869us/step - loss: 7.4309e-05\n",
      "Epoch 57/100\n",
      "3601/3601 [==============================] - 3s 833us/step - loss: 9.2933e-05\n",
      "Epoch 58/100\n",
      "3601/3601 [==============================] - 3s 834us/step - loss: 8.3702e-05\n",
      "Epoch 59/100\n",
      "3601/3601 [==============================] - 3s 843us/step - loss: 9.2361e-05\n",
      "Epoch 60/100\n",
      "3601/3601 [==============================] - 3s 847us/step - loss: 7.7448e-05\n",
      "Epoch 61/100\n",
      "3601/3601 [==============================] - 3s 839us/step - loss: 1.0245e-04\n",
      "Epoch 62/100\n",
      "3601/3601 [==============================] - 3s 844us/step - loss: 8.1115e-05\n",
      "Epoch 63/100\n",
      "3601/3601 [==============================] - 3s 856us/step - loss: 7.5508e-05\n",
      "Epoch 64/100\n",
      "3601/3601 [==============================] - 3s 845us/step - loss: 7.3438e-05\n",
      "Epoch 65/100\n",
      "3601/3601 [==============================] - 3s 851us/step - loss: 7.5725e-05\n",
      "Epoch 66/100\n",
      "3601/3601 [==============================] - 3s 842us/step - loss: 7.5616e-05\n",
      "Epoch 67/100\n",
      "3601/3601 [==============================] - 3s 838us/step - loss: 6.8925e-05\n",
      "Epoch 68/100\n",
      "3601/3601 [==============================] - 3s 846us/step - loss: 6.0156e-05\n",
      "Epoch 69/100\n",
      "3601/3601 [==============================] - 3s 863us/step - loss: 6.4585e-05\n",
      "Epoch 70/100\n",
      "3601/3601 [==============================] - 3s 824us/step - loss: 6.8809e-05\n",
      "Epoch 71/100\n",
      "3601/3601 [==============================] - 3s 877us/step - loss: 6.3779e-05\n",
      "Epoch 72/100\n",
      "3601/3601 [==============================] - 3s 841us/step - loss: 6.0366e-05\n",
      "Epoch 73/100\n",
      "3601/3601 [==============================] - 3s 836us/step - loss: 5.8171e-05\n",
      "Epoch 74/100\n",
      "3601/3601 [==============================] - 3s 863us/step - loss: 6.5504e-05\n",
      "Epoch 75/100\n",
      "3601/3601 [==============================] - 3s 896us/step - loss: 7.0328e-05\n",
      "Epoch 76/100\n",
      "3601/3601 [==============================] - 3s 861us/step - loss: 1.4493e-04\n",
      "Epoch 77/100\n",
      "3601/3601 [==============================] - 3s 856us/step - loss: 8.1386e-05\n",
      "Epoch 78/100\n",
      "3601/3601 [==============================] - 3s 850us/step - loss: 5.6059e-05\n",
      "Epoch 79/100\n",
      "3601/3601 [==============================] - 3s 842us/step - loss: 6.1695e-05\n",
      "Epoch 80/100\n",
      "3601/3601 [==============================] - 3s 835us/step - loss: 6.5345e-05\n",
      "Epoch 81/100\n",
      "3601/3601 [==============================] - 3s 851us/step - loss: 6.1701e-05\n",
      "Epoch 82/100\n",
      "3601/3601 [==============================] - 3s 850us/step - loss: 7.9118e-05\n",
      "Epoch 83/100\n",
      "3601/3601 [==============================] - 3s 866us/step - loss: 4.7701e-05\n",
      "Epoch 84/100\n",
      "3601/3601 [==============================] - 3s 863us/step - loss: 4.0173e-05\n",
      "Epoch 85/100\n",
      "3601/3601 [==============================] - 3s 883us/step - loss: 7.3528e-05\n",
      "Epoch 86/100\n",
      "3601/3601 [==============================] - 3s 861us/step - loss: 5.5772e-05\n",
      "Epoch 87/100\n",
      "3601/3601 [==============================] - 3s 861us/step - loss: 7.3576e-05\n",
      "Epoch 88/100\n",
      "3601/3601 [==============================] - 3s 816us/step - loss: 5.6335e-05\n",
      "Epoch 89/100\n",
      "3601/3601 [==============================] - 3s 793us/step - loss: 5.2104e-05\n",
      "Epoch 90/100\n",
      "3601/3601 [==============================] - 3s 857us/step - loss: 6.2935e-05\n",
      "Epoch 91/100\n",
      "3601/3601 [==============================] - 3s 893us/step - loss: 5.2623e-05\n",
      "Epoch 92/100\n",
      "3601/3601 [==============================] - 3s 907us/step - loss: 5.1022e-05\n",
      "Epoch 93/100\n",
      "3601/3601 [==============================] - 3s 796us/step - loss: 5.3442e-05\n",
      "Epoch 94/100\n",
      "3601/3601 [==============================] - 3s 772us/step - loss: 6.8961e-05\n",
      "Epoch 95/100\n",
      "3601/3601 [==============================] - 3s 941us/step - loss: 6.6396e-05\n",
      "Epoch 96/100\n",
      "3601/3601 [==============================] - 3s 906us/step - loss: 5.1780e-05\n",
      "Epoch 97/100\n",
      "3601/3601 [==============================] - 3s 894us/step - loss: 9.0745e-05\n",
      "Epoch 98/100\n",
      "3601/3601 [==============================] - 3s 863us/step - loss: 4.9100e-05\n",
      "Epoch 99/100\n",
      "3601/3601 [==============================] - 3s 787us/step - loss: 5.7744e-05\n",
      "Epoch 100/100\n",
      "3601/3601 [==============================] - 3s 835us/step - loss: 4.8163e-05\n"
     ]
    },
    {
     "data": {
      "text/plain": [
       "<keras.src.callbacks.History at 0x1a38d045010>"
      ]
     },
     "execution_count": 101,
     "metadata": {},
     "output_type": "execute_result"
    }
   ],
   "source": [
    "model1 = Sequential()\n",
    "model1.add(Dense(64, activation='relu', input_dim = 7))\n",
    "# model.add(Dense(6, activation='relu'))\n",
    "# model1.add(Dense(12,activation = 'relu'))\n",
    "model1.add(Dense(32,activation = 'relu'))\n",
    "model1.add(Dense(16,activation = 'sigmoid'))\n",
    "# model1.add(Dense(1,activation = 'tanh'))\n",
    "model1.add(Dense(4,activation = 'relu'))\n",
    "# model.add(Dense(10, activation='relu'))\n",
    "model1.add(Dense(1, activation='linear'))  # Output layer with a multiple neurons\n",
    "\n",
    "# Compile the model\n",
    "model1.compile(optimizer='adam', loss='mean_squared_error')\n",
    "\n",
    "model1.fit(X_train_S1, y_train_S1, epochs=100, batch_size=32)"
   ]
  },
  {
   "cell_type": "code",
   "execution_count": 100,
   "metadata": {},
   "outputs": [
    {
     "name": "stdout",
     "output_type": "stream",
     "text": [
      "901/901 [==============================] - 1s 698us/step - loss: 5.8081e-05\n",
      "Mean Squared Error on Test Set: 5.808112837257795e-05\n"
     ]
    }
   ],
   "source": [
    "# Evaluate the model on the test set\n",
    "mse = model1.evaluate(X_test_S1, y_test_S1)\n",
    "print(f\"Mean Squared Error on Test Set: {mse}\")"
   ]
  },
  {
   "cell_type": "markdown",
   "metadata": {},
   "source": [
    "# Sp prediction"
   ]
  },
  {
   "cell_type": "code",
   "execution_count": 55,
   "metadata": {},
   "outputs": [],
   "source": [
    "X_Sp = X.copy()\n",
    "X_Sp = X_Sp.drop('EH', axis = 1)\n",
    "X_Sp = X_Sp.drop('EL', axis = 1)\n",
    "X_Sp = X_Sp.drop('S8_cur', axis = 1)\n",
    "X_Sp = X_Sp.drop('V_cur', axis = 1)\n",
    "\n",
    "y_Sp = y['Sp_cur.1']\n",
    "\n",
    "X_numpy_Sp = X_Sp.values\n",
    "y_numpy_Sp = y_Sp.values\n",
    "\n",
    "# Split the data into train and test sets\n",
    "X_train_Sp, X_test_Sp, y_train_Sp, y_test_Sp = train_test_split(X_numpy_Sp, y_numpy_Sp, test_size=0.2, random_state=42)"
   ]
  },
  {
   "cell_type": "code",
   "execution_count": 58,
   "metadata": {},
   "outputs": [
    {
     "name": "stdout",
     "output_type": "stream",
     "text": [
      "Epoch 1/20\n",
      "3601/3601 [==============================] - 3s 743us/step - loss: 0.0466\n",
      "Epoch 2/20\n",
      "3601/3601 [==============================] - 3s 715us/step - loss: 1.3486e-04\n",
      "Epoch 3/20\n",
      "3601/3601 [==============================] - 3s 717us/step - loss: 1.0806e-04\n",
      "Epoch 4/20\n",
      "3601/3601 [==============================] - 3s 738us/step - loss: 8.2966e-05\n",
      "Epoch 5/20\n",
      "3601/3601 [==============================] - 3s 741us/step - loss: 4.1774e-05\n",
      "Epoch 6/20\n",
      "3601/3601 [==============================] - 3s 754us/step - loss: 3.4681e-05\n",
      "Epoch 7/20\n",
      "3601/3601 [==============================] - 3s 787us/step - loss: 3.5693e-05\n",
      "Epoch 8/20\n",
      "3601/3601 [==============================] - 3s 774us/step - loss: 2.7861e-05\n",
      "Epoch 9/20\n",
      "3601/3601 [==============================] - 3s 745us/step - loss: 2.8801e-05\n",
      "Epoch 10/20\n",
      "3601/3601 [==============================] - 3s 757us/step - loss: 2.2069e-05\n",
      "Epoch 11/20\n",
      "3601/3601 [==============================] - 3s 762us/step - loss: 2.9565e-05\n",
      "Epoch 12/20\n",
      "3601/3601 [==============================] - 3s 743us/step - loss: 1.7046e-05\n",
      "Epoch 13/20\n",
      "3601/3601 [==============================] - 3s 749us/step - loss: 1.6815e-05\n",
      "Epoch 14/20\n",
      "3601/3601 [==============================] - 3s 747us/step - loss: 1.8365e-05\n",
      "Epoch 15/20\n",
      "3601/3601 [==============================] - 3s 723us/step - loss: 1.6969e-05\n",
      "Epoch 16/20\n",
      "3601/3601 [==============================] - 3s 734us/step - loss: 1.9565e-05\n",
      "Epoch 17/20\n",
      "3601/3601 [==============================] - 3s 732us/step - loss: 1.7259e-05\n",
      "Epoch 18/20\n",
      "3601/3601 [==============================] - 3s 723us/step - loss: 1.2892e-05\n",
      "Epoch 19/20\n",
      "3601/3601 [==============================] - 3s 745us/step - loss: 1.4404e-05\n",
      "Epoch 20/20\n",
      "3601/3601 [==============================] - 3s 736us/step - loss: 1.2823e-05\n"
     ]
    },
    {
     "data": {
      "text/plain": [
       "<keras.src.callbacks.History at 0x1a35fcc86d0>"
      ]
     },
     "execution_count": 58,
     "metadata": {},
     "output_type": "execute_result"
    }
   ],
   "source": [
    "modelp = Sequential()\n",
    "modelp.add(Dense(8, activation='relu', input_dim = 4))\n",
    "# model.add(Dense(6, activation='relu'))\n",
    "# model.add(Dense(12,activation = 'relu'))\n",
    "modelp.add(Dense(4,activation = 'relu'))\n",
    "# model.add(Dense(10, activation='relu'))\n",
    "modelp.add(Dense(1, activation='linear'))  # Output layer with a multiple neurons\n",
    "\n",
    "# Compile the model\n",
    "modelp.compile(optimizer='adam', loss='mean_squared_error')\n",
    "\n",
    "modelp.fit(X_train_Sp, y_train_Sp, epochs=20, batch_size=32)"
   ]
  },
  {
   "cell_type": "code",
   "execution_count": 59,
   "metadata": {},
   "outputs": [
    {
     "name": "stdout",
     "output_type": "stream",
     "text": [
      "901/901 [==============================] - 1s 622us/step - loss: 5.6115e-06\n",
      "Mean Squared Error on Test Set: 5.611478172795614e-06\n"
     ]
    }
   ],
   "source": [
    "# Evaluate the model on the test set\n",
    "mse = modelp.evaluate(X_test_Sp, y_test_Sp)\n",
    "print(f\"Mean Squared Error on Test Set: {mse}\")"
   ]
  },
  {
   "cell_type": "markdown",
   "metadata": {},
   "source": [
    "# Important functions"
   ]
  },
  {
   "cell_type": "code",
   "execution_count": 62,
   "metadata": {},
   "outputs": [],
   "source": [
    "# Bisection method function\n",
    "def f(V, EH, EL, scales):\n",
    "    # Defined in the code\n",
    "    iH0 = 10\n",
    "    iL0 = 5\n",
    "    R = 8.3145\n",
    "    T = 298\n",
    "    F = 96490\n",
    "    ar = 0.96\n",
    "    return 2 * iH0 * ar * np.sinh((2 * F / (R * T)) * (V - EH)) + 2 * iL0 * ar * np.sinh((2 * F / (R * T)) * (V - EL)) + scales.iloc[0,-1]\n",
    "\n",
    "# Bisection method adjusted to accept EH, EL, and I\n",
    "def bisection_method(V_a, V_b, EH, EL, scales, tol=1e-9, max_iter=10000):\n",
    "    if f(V_a, EH, EL, scales) * f(V_b, EH, EL, scales) >= 0:\n",
    "        print(\"Bisection method fails.\")\n",
    "        return None\n",
    "\n",
    "    V_m = V_a\n",
    "    for _ in range(max_iter):\n",
    "        V_m = (V_a + V_b) / 2\n",
    "        if f(V_m, EH, EL, scales) == 0 or np.abs(f(V_m, EH, EL, scales)) < tol:   # (V_b - V_a)/2\n",
    "            return V_m\n",
    "\n",
    "        if f(V_m, EH, EL, scales) * f(V_a, EH, EL, scales) < 0:\n",
    "            V_b = V_m\n",
    "        else:\n",
    "            V_a = V_m\n",
    "\n",
    "    return V_m  # Return the approximation of the root\n",
    "\n",
    "\n",
    "def param_finder_BV(V,EH,EL):\n",
    "    iH0 = 10\n",
    "    iL0 = 5\n",
    "    R = 8.3145\n",
    "    T = 298\n",
    "    F = 96490\n",
    "    ar = 0.96\n",
    "    iH = 2*iH0*ar*np.sinh((4*F*(V-EH))/(2*R*T))\n",
    "    iL = 2*iL0*ar*np.sinh((4*F*(V-EL))/(2*R*T))\n",
    "    return iH, iL\n",
    "\n",
    "\n",
    "\n",
    "def next_prediction(prediction, scales):\n",
    "\n",
    "    array = []\n",
    "\n",
    "    S8,S4,S2,S1,Sp,EH,EL = param_finder_Nernst(prediction,scale)\n",
    "\n",
    "    # Initial brackets (guesses) for V\n",
    "    V_a, V_b = 2.45,2.15 # Adjust these values based on your knowledge of the possible range of V\n",
    "\n",
    "    # Find V\n",
    "    V = bisection_method(V_a, V_b, EH, EL, scales)\n",
    "\n",
    "    # iH, iL = param_finder_BV(V,EH,EL)\n",
    "\n",
    "    V = (V - scales.iloc[0,4])/scales.iloc[1,4]\n",
    "\n",
    "    EH = (EH - scales.iloc[0,6])/scales.iloc[1,6]\n",
    "\n",
    "    EL = (EL - scales.iloc[0,7])/scales.iloc[1,7]\n",
    "\n",
    "\n",
    "    array.append(prediction[0][0])\n",
    "    array.append(prediction[0][1])\n",
    "    array.append(prediction[0][2])\n",
    "    array.append(prediction[0][3])\n",
    "    array.append(V)\n",
    "    array.append(prediction[0][4])\n",
    "    array.append(EH)\n",
    "    array.append(EL)\n",
    "\n",
    "    array = np.array([array])\n",
    "\n",
    "    return array \n",
    "\n",
    "\n",
    "\n",
    "\n",
    "def param_finder_Nernst(prediction, scales):\n",
    "    # Defined in the code\n",
    "    EH0 = 2.35\n",
    "    EL0 = 2.195\n",
    "    iH0 = 10\n",
    "    iL0 = 5\n",
    "    R = 8.3145\n",
    "    T = 298\n",
    "    F = 96490\n",
    "    fh = 0.7296\n",
    "    fl = 0.06654\n",
    "    ar = 0.96\n",
    "\n",
    "    # Unscale the concentration values to find S8 - Sp\n",
    "    S8 = (prediction[0][0] * scales.iloc[1,0]) + scales.iloc[0,0]\n",
    "    S4 = (prediction[0][1] * scales.iloc[1,1]) + scales.iloc[0,1]\n",
    "    S2 = (prediction[0][2] * scales.iloc[1,2]) + scales.iloc[0,2]\n",
    "    S1 = (prediction[0][3] * scales.iloc[1,3]) + scales.iloc[0,3]\n",
    "    Sp = (prediction[0][4] * scales.iloc[1,5]) + scales.iloc[0,5]\n",
    "\n",
    "    # S8 = (prediction[0][0])\n",
    "    # S4 = (prediction[0][1])\n",
    "    # S2 = (prediction[0][2])\n",
    "    # S1 = (prediction[0][3])\n",
    "    # Sp = (prediction[0][4])\n",
    "\n",
    "    # Unscaled EH, EL\n",
    "\n",
    "    EH = EH0 + (((R*T)/(4*F))*np.log(fh*(S8/(S4**2))))\n",
    "    EL = EL0 + (((R*T)/(4*F))*np.log(fl*(S4/((S1**2)*S2))))\n",
    "\n",
    "    return S8,S4,S2,S1,Sp,EH,EL"
   ]
  },
  {
   "cell_type": "code",
   "execution_count": 63,
   "metadata": {},
   "outputs": [],
   "source": [
    "X_numpy = X.values\n",
    "y_numpy = y.values"
   ]
  },
  {
   "cell_type": "code",
   "execution_count": 81,
   "metadata": {},
   "outputs": [],
   "source": [
    "\n",
    "def mass_prediction(input):\n",
    "    S8_features = ['S8_cur', 'S4_cur', 'V_cur', 'EH', 'EL']\n",
    "    S4_features = ['S4_cur','S2_cur', 'S1_cur', 'V_cur', 'Sp_cur','EH', 'EL']\n",
    "    S2_features = ['S4_cur','S2_cur', 'S1_cur', 'Sp_cur', 'EL']\n",
    "    S1_features = ['S4_cur','S2_cur', 'S1_cur', 'V_cur', 'Sp_cur','EH', 'EL']\n",
    "    Sp_features = ['S4_cur','S2_cur', 'S1_cur', 'Sp_cur']\n",
    "\n",
    "    # Reshape the input to ensure it's 2D\n",
    "    input_2d = input.reshape(1, -1)  # Reshape to 1 row, many columns\n",
    "\n",
    "    input_df = pd.DataFrame(input_2d, columns = ['S8_cur', 'S4_cur','S2_cur', 'S1_cur', 'V_cur', 'Sp_cur','EH', 'EL'])\n",
    "\n",
    "    S8_input = np.array(input_df[S8_features])\n",
    "    S4_input = np.array(input_df[S4_features])\n",
    "    S2_input = np.array(input_df[S2_features])\n",
    "    S1_input = np.array(input_df[S1_features])\n",
    "    Sp_input = np.array(input_df[Sp_features])\n",
    "\n",
    "    S8 = model8.predict(S8_input)[0][0]\n",
    "    S4 = model4.predict(S4_input)[0][0]\n",
    "    S2 = model2.predict(S2_input)[0][0]\n",
    "    S1 = model1.predict(S1_input)[0][0]\n",
    "    Sp = modelp.predict(Sp_input)[0][0]\n",
    "\n",
    "    array = [[S8,S4,S2,S1,Sp]]\n",
    "\n",
    "    return array\n"
   ]
  },
  {
   "cell_type": "markdown",
   "metadata": {},
   "source": [
    "# Multiple iterations"
   ]
  },
  {
   "cell_type": "code",
   "execution_count": 105,
   "metadata": {},
   "outputs": [
    {
     "name": "stdout",
     "output_type": "stream",
     "text": [
      "[[ 2.75583962 -2.76949624 -0.92914884 -0.23244107  2.28260561 -0.92512734\n",
      "   2.26101299  2.32763776]]\n",
      "1/1 [==============================] - 0s 22ms/step\n"
     ]
    },
    {
     "name": "stdout",
     "output_type": "stream",
     "text": [
      "1/1 [==============================] - 0s 21ms/step\n",
      "1/1 [==============================] - 0s 18ms/step\n",
      "1/1 [==============================] - 0s 18ms/step\n",
      "1/1 [==============================] - 0s 19ms/step\n",
      "1/1 [==============================] - 0s 18ms/step\n",
      "1/1 [==============================] - 0s 17ms/step\n",
      "1/1 [==============================] - 0s 17ms/step\n",
      "1/1 [==============================] - 0s 18ms/step\n",
      "1/1 [==============================] - 0s 18ms/step\n"
     ]
    },
    {
     "data": {
      "image/png": "[encoded data removed]",
      "text/plain": [
       "<Figure size 640x480 with 1 Axes>"
      ]
     },
     "metadata": {},
     "output_type": "display_data"
    }
   ],
   "source": [
    "no_predictions = 2\n",
    "start = 1500\n",
    "\n",
    "input = np.array([X_numpy[start]])\n",
    "\n",
    "print(input)\n",
    "\n",
    "output = []\n",
    "\n",
    "scale = pd.read_excel('C:/Users/ADITYA/OneDrive - Imperial College London/Year 4/FYP/Final-year-project/VScode/Data/Scales_denoised.xlsx')\n",
    "\n",
    "for i in range(no_predictions):\n",
    "    \n",
    "    next_prediction_array = mass_prediction(input)\n",
    "\n",
    "    input = next_prediction(next_prediction_array, scale)\n",
    "\n",
    "    # print(input)\n",
    "\n",
    "    output.append(input)\n",
    "\n",
    "\n",
    "\n",
    "plot_actual = []\n",
    "\n",
    "for j in range(no_predictions):\n",
    "    plot_actual.append(X_numpy[no_predictions + start][3])\n",
    "\n",
    "plt.plot(plot_actual, label = 'Actual')\n",
    "\n",
    "\n",
    "\n",
    "mass = []\n",
    "for i in range(len(output)):\n",
    "    mass.append(output[i][0][])\n",
    "\n",
    "plt.plot(mass, label = 'Predicted')\n",
    "plt.xlabel('Time step')\n",
    "plt.ylabel('Voltage')\n",
    "plt.title('Predicted vs Actual forecasting only masses')\n",
    "plt.legend()\n",
    "\n",
    "plt.show()"
   ]
  }
 ],
 "metadata": {
  "kernelspec": {
   "display_name": "Python 3",
   "language": "python",
   "name": "python3"
  },
  "language_info": {
   "codemirror_mode": {
    "name": "ipython",
    "version": 3
   },
   "file_extension": ".py",
   "mimetype": "text/x-python",
   "name": "python",
   "nbconvert_exporter": "python",
   "pygments_lexer": "ipython3",
   "version": "3.11.6"
  }
 },
 "nbformat": 4,
 "nbformat_minor": 2
}
