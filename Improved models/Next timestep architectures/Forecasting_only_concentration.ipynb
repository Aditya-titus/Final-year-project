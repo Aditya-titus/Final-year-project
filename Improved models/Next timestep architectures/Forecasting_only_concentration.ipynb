{
 "cells": [
  {
   "cell_type": "markdown",
   "metadata": {},
   "source": [
    "# Forecasting individual concentraions"
   ]
  },
  {
   "cell_type": "markdown",
   "metadata": {},
   "source": [
    "### 1) Importing libraries and functions"
   ]
  },
  {
   "cell_type": "code",
   "execution_count": 1,
   "metadata": {},
   "outputs": [
    {
     "name": "stderr",
     "output_type": "stream",
     "text": [
      "C:\\Users\\ADITYA\\AppData\\Local\\Temp\\ipykernel_12064\\1782324082.py:2: DeprecationWarning: \n",
      "Pyarrow will become a required dependency of pandas in the next major release of pandas (pandas 3.0),\n",
      "(to allow more performant data types, such as the Arrow string type, and better interoperability with other libraries)\n",
      "but was not found to be installed on your system.\n",
      "If this would cause problems for you,\n",
      "please provide us feedback at https://github.com/pandas-dev/pandas/issues/54466\n",
      "        \n",
      "  import pandas as pd\n"
     ]
    },
    {
     "name": "stdout",
     "output_type": "stream",
     "text": [
      "WARNING:tensorflow:From c:\\Users\\ADITYA\\AppData\\Local\\Programs\\Python\\Python311\\Lib\\site-packages\\keras\\src\\losses.py:2976: The name tf.losses.sparse_softmax_cross_entropy is deprecated. Please use tf.compat.v1.losses.sparse_softmax_cross_entropy instead.\n",
      "\n"
     ]
    }
   ],
   "source": [
    "import numpy as np\n",
    "import pandas as pd\n",
    "import matplotlib.pyplot as plt\n",
    "from sklearn.model_selection import train_test_split\n",
    "from sklearn.preprocessing import StandardScaler\n",
    "from sklearn.preprocessing import MinMaxScaler\n",
    "from tensorflow.keras.models import Sequential\n",
    "from tensorflow.keras.layers import Dense\n",
    "from tensorflow.keras.utils import *\n",
    "\n",
    "\n",
    "# from Data_sorting import Data_formatter_cycles"
   ]
  },
  {
   "cell_type": "code",
   "execution_count": 4,
   "metadata": {},
   "outputs": [],
   "source": [
    "data = pd.read_excel('C:/Users/ADITYA/OneDrive - Imperial College London/Year 4/FYP/Final-year-project/VScode//Data/Dataset_scaled_denoised.xlsx')\n",
    "data = data[data['I'] == 1.6]\n",
    "X = data.iloc[1:,:11]\n",
    "X = X.drop('I', axis = 1)\n",
    "y = data.iloc[1:,11:16]"
   ]
  },
  {
   "cell_type": "code",
   "execution_count": 6,
   "metadata": {},
   "outputs": [
    {
     "name": "stdout",
     "output_type": "stream",
     "text": [
      "        S8_cur.1  S4_cur.1  S2_cur.1  S1_cur.1  Sp_cur.1\n",
      "1       2.914450 -2.959872 -0.929154 -0.232859 -0.925127\n",
      "2       2.914342 -2.959743 -0.929154 -0.232858 -0.925127\n",
      "3       2.914234 -2.959613 -0.929154 -0.232858 -0.925127\n",
      "4       2.914126 -2.959483 -0.929154 -0.232858 -0.925127\n",
      "5       2.914018 -2.959354 -0.929154 -0.232858 -0.925127\n",
      "...          ...       ...       ...       ...       ...\n",
      "144008 -0.715584 -0.685383  2.665497 -0.146795  2.664216\n",
      "144009 -0.715584 -0.685426  2.665571 -0.146795  2.664290\n",
      "144010 -0.715584 -0.685469  2.665645 -0.146796  2.664365\n",
      "144011 -0.715584 -0.685512  2.665719 -0.146797  2.664439\n",
      "144012 -0.715584 -0.685555  2.665794 -0.146798  2.664513\n",
      "\n",
      "[144012 rows x 5 columns]\n"
     ]
    }
   ],
   "source": [
    "print(y)"
   ]
  },
  {
   "cell_type": "markdown",
   "metadata": {},
   "source": [
    "# S8 Prediction"
   ]
  },
  {
   "cell_type": "code",
   "execution_count": 19,
   "metadata": {},
   "outputs": [],
   "source": [
    "X_S8 = X.copy()\n",
    "X_S8 = X_S8.drop('S1_cur', axis = 1)\n",
    "X_S8 = X_S8.drop('S2_cur', axis = 1)\n",
    "X_S8 = X_S8.drop('Sp_cur', axis = 1)\n",
    "X_S8 = X_S8.drop('iL', axis = 1)\n",
    "X_S8 = X_S8.drop('iH', axis = 1)\n",
    "   \n",
    "\n",
    "y_S8 = y['S8_cur.1']\n",
    "\n",
    "X_numpy_S8 = X_S8.values\n",
    "y_numpy_S8 = y_S8.values\n",
    "\n",
    "# Split the data into train and test sets\n",
    "X_train_S8, X_test_S8, y_train_S8, y_test_S8 = train_test_split(X_numpy_S8, y_numpy_S8, test_size=0.2, random_state=42)"
   ]
  },
  {
   "cell_type": "code",
   "execution_count": 20,
   "metadata": {},
   "outputs": [
    {
     "name": "stdout",
     "output_type": "stream",
     "text": [
      "Epoch 1/20\n",
      "3601/3601 [==============================] - 3s 766us/step - loss: 0.0157\n",
      "Epoch 2/20\n",
      "3601/3601 [==============================] - 3s 766us/step - loss: 4.9205e-04\n",
      "Epoch 3/20\n",
      "3601/3601 [==============================] - 3s 757us/step - loss: 6.9249e-05\n",
      "Epoch 4/20\n",
      "3601/3601 [==============================] - 3s 766us/step - loss: 6.7102e-06\n",
      "Epoch 5/20\n",
      "3601/3601 [==============================] - 3s 763us/step - loss: 1.7726e-06\n",
      "Epoch 6/20\n",
      "3601/3601 [==============================] - 3s 744us/step - loss: 1.0230e-06\n",
      "Epoch 7/20\n",
      "3601/3601 [==============================] - 3s 752us/step - loss: 7.9238e-07\n",
      "Epoch 8/20\n",
      "3601/3601 [==============================] - 3s 751us/step - loss: 8.2610e-07\n",
      "Epoch 9/20\n",
      "3601/3601 [==============================] - 3s 757us/step - loss: 8.5593e-07\n",
      "Epoch 10/20\n",
      "3601/3601 [==============================] - 3s 744us/step - loss: 7.8293e-07\n",
      "Epoch 11/20\n",
      "3601/3601 [==============================] - 3s 741us/step - loss: 5.7545e-07\n",
      "Epoch 12/20\n",
      "3601/3601 [==============================] - 3s 749us/step - loss: 5.3821e-07\n",
      "Epoch 13/20\n",
      "3601/3601 [==============================] - 3s 732us/step - loss: 6.1696e-07\n",
      "Epoch 14/20\n",
      "3601/3601 [==============================] - 3s 732us/step - loss: 6.7459e-07\n",
      "Epoch 15/20\n",
      "3601/3601 [==============================] - 3s 737us/step - loss: 6.6425e-07\n",
      "Epoch 16/20\n",
      "3601/3601 [==============================] - 3s 754us/step - loss: 5.9889e-07\n",
      "Epoch 17/20\n",
      "3601/3601 [==============================] - 3s 754us/step - loss: 6.1438e-07\n",
      "Epoch 18/20\n",
      "3601/3601 [==============================] - 3s 747us/step - loss: 4.8111e-07\n",
      "Epoch 19/20\n",
      "3601/3601 [==============================] - 3s 748us/step - loss: 5.4964e-07\n",
      "Epoch 20/20\n",
      "3601/3601 [==============================] - 3s 747us/step - loss: 4.5132e-07\n"
     ]
    },
    {
     "data": {
      "text/plain": [
       "<keras.src.callbacks.History at 0x2c22f0f0490>"
      ]
     },
     "execution_count": 20,
     "metadata": {},
     "output_type": "execute_result"
    }
   ],
   "source": [
    "model8 = Sequential()\n",
    "model8.add(Dense(5, activation='relu', input_dim = 5))\n",
    "# model.add(Dense(6, activation='relu'))\n",
    "# model.add(Dense(12,activation = 'relu'))\n",
    "model8.add(Dense(3,activation = 'relu'))\n",
    "# model.add(Dense(10, activation='relu'))\n",
    "model8.add(Dense(1, activation='linear'))  # Output layer with a multiple neurons\n",
    "\n",
    "# Compile the model\n",
    "model8.compile(optimizer='adam', loss='mean_squared_error')\n",
    "\n",
    "model8.fit(X_train_S8, y_train_S8, epochs=20, batch_size=32)"
   ]
  },
  {
   "cell_type": "code",
   "execution_count": 21,
   "metadata": {},
   "outputs": [
    {
     "name": "stdout",
     "output_type": "stream",
     "text": [
      "901/901 [==============================] - 1s 631us/step - loss: 1.4440e-07\n",
      "Mean Squared Error on Test Set: 1.4439636686347512e-07\n"
     ]
    }
   ],
   "source": [
    "# Evaluate the model on the test set\n",
    "mse = model8.evaluate(X_test_S8, y_test_S8)\n",
    "print(f\"Mean Squared Error on Test Set: {mse}\")"
   ]
  },
  {
   "cell_type": "markdown",
   "metadata": {},
   "source": [
    "# S4 prediction"
   ]
  },
  {
   "cell_type": "code",
   "execution_count": 29,
   "metadata": {},
   "outputs": [],
   "source": [
    "X_S4 = X.copy()\n",
    "X_S4 = X_S4.drop('iL', axis = 1)\n",
    "X_S4 = X_S4.drop('iH', axis = 1)\n",
    "\n",
    "\n",
    "y_S4 = y['S4_cur.1']\n",
    "\n",
    "X_numpy_S4 = X_S4.values\n",
    "y_numpy_S4 = y_S4.values\n",
    "\n",
    "# Split the data into train and test sets\n",
    "X_train_S4, X_test_S4, y_train_S4, y_test_S4 = train_test_split(X_numpy_S4, y_numpy_S4, test_size=0.2, random_state=42)"
   ]
  },
  {
   "cell_type": "code",
   "execution_count": 31,
   "metadata": {},
   "outputs": [
    {
     "name": "stdout",
     "output_type": "stream",
     "text": [
      "Epoch 1/20\n",
      "3601/3601 [==============================] - 3s 745us/step - loss: 0.0135\n",
      "Epoch 2/20\n",
      "3601/3601 [==============================] - 3s 729us/step - loss: 3.6023e-05\n",
      "Epoch 3/20\n",
      "3601/3601 [==============================] - 3s 734us/step - loss: 2.2587e-05\n",
      "Epoch 4/20\n",
      "3601/3601 [==============================] - 3s 747us/step - loss: 1.6893e-05\n",
      "Epoch 5/20\n",
      "3601/3601 [==============================] - 3s 730us/step - loss: 1.0977e-05\n",
      "Epoch 6/20\n",
      "3601/3601 [==============================] - 3s 730us/step - loss: 9.6041e-06\n",
      "Epoch 7/20\n",
      "3601/3601 [==============================] - 3s 727us/step - loss: 9.6557e-06\n",
      "Epoch 8/20\n",
      "3601/3601 [==============================] - 3s 734us/step - loss: 7.2118e-06\n",
      "Epoch 9/20\n",
      "3601/3601 [==============================] - 3s 736us/step - loss: 6.1133e-06\n",
      "Epoch 10/20\n",
      "3601/3601 [==============================] - 3s 727us/step - loss: 7.4429e-06\n",
      "Epoch 11/20\n",
      "3601/3601 [==============================] - 3s 741us/step - loss: 6.3724e-06\n",
      "Epoch 12/20\n",
      "3601/3601 [==============================] - 3s 723us/step - loss: 7.8974e-06\n",
      "Epoch 13/20\n",
      "3601/3601 [==============================] - 3s 734us/step - loss: 6.8786e-06\n",
      "Epoch 14/20\n",
      "3601/3601 [==============================] - 3s 726us/step - loss: 5.4695e-06\n",
      "Epoch 15/20\n",
      "3601/3601 [==============================] - 3s 739us/step - loss: 6.1041e-06\n",
      "Epoch 16/20\n",
      "3601/3601 [==============================] - 3s 726us/step - loss: 5.6851e-06\n",
      "Epoch 17/20\n",
      "3601/3601 [==============================] - 3s 728us/step - loss: 5.2519e-06\n",
      "Epoch 18/20\n",
      "3601/3601 [==============================] - 3s 731us/step - loss: 5.2712e-06\n",
      "Epoch 19/20\n",
      "3601/3601 [==============================] - 3s 726us/step - loss: 5.5678e-06\n",
      "Epoch 20/20\n",
      "3601/3601 [==============================] - 3s 724us/step - loss: 4.2215e-06\n"
     ]
    },
    {
     "data": {
      "text/plain": [
       "<keras.src.callbacks.History at 0x2c231e67050>"
      ]
     },
     "execution_count": 31,
     "metadata": {},
     "output_type": "execute_result"
    }
   ],
   "source": [
    "model4 = Sequential()\n",
    "model4.add(Dense(8, activation='relu', input_dim = 8))\n",
    "# model.add(Dense(6, activation='relu'))\n",
    "# model.add(Dense(12,activation = 'relu'))\n",
    "model4.add(Dense(4,activation = 'relu'))\n",
    "# model.add(Dense(10, activation='relu'))\n",
    "model4.add(Dense(1, activation='linear'))  # Output layer with a multiple neurons\n",
    "\n",
    "# Compile the model\n",
    "model4.compile(optimizer='adam', loss='mean_squared_error')\n",
    "\n",
    "model4.fit(X_train_S4, y_train_S4, epochs=20, batch_size=32)"
   ]
  },
  {
   "cell_type": "code",
   "execution_count": 32,
   "metadata": {},
   "outputs": [
    {
     "name": "stdout",
     "output_type": "stream",
     "text": [
      "901/901 [==============================] - 1s 633us/step - loss: 1.5679e-06\n",
      "Mean Squared Error on Test Set: 1.5678978115829523e-06\n"
     ]
    }
   ],
   "source": [
    "# Evaluate the model on the test set\n",
    "mse = model4.evaluate(X_test_S4, y_test_S4)\n",
    "print(f\"Mean Squared Error on Test Set: {mse}\")"
   ]
  },
  {
   "cell_type": "markdown",
   "metadata": {},
   "source": [
    "# S2 prediction"
   ]
  },
  {
   "cell_type": "code",
   "execution_count": 34,
   "metadata": {},
   "outputs": [],
   "source": [
    "X_S2 = X.copy()\n",
    "X_S2 = X_S2.drop('iL', axis = 1)\n",
    "X_S2 = X_S2.drop('iH', axis = 1)\n",
    "X_S2 = X_S2.drop('EH', axis = 1)\n",
    "X_S2 = X_S2.drop('S8_cur', axis = 1)\n",
    "X_S2 = X_S2.drop('V_cur', axis = 1)\n",
    "\n",
    "y_S2 = y['S2_cur.1']\n",
    "\n",
    "X_numpy_S2 = X_S2.values\n",
    "y_numpy_S2 = y_S2.values\n",
    "\n",
    "# Split the data into train and test sets\n",
    "X_train_S2, X_test_S2, y_train_S2, y_test_S2 = train_test_split(X_numpy_S2, y_numpy_S2, test_size=0.2, random_state=42)"
   ]
  },
  {
   "cell_type": "code",
   "execution_count": 36,
   "metadata": {},
   "outputs": [
    {
     "name": "stdout",
     "output_type": "stream",
     "text": [
      "Epoch 1/20\n",
      "3601/3601 [==============================] - 3s 756us/step - loss: 0.0229\n",
      "Epoch 2/20\n",
      "3601/3601 [==============================] - 3s 744us/step - loss: 6.0371e-05\n",
      "Epoch 3/20\n",
      "3601/3601 [==============================] - 3s 754us/step - loss: 6.3752e-06\n",
      "Epoch 4/20\n",
      "3601/3601 [==============================] - 3s 749us/step - loss: 6.7441e-06\n",
      "Epoch 5/20\n",
      "3601/3601 [==============================] - 3s 741us/step - loss: 4.1381e-06\n",
      "Epoch 6/20\n",
      "3601/3601 [==============================] - 3s 750us/step - loss: 3.6910e-06\n",
      "Epoch 7/20\n",
      "3601/3601 [==============================] - 3s 741us/step - loss: 3.0657e-06\n",
      "Epoch 8/20\n",
      "3601/3601 [==============================] - 3s 730us/step - loss: 3.9825e-06\n",
      "Epoch 9/20\n",
      "3601/3601 [==============================] - 3s 742us/step - loss: 3.1930e-06\n",
      "Epoch 10/20\n",
      "3601/3601 [==============================] - 3s 729us/step - loss: 4.0194e-06\n",
      "Epoch 11/20\n",
      "3601/3601 [==============================] - 3s 749us/step - loss: 2.2785e-06\n",
      "Epoch 12/20\n",
      "3601/3601 [==============================] - 3s 734us/step - loss: 2.8733e-06\n",
      "Epoch 13/20\n",
      "3601/3601 [==============================] - 3s 769us/step - loss: 2.4069e-06\n",
      "Epoch 14/20\n",
      "3601/3601 [==============================] - 3s 799us/step - loss: 2.8161e-06\n",
      "Epoch 15/20\n",
      "3601/3601 [==============================] - 3s 772us/step - loss: 2.7448e-06\n",
      "Epoch 16/20\n",
      "3601/3601 [==============================] - 3s 756us/step - loss: 2.2179e-06\n",
      "Epoch 17/20\n",
      "3601/3601 [==============================] - 3s 765us/step - loss: 4.0070e-06\n",
      "Epoch 18/20\n",
      "3601/3601 [==============================] - 3s 745us/step - loss: 2.8260e-06\n",
      "Epoch 19/20\n",
      "3601/3601 [==============================] - 3s 736us/step - loss: 1.8510e-06\n",
      "Epoch 20/20\n",
      "3601/3601 [==============================] - 3s 747us/step - loss: 2.6096e-06\n"
     ]
    },
    {
     "data": {
      "text/plain": [
       "<keras.src.callbacks.History at 0x2c22d459150>"
      ]
     },
     "execution_count": 36,
     "metadata": {},
     "output_type": "execute_result"
    }
   ],
   "source": [
    "model2 = Sequential()\n",
    "model2.add(Dense(8, activation='relu', input_dim = 5))\n",
    "# model.add(Dense(6, activation='relu'))\n",
    "# model.add(Dense(12,activation = 'relu'))\n",
    "model2.add(Dense(4,activation = 'relu'))\n",
    "# model.add(Dense(10, activation='relu'))\n",
    "model2.add(Dense(1, activation='linear'))  # Output layer with a multiple neurons\n",
    "\n",
    "# Compile the model\n",
    "model2.compile(optimizer='adam', loss='mean_squared_error')\n",
    "\n",
    "model2.fit(X_train_S2, y_train_S2, epochs=20, batch_size=32)"
   ]
  },
  {
   "cell_type": "code",
   "execution_count": 37,
   "metadata": {},
   "outputs": [
    {
     "name": "stdout",
     "output_type": "stream",
     "text": [
      "901/901 [==============================] - 1s 625us/step - loss: 1.5654e-07\n",
      "Mean Squared Error on Test Set: 1.5654374863061093e-07\n"
     ]
    }
   ],
   "source": [
    "# Evaluate the model on the test set\n",
    "mse = model2.evaluate(X_test_S2, y_test_S2)\n",
    "print(f\"Mean Squared Error on Test Set: {mse}\")"
   ]
  },
  {
   "cell_type": "markdown",
   "metadata": {},
   "source": [
    "# S1 prediction"
   ]
  },
  {
   "cell_type": "code",
   "execution_count": 38,
   "metadata": {},
   "outputs": [],
   "source": [
    "X_S1 = X.copy()\n",
    "X_S1 = X_S1.drop('iL', axis = 1)\n",
    "X_S1 = X_S1.drop('iH', axis = 1)\n",
    "X_S1 = X_S1.drop('S8_cur', axis = 1)\n",
    "\n",
    "\n",
    "y_S1 = y['S1_cur.1']\n",
    "\n",
    "X_numpy_S1 = X_S1.values\n",
    "y_numpy_S1 = y_S1.values\n",
    "\n",
    "# Split the data into train and test sets\n",
    "X_train_S1, X_test_S1, y_train_S1, y_test_S1 = train_test_split(X_numpy_S1, y_numpy_S1, test_size=0.2, random_state=42)"
   ]
  },
  {
   "cell_type": "code",
   "execution_count": 47,
   "metadata": {},
   "outputs": [
    {
     "name": "stdout",
     "output_type": "stream",
     "text": [
      "Epoch 1/20\n"
     ]
    },
    {
     "name": "stdout",
     "output_type": "stream",
     "text": [
      "3601/3601 [==============================] - 3s 770us/step - loss: 0.0522\n",
      "Epoch 2/20\n",
      "3601/3601 [==============================] - 3s 742us/step - loss: 1.5781e-04\n",
      "Epoch 3/20\n",
      "3601/3601 [==============================] - 3s 754us/step - loss: 5.4660e-05\n",
      "Epoch 4/20\n",
      "3601/3601 [==============================] - 3s 744us/step - loss: 3.1812e-05\n",
      "Epoch 5/20\n",
      "3601/3601 [==============================] - 3s 767us/step - loss: 3.0492e-05\n",
      "Epoch 6/20\n",
      "3601/3601 [==============================] - 3s 754us/step - loss: 2.8478e-05\n",
      "Epoch 7/20\n",
      "3601/3601 [==============================] - 3s 748us/step - loss: 2.5728e-05\n",
      "Epoch 8/20\n",
      "3601/3601 [==============================] - 3s 760us/step - loss: 2.6217e-05\n",
      "Epoch 9/20\n",
      "3601/3601 [==============================] - 3s 741us/step - loss: 2.1648e-05\n",
      "Epoch 10/20\n",
      "3601/3601 [==============================] - 3s 737us/step - loss: 2.6008e-05\n",
      "Epoch 11/20\n",
      "3601/3601 [==============================] - 3s 743us/step - loss: 2.1334e-05\n",
      "Epoch 12/20\n",
      "3601/3601 [==============================] - 3s 745us/step - loss: 2.0608e-05\n",
      "Epoch 13/20\n",
      "3601/3601 [==============================] - 3s 734us/step - loss: 1.8307e-05\n",
      "Epoch 14/20\n",
      "3601/3601 [==============================] - 3s 743us/step - loss: 2.1388e-05\n",
      "Epoch 15/20\n",
      "3601/3601 [==============================] - 3s 754us/step - loss: 1.9409e-05\n",
      "Epoch 16/20\n",
      "3601/3601 [==============================] - 3s 762us/step - loss: 2.0476e-05\n",
      "Epoch 17/20\n",
      "3601/3601 [==============================] - 3s 741us/step - loss: 1.6355e-05\n",
      "Epoch 18/20\n",
      "3601/3601 [==============================] - 3s 744us/step - loss: 2.0501e-05\n",
      "Epoch 19/20\n",
      "3601/3601 [==============================] - 3s 745us/step - loss: 2.1017e-05\n",
      "Epoch 20/20\n",
      "3601/3601 [==============================] - 3s 735us/step - loss: 1.9360e-05\n"
     ]
    },
    {
     "data": {
      "text/plain": [
       "<keras.src.callbacks.History at 0x2c2494b6650>"
      ]
     },
     "execution_count": 47,
     "metadata": {},
     "output_type": "execute_result"
    }
   ],
   "source": [
    "model1 = Sequential()\n",
    "model1.add(Dense(7, activation='relu', input_dim = 7))\n",
    "# model.add(Dense(6, activation='relu'))\n",
    "# model.add(Dense(12,activation = 'relu'))\n",
    "model1.add(Dense(4,activation = 'relu'))\n",
    "# model.add(Dense(10, activation='relu'))\n",
    "model1.add(Dense(1, activation='linear'))  # Output layer with a multiple neurons\n",
    "\n",
    "# Compile the model\n",
    "model1.compile(optimizer='adam', loss='mean_squared_error')\n",
    "\n",
    "model1.fit(X_train_S1, y_train_S1, epochs=20, batch_size=32)"
   ]
  },
  {
   "cell_type": "code",
   "execution_count": 48,
   "metadata": {},
   "outputs": [
    {
     "name": "stdout",
     "output_type": "stream",
     "text": [
      "901/901 [==============================] - 1s 679us/step - loss: 5.8293e-06\n",
      "Mean Squared Error on Test Set: 5.829331257700687e-06\n"
     ]
    }
   ],
   "source": [
    "# Evaluate the model on the test set\n",
    "mse = model1.evaluate(X_test_S1, y_test_S1)\n",
    "print(f\"Mean Squared Error on Test Set: {mse}\")"
   ]
  },
  {
   "cell_type": "markdown",
   "metadata": {},
   "source": [
    "# Sp prediction"
   ]
  },
  {
   "cell_type": "code",
   "execution_count": 51,
   "metadata": {},
   "outputs": [],
   "source": [
    "X_Sp = X.copy()\n",
    "X_Sp = X_Sp.drop('iL', axis = 1)\n",
    "X_Sp = X_Sp.drop('iH', axis = 1)\n",
    "X_Sp = X_Sp.drop('EH', axis = 1)\n",
    "X_Sp = X_Sp.drop('EL', axis = 1)\n",
    "X_Sp = X_Sp.drop('S8_cur', axis = 1)\n",
    "X_Sp = X_Sp.drop('V_cur', axis = 1)\n",
    "\n",
    "y_Sp = y['Sp_cur.1']\n",
    "\n",
    "X_numpy_Sp = X_Sp.values\n",
    "y_numpy_Sp = y_Sp.values\n",
    "\n",
    "# Split the data into train and test sets\n",
    "X_train_Sp, X_test_Sp, y_train_Sp, y_test_Sp = train_test_split(X_numpy_Sp, y_numpy_Sp, test_size=0.2, random_state=42)"
   ]
  },
  {
   "cell_type": "code",
   "execution_count": 53,
   "metadata": {},
   "outputs": [
    {
     "name": "stdout",
     "output_type": "stream",
     "text": [
      "Epoch 1/20\n",
      "3601/3601 [==============================] - 3s 756us/step - loss: 0.0202\n",
      "Epoch 2/20\n",
      "3601/3601 [==============================] - 3s 727us/step - loss: 5.4421e-05\n",
      "Epoch 3/20\n",
      "3601/3601 [==============================] - 3s 743us/step - loss: 1.3968e-05\n",
      "Epoch 4/20\n",
      "3601/3601 [==============================] - 3s 720us/step - loss: 1.2121e-05\n",
      "Epoch 5/20\n",
      "3601/3601 [==============================] - 3s 725us/step - loss: 9.1367e-06\n",
      "Epoch 6/20\n",
      "3601/3601 [==============================] - 3s 738us/step - loss: 2.2125e-05\n",
      "Epoch 7/20\n",
      "3601/3601 [==============================] - 3s 777us/step - loss: 9.5209e-06\n",
      "Epoch 8/20\n",
      "3601/3601 [==============================] - 3s 761us/step - loss: 6.1427e-06\n",
      "Epoch 9/20\n",
      "3601/3601 [==============================] - 3s 732us/step - loss: 9.0970e-06\n",
      "Epoch 10/20\n",
      "3601/3601 [==============================] - 3s 769us/step - loss: 7.0770e-06\n",
      "Epoch 11/20\n",
      "3601/3601 [==============================] - 3s 738us/step - loss: 8.4796e-06\n",
      "Epoch 12/20\n",
      "3601/3601 [==============================] - 3s 775us/step - loss: 7.2010e-06\n",
      "Epoch 13/20\n",
      "3601/3601 [==============================] - 3s 755us/step - loss: 5.9086e-06\n",
      "Epoch 14/20\n",
      "3601/3601 [==============================] - 3s 731us/step - loss: 8.0015e-06\n",
      "Epoch 15/20\n",
      "3601/3601 [==============================] - 3s 740us/step - loss: 7.7807e-06\n",
      "Epoch 16/20\n",
      "3601/3601 [==============================] - 3s 753us/step - loss: 6.8305e-06\n",
      "Epoch 17/20\n",
      "3601/3601 [==============================] - 3s 730us/step - loss: 4.2962e-06\n",
      "Epoch 18/20\n",
      "3601/3601 [==============================] - 3s 741us/step - loss: 8.7152e-06\n",
      "Epoch 19/20\n",
      "3601/3601 [==============================] - 3s 709us/step - loss: 4.6283e-06\n",
      "Epoch 20/20\n",
      "3601/3601 [==============================] - 3s 722us/step - loss: 3.7147e-06\n"
     ]
    },
    {
     "data": {
      "text/plain": [
       "<keras.src.callbacks.History at 0x2c24dc57cd0>"
      ]
     },
     "execution_count": 53,
     "metadata": {},
     "output_type": "execute_result"
    }
   ],
   "source": [
    "modelp = Sequential()\n",
    "modelp.add(Dense(8, activation='relu', input_dim = 4))\n",
    "# model.add(Dense(6, activation='relu'))\n",
    "# model.add(Dense(12,activation = 'relu'))\n",
    "modelp.add(Dense(4,activation = 'relu'))\n",
    "# model.add(Dense(10, activation='relu'))\n",
    "modelp.add(Dense(1, activation='linear'))  # Output layer with a multiple neurons\n",
    "\n",
    "# Compile the model\n",
    "modelp.compile(optimizer='adam', loss='mean_squared_error')\n",
    "\n",
    "modelp.fit(X_train_Sp, y_train_Sp, epochs=20, batch_size=32)"
   ]
  },
  {
   "cell_type": "code",
   "execution_count": 54,
   "metadata": {},
   "outputs": [
    {
     "name": "stdout",
     "output_type": "stream",
     "text": [
      "901/901 [==============================] - 1s 646us/step - loss: 1.6831e-07\n",
      "Mean Squared Error on Test Set: 1.6831383220505813e-07\n"
     ]
    }
   ],
   "source": [
    "# Evaluate the model on the test set\n",
    "mse = modelp.evaluate(X_test_Sp, y_test_Sp)\n",
    "print(f\"Mean Squared Error on Test Set: {mse}\")"
   ]
  },
  {
   "cell_type": "markdown",
   "metadata": {},
   "source": [
    "# Important functions"
   ]
  },
  {
   "cell_type": "code",
   "execution_count": 68,
   "metadata": {},
   "outputs": [],
   "source": [
    "# Bisection method function\n",
    "def f(V, EH, EL, scales):\n",
    "    # Defined in the code\n",
    "    iH0 = 10\n",
    "    iL0 = 5\n",
    "    R = 8.3145\n",
    "    T = 298\n",
    "    F = 96490\n",
    "    ar = 0.96\n",
    "    return 2 * iH0 * ar * np.sinh((2 * F / (R * T)) * (V - EH)) + 2 * iL0 * ar * np.sinh((2 * F / (R * T)) * (V - EL)) + scales.iloc[0,-1]\n",
    "\n",
    "# Bisection method adjusted to accept EH, EL, and I\n",
    "def bisection_method(V_a, V_b, EH, EL, scales, tol=1e-9, max_iter=10000):\n",
    "    if f(V_a, EH, EL, scales) * f(V_b, EH, EL, scales) >= 0:\n",
    "        print(\"Bisection method fails.\")\n",
    "        return None\n",
    "\n",
    "    V_m = V_a\n",
    "    for _ in range(max_iter):\n",
    "        V_m = (V_a + V_b) / 2\n",
    "        if f(V_m, EH, EL, scales) == 0 or np.abs(f(V_m, EH, EL, scales)) < tol:   # (V_b - V_a)/2\n",
    "            return V_m\n",
    "\n",
    "        if f(V_m, EH, EL, scales) * f(V_a, EH, EL, scales) < 0:\n",
    "            V_b = V_m\n",
    "        else:\n",
    "            V_a = V_m\n",
    "\n",
    "    return V_m  # Return the approximation of the root\n",
    "\n",
    "\n",
    "def param_finder_BV(V,EH,EL):\n",
    "    iH0 = 10\n",
    "    iL0 = 5\n",
    "    R = 8.3145\n",
    "    T = 298\n",
    "    F = 96490\n",
    "    ar = 0.96\n",
    "    iH = 2*iH0*ar*np.sinh((4*F*(V-EH))/(2*R*T))\n",
    "    iL = 2*iL0*ar*np.sinh((4*F*(V-EL))/(2*R*T))\n",
    "    return iH, iL\n",
    "\n",
    "\n",
    "\n",
    "def next_prediction(prediction, scales):\n",
    "\n",
    "    array = []\n",
    "\n",
    "    S8,S4,S2,S1,Sp,EH,EL = param_finder_Nernst(prediction,scales)\n",
    "\n",
    "    # Initial brackets (guesses) for V\n",
    "    V_a, V_b = 2.45,2.15 # Adjust these values based on your knowledge of the possible range of V\n",
    "\n",
    "    # Find V\n",
    "    V = bisection_method(V_a, V_b, EH, EL, scales)\n",
    "\n",
    "    iH, iL = param_finder_BV(V,EH,EL)\n",
    "\n",
    "    V = (V - scales.iloc[0,4])/scales.iloc[1,4]\n",
    "\n",
    "    EH = (EH - scales.iloc[0,6])/scales.iloc[1,6]\n",
    "\n",
    "    EL = (EL - scales.iloc[0,7])/scales.iloc[1,7]\n",
    "\n",
    "    iH = (iH - scales.iloc[0,8])/scales.iloc[1,8]\n",
    "\n",
    "    iH = (iH - scales.iloc[0,9])/scales.iloc[1,9]\n",
    "\n",
    "\n",
    "    array.append(prediction[0][0])\n",
    "    array.append(prediction[0][1])\n",
    "    array.append(prediction[0][2])\n",
    "    array.append(prediction[0][3])\n",
    "    array.append(V)\n",
    "    array.append(prediction[0][4])\n",
    "    array.append(EH)\n",
    "    array.append(EL)\n",
    "    array.append(iH)\n",
    "    array.append(iL)\n",
    "\n",
    "    array = np.array([array])\n",
    "\n",
    "    return array \n",
    "\n",
    "\n",
    "\n",
    "\n",
    "def param_finder_Nernst(prediction, scales):\n",
    "    # Defined in the code\n",
    "    EH0 = 2.35\n",
    "    EL0 = 2.195\n",
    "    iH0 = 10\n",
    "    iL0 = 5\n",
    "    R = 8.3145\n",
    "    T = 298\n",
    "    F = 96490\n",
    "    fh = 0.7296\n",
    "    fl = 0.06654\n",
    "    ar = 0.96\n",
    "\n",
    "    # Unscale the concentration values to find S8 - Sp\n",
    "    S8 = (prediction[0][0] * scales.iloc[1,0]) + scales.iloc[0,0]\n",
    "    S4 = (prediction[0][1] * scales.iloc[1,1]) + scales.iloc[0,1]\n",
    "    S2 = (prediction[0][2] * scales.iloc[1,2]) + scales.iloc[0,2]\n",
    "    S1 = (prediction[0][3] * scales.iloc[1,3]) + scales.iloc[0,3]\n",
    "    Sp = (prediction[0][4] * scales.iloc[1,5]) + scales.iloc[0,5]\n",
    "\n",
    "    # S8 = (prediction[0][0])\n",
    "    # S4 = (prediction[0][1])\n",
    "    # S2 = (prediction[0][2])\n",
    "    # S1 = (prediction[0][3])\n",
    "    # Sp = (prediction[0][4])\n",
    "\n",
    "    # Unscaled EH, EL\n",
    "\n",
    "    EH = EH0 + (((R*T)/(4*F))*np.log(fh*(S8/(S4**2))))\n",
    "    EL = EL0 + (((R*T)/(4*F))*np.log(fl*(S4/((S1**2)*S2))))\n",
    "\n",
    "    return S8,S4,S2,S1,Sp,EH,EL"
   ]
  },
  {
   "cell_type": "code",
   "execution_count": 56,
   "metadata": {},
   "outputs": [],
   "source": [
    "X_numpy = X.values\n",
    "y_numpy = y.values"
   ]
  },
  {
   "cell_type": "code",
   "execution_count": 66,
   "metadata": {},
   "outputs": [],
   "source": [
    "\n",
    "def mass_prediction(input):\n",
    "    S8_features = ['S8_cur', 'S4_cur', 'V_cur', 'EH', 'EL']\n",
    "    S4_features = ['S8_cur', 'S4_cur','S2_cur', 'S1_cur', 'V_cur', 'Sp_cur','EH', 'EL']\n",
    "    S2_features = ['S4_cur','S2_cur', 'S1_cur', 'Sp_cur', 'EL']\n",
    "    S1_features = ['S4_cur','S2_cur', 'S1_cur', 'V_cur', 'Sp_cur','EH', 'EL']\n",
    "    Sp_features = ['S4_cur','S2_cur', 'S1_cur', 'Sp_cur']\n",
    "\n",
    "    # Reshape the input to ensure it's 2D\n",
    "    input_2d = input.reshape(1, -1)  # Reshape to 1 row, many columns\n",
    "\n",
    "    input_df = pd.DataFrame(input_2d, columns = ['S8_cur', 'S4_cur','S2_cur', 'S1_cur', 'V_cur', 'Sp_cur','EH', 'EL', 'iH', 'iL'])\n",
    "\n",
    "    S8_input = np.array(input_df[S8_features])\n",
    "    S4_input = np.array(input_df[S4_features])\n",
    "    S2_input = np.array(input_df[S2_features])\n",
    "    S1_input = np.array(input_df[S1_features])\n",
    "    Sp_input = np.array(input_df[Sp_features])\n",
    "\n",
    "    S8 = model8.predict(S8_input)[0][0]\n",
    "    S4 = model4.predict(S4_input)[0][0]\n",
    "    S2 = model2.predict(S2_input)[0][0]\n",
    "    S1 = model1.predict(S1_input)[0][0]\n",
    "    Sp = modelp.predict(Sp_input)[0][0]\n",
    "\n",
    "    array = [[S8,S4,S2,S1,Sp]]\n",
    "\n",
    "    return array\n"
   ]
  },
  {
   "cell_type": "markdown",
   "metadata": {},
   "source": [
    "# Multiple iterations"
   ]
  },
  {
   "cell_type": "code",
   "execution_count": 72,
   "metadata": {},
   "outputs": [
    {
     "name": "stdout",
     "output_type": "stream",
     "text": [
      "[[ 2.75583962 -2.76949624 -0.92914884 -0.23244107  2.28260561 -0.92512734\n",
      "   2.26101299  2.32763776 -0.96690088  0.96690088]]\n",
      "1/1 [==============================] - 0s 20ms/step\n",
      "1/1 [==============================] - 0s 21ms/step\n",
      "1/1 [==============================] - 0s 18ms/step\n",
      "1/1 [==============================] - 0s 18ms/step\n",
      "1/1 [==============================] - 0s 18ms/step\n",
      "1/1 [==============================] - 0s 18ms/step\n",
      "1/1 [==============================] - 0s 19ms/step\n",
      "1/1 [==============================] - 0s 18ms/step\n",
      "1/1 [==============================] - 0s 17ms/step\n",
      "1/1 [==============================] - 0s 17ms/step\n",
      "1/1 [==============================] - 0s 20ms/step\n",
      "1/1 [==============================] - 0s 18ms/step\n",
      "1/1 [==============================] - 0s 17ms/step\n",
      "1/1 [==============================] - 0s 17ms/step\n",
      "1/1 [==============================] - 0s 17ms/step\n",
      "1/1 [==============================] - 0s 16ms/step\n",
      "1/1 [==============================] - 0s 17ms/step\n",
      "1/1 [==============================] - 0s 16ms/step\n",
      "1/1 [==============================] - 0s 18ms/step\n",
      "1/1 [==============================] - 0s 18ms/step\n",
      "1/1 [==============================] - 0s 20ms/step\n",
      "1/1 [==============================] - 0s 18ms/step\n",
      "1/1 [==============================] - 0s 17ms/step\n",
      "1/1 [==============================] - 0s 18ms/step\n",
      "1/1 [==============================] - 0s 17ms/step\n"
     ]
    },
    {
     "data": {
      "image/png": "[encoded data removed]",
      "text/plain": [
       "<Figure size 640x480 with 1 Axes>"
      ]
     },
     "metadata": {},
     "output_type": "display_data"
    }
   ],
   "source": [
    "no_predictions = 5\n",
    "\n",
    "start = 1500\n",
    "\n",
    "input = np.array([X_numpy[start]])\n",
    "\n",
    "print(input)\n",
    "\n",
    "output = []\n",
    "\n",
    "scale = pd.read_excel('C:/Users/ADITYA/OneDrive - Imperial College London/Year 4/FYP/Final-year-project/VScode/Data/Scales_denoised.xlsx')\n",
    "\n",
    "for i in range(no_predictions):\n",
    "    \n",
    "    next_prediction_array = mass_prediction(input)\n",
    "\n",
    "    input = next_prediction(next_prediction_array, scale)\n",
    "\n",
    "    # print(input)\n",
    "\n",
    "    output.append(input)\n",
    "\n",
    "\n",
    "\n",
    "plot_actual = []\n",
    "\n",
    "for j in range(no_predictions):\n",
    "    plot_actual.append(X_numpy[no_predictions + start][0])\n",
    "\n",
    "plt.plot(plot_actual, label = 'Actual')\n",
    "\n",
    "\n",
    "\n",
    "mass = []\n",
    "for i in range(len(output)):\n",
    "    mass.append(output[i][0][0])\n",
    "\n",
    "plt.plot(mass, label = 'Predicted')\n",
    "plt.xlabel('Time step')\n",
    "plt.ylabel('Mass value')\n",
    "plt.title('Predicted vs Actual forecasting only masses')\n",
    "plt.legend()\n",
    "\n",
    "plt.show()"
   ]
  }
 ],
 "metadata": {
  "kernelspec": {
   "display_name": "Python 3",
   "language": "python",
   "name": "python3"
  },
  "language_info": {
   "codemirror_mode": {
    "name": "ipython",
    "version": 3
   },
   "file_extension": ".py",
   "mimetype": "text/x-python",
   "name": "python",
   "nbconvert_exporter": "python",
   "pygments_lexer": "ipython3",
   "version": "3.11.6"
  }
 },
 "nbformat": 4,
 "nbformat_minor": 2
}
